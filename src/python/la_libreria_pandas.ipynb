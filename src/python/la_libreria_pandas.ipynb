{
 "cells": [
  {
   "cell_type": "markdown",
   "metadata": {},
   "source": [
    "## La librería _pandas_"
   ]
  },
  {
   "cell_type": "markdown",
   "metadata": {},
   "source": [
    "Para el conjunto de datos de apps de Google Play 'googleplaystore.csv':\n",
    "\n",
    "- Crear un dataframe a partir del csv 'googleplaystore.csv'\n",
    "- Obtener el tipo de todas las columnas\n",
    "- Comprobar el número de valores nulos que tienen las columnas\n",
    "- Obtener el número de apps que no tienen ninguna review"
   ]
  },
  {
   "cell_type": "markdown",
   "metadata": {},
   "source": [
    "### Crear un dataframe a partir del csv 'googleplaystore.csv'"
   ]
  },
  {
   "cell_type": "code",
   "execution_count": 1,
   "metadata": {},
   "outputs": [
    {
     "data": {
      "text/html": [
       "<div>\n",
       "<style scoped>\n",
       "    .dataframe tbody tr th:only-of-type {\n",
       "        vertical-align: middle;\n",
       "    }\n",
       "\n",
       "    .dataframe tbody tr th {\n",
       "        vertical-align: top;\n",
       "    }\n",
       "\n",
       "    .dataframe thead th {\n",
       "        text-align: right;\n",
       "    }\n",
       "</style>\n",
       "<table border=\"1\" class=\"dataframe\">\n",
       "  <thead>\n",
       "    <tr style=\"text-align: right;\">\n",
       "      <th></th>\n",
       "      <th>Unnamed: 0</th>\n",
       "      <th>Id</th>\n",
       "      <th>App</th>\n",
       "      <th>Reviews</th>\n",
       "      <th>Rating</th>\n",
       "      <th>Current Version</th>\n",
       "      <th>Category</th>\n",
       "      <th>Type</th>\n",
       "      <th>Size</th>\n",
       "      <th>Price</th>\n",
       "      <th>Content Rating</th>\n",
       "    </tr>\n",
       "  </thead>\n",
       "  <tbody>\n",
       "    <tr>\n",
       "      <th>0</th>\n",
       "      <td>1</td>\n",
       "      <td>281656475</td>\n",
       "      <td>PAC-MAN Premium</td>\n",
       "      <td>21292</td>\n",
       "      <td>4.0</td>\n",
       "      <td>6.3.5</td>\n",
       "      <td>Games</td>\n",
       "      <td>Paid</td>\n",
       "      <td>96.1M</td>\n",
       "      <td>3.99$</td>\n",
       "      <td>Everyone</td>\n",
       "    </tr>\n",
       "    <tr>\n",
       "      <th>1</th>\n",
       "      <td>2</td>\n",
       "      <td>281796108</td>\n",
       "      <td>Evernote - stay organized</td>\n",
       "      <td>161065</td>\n",
       "      <td>4.0</td>\n",
       "      <td>8.2.2</td>\n",
       "      <td>Productivity</td>\n",
       "      <td>Free</td>\n",
       "      <td>151.2M</td>\n",
       "      <td>0.0$</td>\n",
       "      <td>Everyone</td>\n",
       "    </tr>\n",
       "    <tr>\n",
       "      <th>2</th>\n",
       "      <td>3</td>\n",
       "      <td>281940292</td>\n",
       "      <td>WeatherBug - Local Weather, Radar, Maps, Alerts</td>\n",
       "      <td>188583</td>\n",
       "      <td>3.5</td>\n",
       "      <td>5.0.0</td>\n",
       "      <td>Weather</td>\n",
       "      <td>Free</td>\n",
       "      <td>95.9M</td>\n",
       "      <td>0.0$</td>\n",
       "      <td>Everyone</td>\n",
       "    </tr>\n",
       "    <tr>\n",
       "      <th>3</th>\n",
       "      <td>4</td>\n",
       "      <td>282614216</td>\n",
       "      <td>eBay: Best App to Buy, Sell, Save! Online Shop...</td>\n",
       "      <td>262241</td>\n",
       "      <td>4.0</td>\n",
       "      <td>5.10.0</td>\n",
       "      <td>Shopping</td>\n",
       "      <td>Free</td>\n",
       "      <td>122.6M</td>\n",
       "      <td>0.0$</td>\n",
       "      <td>Everyone 12+</td>\n",
       "    </tr>\n",
       "    <tr>\n",
       "      <th>4</th>\n",
       "      <td>5</td>\n",
       "      <td>282935706</td>\n",
       "      <td>Bible</td>\n",
       "      <td>985920</td>\n",
       "      <td>4.5</td>\n",
       "      <td>7.5.1</td>\n",
       "      <td>Reference</td>\n",
       "      <td>Free</td>\n",
       "      <td>88.5M</td>\n",
       "      <td>0.0$</td>\n",
       "      <td>Everyone</td>\n",
       "    </tr>\n",
       "    <tr>\n",
       "      <th>...</th>\n",
       "      <td>...</td>\n",
       "      <td>...</td>\n",
       "      <td>...</td>\n",
       "      <td>...</td>\n",
       "      <td>...</td>\n",
       "      <td>...</td>\n",
       "      <td>...</td>\n",
       "      <td>...</td>\n",
       "      <td>...</td>\n",
       "      <td>...</td>\n",
       "      <td>...</td>\n",
       "    </tr>\n",
       "    <tr>\n",
       "      <th>7192</th>\n",
       "      <td>11081</td>\n",
       "      <td>1187617475</td>\n",
       "      <td>Kubik</td>\n",
       "      <td>142</td>\n",
       "      <td>4.5</td>\n",
       "      <td>1.3</td>\n",
       "      <td>Games</td>\n",
       "      <td>Free</td>\n",
       "      <td>120.8M</td>\n",
       "      <td>0.0$</td>\n",
       "      <td>Everyone</td>\n",
       "    </tr>\n",
       "    <tr>\n",
       "      <th>7193</th>\n",
       "      <td>11082</td>\n",
       "      <td>1187682390</td>\n",
       "      <td>VR Roller-Coaster</td>\n",
       "      <td>30</td>\n",
       "      <td>4.5</td>\n",
       "      <td>0.9</td>\n",
       "      <td>Games</td>\n",
       "      <td>Free</td>\n",
       "      <td>115.2M</td>\n",
       "      <td>0.0$</td>\n",
       "      <td>Everyone</td>\n",
       "    </tr>\n",
       "    <tr>\n",
       "      <th>7194</th>\n",
       "      <td>11087</td>\n",
       "      <td>1187779532</td>\n",
       "      <td>Bret Michaels Emojis + Lyric Keyboard</td>\n",
       "      <td>15</td>\n",
       "      <td>4.5</td>\n",
       "      <td>1.0.2</td>\n",
       "      <td>Utilities</td>\n",
       "      <td>Paid</td>\n",
       "      <td>106.2M</td>\n",
       "      <td>1.99$</td>\n",
       "      <td>Teen</td>\n",
       "    </tr>\n",
       "    <tr>\n",
       "      <th>7195</th>\n",
       "      <td>11089</td>\n",
       "      <td>1187838770</td>\n",
       "      <td>VR Roller Coaster World - Virtual Reality</td>\n",
       "      <td>85</td>\n",
       "      <td>4.5</td>\n",
       "      <td>1.0.15</td>\n",
       "      <td>Games</td>\n",
       "      <td>Free</td>\n",
       "      <td>92.7M</td>\n",
       "      <td>0.0$</td>\n",
       "      <td>Everyone 12+</td>\n",
       "    </tr>\n",
       "    <tr>\n",
       "      <th>7196</th>\n",
       "      <td>11097</td>\n",
       "      <td>1188375727</td>\n",
       "      <td>Escape the Sweet Shop Series</td>\n",
       "      <td>3</td>\n",
       "      <td>5.0</td>\n",
       "      <td>1.0</td>\n",
       "      <td>Games</td>\n",
       "      <td>Free</td>\n",
       "      <td>86.7M</td>\n",
       "      <td>0.0$</td>\n",
       "      <td>Everyone</td>\n",
       "    </tr>\n",
       "  </tbody>\n",
       "</table>\n",
       "<p>7197 rows × 11 columns</p>\n",
       "</div>"
      ],
      "text/plain": [
       "      Unnamed: 0          Id  \\\n",
       "0              1   281656475   \n",
       "1              2   281796108   \n",
       "2              3   281940292   \n",
       "3              4   282614216   \n",
       "4              5   282935706   \n",
       "...          ...         ...   \n",
       "7192       11081  1187617475   \n",
       "7193       11082  1187682390   \n",
       "7194       11087  1187779532   \n",
       "7195       11089  1187838770   \n",
       "7196       11097  1188375727   \n",
       "\n",
       "                                                    App  Reviews  Rating  \\\n",
       "0                                       PAC-MAN Premium    21292     4.0   \n",
       "1                             Evernote - stay organized   161065     4.0   \n",
       "2       WeatherBug - Local Weather, Radar, Maps, Alerts   188583     3.5   \n",
       "3     eBay: Best App to Buy, Sell, Save! Online Shop...   262241     4.0   \n",
       "4                                                 Bible   985920     4.5   \n",
       "...                                                 ...      ...     ...   \n",
       "7192                                              Kubik      142     4.5   \n",
       "7193                                  VR Roller-Coaster       30     4.5   \n",
       "7194              Bret Michaels Emojis + Lyric Keyboard       15     4.5   \n",
       "7195          VR Roller Coaster World - Virtual Reality       85     4.5   \n",
       "7196                       Escape the Sweet Shop Series        3     5.0   \n",
       "\n",
       "     Current Version      Category  Type    Size  Price Content Rating  \n",
       "0              6.3.5         Games  Paid   96.1M  3.99$       Everyone  \n",
       "1              8.2.2  Productivity  Free  151.2M   0.0$       Everyone  \n",
       "2              5.0.0       Weather  Free   95.9M   0.0$       Everyone  \n",
       "3             5.10.0      Shopping  Free  122.6M   0.0$   Everyone 12+  \n",
       "4              7.5.1     Reference  Free   88.5M   0.0$       Everyone  \n",
       "...              ...           ...   ...     ...    ...            ...  \n",
       "7192             1.3         Games  Free  120.8M   0.0$       Everyone  \n",
       "7193             0.9         Games  Free  115.2M   0.0$       Everyone  \n",
       "7194           1.0.2     Utilities  Paid  106.2M  1.99$           Teen  \n",
       "7195          1.0.15         Games  Free   92.7M   0.0$   Everyone 12+  \n",
       "7196             1.0         Games  Free   86.7M   0.0$       Everyone  \n",
       "\n",
       "[7197 rows x 11 columns]"
      ]
     },
     "metadata": {},
     "output_type": "display_data"
    }
   ],
   "source": [
    "import pandas as pd\n",
    "\n",
    "dataset = pd.read_csv('../../data/app_store_transformed.csv')\n",
    "\n",
    "display(dataset)"
   ]
  },
  {
   "cell_type": "markdown",
   "metadata": {},
   "source": [
    "### Obtener el tipo de todas las columnas"
   ]
  },
  {
   "cell_type": "code",
   "execution_count": 2,
   "metadata": {},
   "outputs": [
    {
     "data": {
      "text/plain": [
       "Unnamed: 0           int64\n",
       "Id                   int64\n",
       "App                 object\n",
       "Reviews              int64\n",
       "Rating             float64\n",
       "Current Version     object\n",
       "Category            object\n",
       "Type                object\n",
       "Size                object\n",
       "Price               object\n",
       "Content Rating      object\n",
       "dtype: object"
      ]
     },
     "metadata": {},
     "output_type": "display_data"
    }
   ],
   "source": [
    "display(dataset.dtypes)"
   ]
  },
  {
   "cell_type": "markdown",
   "metadata": {},
   "source": [
    "### Comprobar el número de valores nulos que tienen las columnas"
   ]
  },
  {
   "cell_type": "code",
   "execution_count": 3,
   "metadata": {},
   "outputs": [
    {
     "data": {
      "text/plain": [
       "Unnamed: 0         0\n",
       "Id                 0\n",
       "App                0\n",
       "Reviews            0\n",
       "Rating             0\n",
       "Current Version    0\n",
       "Category           0\n",
       "Type               0\n",
       "Size               0\n",
       "Price              0\n",
       "Content Rating     0\n",
       "dtype: int64"
      ]
     },
     "metadata": {},
     "output_type": "display_data"
    }
   ],
   "source": [
    "display(dataset.isnull().sum())"
   ]
  },
  {
   "cell_type": "markdown",
   "metadata": {},
   "source": [
    "### Obtener el número de apps que no tienen ninguna review"
   ]
  },
  {
   "cell_type": "code",
   "execution_count": 4,
   "metadata": {},
   "outputs": [
    {
     "name": "stdout",
     "output_type": "stream",
     "text": [
      "Numero de apps sin review asociadas: 929\n"
     ]
    }
   ],
   "source": [
    "unreviewed_apps = dataset.loc[dataset['Reviews'] == 0].shape[0]\n",
    "\n",
    "print(f'Numero de apps sin review asociadas: {unreviewed_apps}')"
   ]
  }
 ],
 "metadata": {
  "kernelspec": {
   "display_name": "Python 3",
   "language": "python",
   "name": "python3"
  },
  "language_info": {
   "codemirror_mode": {
    "name": "ipython",
    "version": 3
   },
   "file_extension": ".py",
   "mimetype": "text/x-python",
   "name": "python",
   "nbconvert_exporter": "python",
   "pygments_lexer": "ipython3",
   "version": "3.11.4"
  },
  "orig_nbformat": 4
 },
 "nbformat": 4,
 "nbformat_minor": 2
}
