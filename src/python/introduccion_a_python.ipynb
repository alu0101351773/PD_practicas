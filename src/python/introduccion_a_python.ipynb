{
 "cells": [
  {
   "cell_type": "markdown",
   "metadata": {},
   "source": [
    "# Introducción a _python_"
   ]
  },
  {
   "cell_type": "markdown",
   "metadata": {},
   "source": [
    "Cargar el fichero de Sentry: Earth Impact Monitoring que están en \"cneos_sentry_summary_data.csv\" (Fuente: [Center for Near Earth Object Studies - NASA](https://cneos.jpl.nasa.gov/sentry/#legend)).Calcular:\n",
    "\n",
    "- Probabilidad media de que impacte algún objeto en la Tierra.\n",
    "- Diámetro máximo de los objetos recogidos en la base de datos.\n",
    "- Rango medio de años en formato `[min_year, max_year]`.\n",
    "- Nombre del objeto que viaja a mayor velocidad."
   ]
  },
  {
   "cell_type": "markdown",
   "metadata": {},
   "source": [
    "## Lectura de fichero y creación de estructura de datos"
   ]
  },
  {
   "cell_type": "code",
   "execution_count": 1,
   "metadata": {},
   "outputs": [],
   "source": [
    "# Creación de estructura de datos\n",
    "dataset = []\n",
    "\n",
    "# Lectura de fichero\n",
    "with open('../../data/cneos_sentry_summary_data.csv', 'r') as file:\n",
    "    # Lectura de cabecera\n",
    "    header = file.readline().strip().split(',')\n",
    "    # Lectura de datos\n",
    "    for line in file:\n",
    "        line = line.strip()\n",
    "        line = [val.removeprefix('\"').removesuffix('\"') for val in line.split(',')] \n",
    "        dataset.append({\n",
    "            'Object Designation': line[0],\n",
    "            'Year Range': [int(value) for value in line[1].split('-')],\n",
    "            'Potential Impacts': int(line[2]),\n",
    "            'cum Impact Probability': float(line[3]),\n",
    "            'V_infinity': float(line[4]),\n",
    "            'H': float(line[5]),\n",
    "            'Estimated Diameter': float(line[6]),\n",
    "            'cum Palermo Scale': float(line[7]),\n",
    "            'max Palermo Scale': float(line[8]),\n",
    "            'max Torino Scale': int(line[9]) if line[9] != '' else 0,\n",
    "        })"
   ]
  },
  {
   "cell_type": "markdown",
   "metadata": {},
   "source": [
    "## Probabilidad media de que impacte algún objeto en la tierra"
   ]
  },
  {
   "cell_type": "code",
   "execution_count": 2,
   "metadata": {},
   "outputs": [
    {
     "name": "stdout",
     "output_type": "stream",
     "text": [
      "Probabilidad media de impacto: 0.5233%\n"
     ]
    }
   ],
   "source": [
    "impact_probability = sum([row['cum Impact Probability'] for row in dataset]) / len(dataset)\n",
    "\n",
    "print(f'Probabilidad media de impacto: {impact_probability * 100:.4f}%')"
   ]
  },
  {
   "cell_type": "markdown",
   "metadata": {},
   "source": [
    "## Diámetro máximo de los objetos recogidos"
   ]
  },
  {
   "cell_type": "code",
   "execution_count": 3,
   "metadata": {},
   "outputs": [
    {
     "name": "stdout",
     "output_type": "stream",
     "text": [
      "Diametro maximo de objetos: 1.3 Km\n"
     ]
    }
   ],
   "source": [
    "max_diameter = max([row[\"Estimated Diameter\"] for row in dataset])\n",
    "\n",
    "print(f'Diametro maximo de objetos: {max_diameter} Km')"
   ]
  },
  {
   "cell_type": "markdown",
   "metadata": {},
   "source": [
    "## Rango medio de años en formato `[min_year, max_year]`"
   ]
  },
  {
   "cell_type": "code",
   "execution_count": 4,
   "metadata": {},
   "outputs": [
    {
     "name": "stdout",
     "output_type": "stream",
     "text": [
      "Rango medio de años: [2095.8, 2136.44]\n"
     ]
    }
   ],
   "source": [
    "lower_bound = sum(row['Year Range'][0] for row in dataset) / len(dataset)\n",
    "upper_bound = sum(row['Year Range'][1] for row in dataset) / len(dataset)\n",
    "\n",
    "years_range = [lower_bound, upper_bound]\n",
    "\n",
    "print(f'Rango medio de años: {years_range}')"
   ]
  },
  {
   "cell_type": "markdown",
   "metadata": {},
   "source": [
    "## Nombre del objeto que viaja a mayor velocidad"
   ]
  },
  {
   "cell_type": "code",
   "execution_count": 5,
   "metadata": {},
   "outputs": [
    {
     "name": "stdout",
     "output_type": "stream",
     "text": [
      "Objeto mas veloz del conjunto de datos: (2022 PX1)\n"
     ]
    }
   ],
   "source": [
    "fastest_item = max(\n",
    "    dataset,\n",
    "    key = lambda x: x.get('V_infinity')\n",
    ")\n",
    "\n",
    "print(f'Objeto mas veloz del conjunto de datos: {fastest_item[\"Object Designation\"]}')"
   ]
  }
 ],
 "metadata": {
  "kernelspec": {
   "display_name": "Python 3",
   "language": "python",
   "name": "python3"
  },
  "language_info": {
   "codemirror_mode": {
    "name": "ipython",
    "version": 3
   },
   "file_extension": ".py",
   "mimetype": "text/x-python",
   "name": "python",
   "nbconvert_exporter": "python",
   "pygments_lexer": "ipython3",
   "version": "3.11.4"
  },
  "orig_nbformat": 4
 },
 "nbformat": 4,
 "nbformat_minor": 2
}
