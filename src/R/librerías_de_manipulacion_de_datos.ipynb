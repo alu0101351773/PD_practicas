{
  "nbformat": 4,
  "nbformat_minor": 0,
  "metadata": {
    "kernelspec": {
      "display_name": "R",
      "name": "ir"
    },
    "colab": {
      "provenance": []
    },
    "language_info": {
      "name": "R"
    }
  },
  "cells": [
    {
      "cell_type": "markdown",
      "source": [
        "# Las librerías de manipulación de datos"
      ],
      "metadata": {
        "id": "jzuXP29QYBn0"
      }
    },
    {
      "cell_type": "markdown",
      "source": [
        "## Leer del archivo EXCEL `Canarias_poblacion.xls` la hoja 2019 y cargar en un `data.frame` llamado `can_pob_2019`"
      ],
      "metadata": {
        "id": "bDC2oJTqYFxD"
      }
    },
    {
      "cell_type": "code",
      "source": [
        "install.packages('openxlsx')\n",
        "\n",
        "library(openxlsx)\n",
        "library(tidyverse)\n",
        "library(readxl)"
      ],
      "metadata": {
        "id": "EtOuedoM-3av",
        "colab": {
          "base_uri": "https://localhost:8080/"
        },
        "outputId": "80ba17ba-93a8-4738-ab7c-8fba38077fa9"
      },
      "execution_count": 83,
      "outputs": [
        {
          "output_type": "stream",
          "name": "stderr",
          "text": [
            "Installing package into ‘/usr/local/lib/R/site-library’\n",
            "(as ‘lib’ is unspecified)\n",
            "\n"
          ]
        }
      ]
    },
    {
      "cell_type": "code",
      "source": [
        "data <- read_xls(\n",
        "    path = 'Canarias_poblacion.xls',\n",
        "    sheet = '2019'\n",
        ")\n",
        "can_pob_2019 <- data.frame(data)\n",
        "head(can_pob_2019)"
      ],
      "metadata": {
        "id": "o0eQ4o9q_e5j",
        "colab": {
          "base_uri": "https://localhost:8080/",
          "height": 286
        },
        "outputId": "cbf9ce60-9388-4721-ef46-962df8d65806"
      },
      "execution_count": 84,
      "outputs": [
        {
          "output_type": "display_data",
          "data": {
            "text/html": [
              "<table class=\"dataframe\">\n",
              "<caption>A data.frame: 6 × 3</caption>\n",
              "<thead>\n",
              "\t<tr><th></th><th scope=col>Isla</th><th scope=col>Municipio</th><th scope=col>Población</th></tr>\n",
              "\t<tr><th></th><th scope=col>&lt;chr&gt;</th><th scope=col>&lt;chr&gt;</th><th scope=col>&lt;dbl&gt;</th></tr>\n",
              "</thead>\n",
              "<tbody>\n",
              "\t<tr><th scope=row>1</th><td>LANZAROTE</td><td>Arrecife     </td><td>62988</td></tr>\n",
              "\t<tr><th scope=row>2</th><td>LANZAROTE</td><td>Haría        </td><td> 5123</td></tr>\n",
              "\t<tr><th scope=row>3</th><td>LANZAROTE</td><td>San Bartolomé</td><td>18816</td></tr>\n",
              "\t<tr><th scope=row>4</th><td>LANZAROTE</td><td>Teguise      </td><td>22342</td></tr>\n",
              "\t<tr><th scope=row>5</th><td>LANZAROTE</td><td>Tías         </td><td>20170</td></tr>\n",
              "\t<tr><th scope=row>6</th><td>LANZAROTE</td><td>Tinajo       </td><td> 6279</td></tr>\n",
              "</tbody>\n",
              "</table>\n"
            ],
            "text/markdown": "\nA data.frame: 6 × 3\n\n| <!--/--> | Isla &lt;chr&gt; | Municipio &lt;chr&gt; | Población &lt;dbl&gt; |\n|---|---|---|---|\n| 1 | LANZAROTE | Arrecife      | 62988 |\n| 2 | LANZAROTE | Haría         |  5123 |\n| 3 | LANZAROTE | San Bartolomé | 18816 |\n| 4 | LANZAROTE | Teguise       | 22342 |\n| 5 | LANZAROTE | Tías          | 20170 |\n| 6 | LANZAROTE | Tinajo        |  6279 |\n\n",
            "text/latex": "A data.frame: 6 × 3\n\\begin{tabular}{r|lll}\n  & Isla & Municipio & Población\\\\\n  & <chr> & <chr> & <dbl>\\\\\n\\hline\n\t1 & LANZAROTE & Arrecife      & 62988\\\\\n\t2 & LANZAROTE & Haría         &  5123\\\\\n\t3 & LANZAROTE & San Bartolomé & 18816\\\\\n\t4 & LANZAROTE & Teguise       & 22342\\\\\n\t5 & LANZAROTE & Tías          & 20170\\\\\n\t6 & LANZAROTE & Tinajo        &  6279\\\\\n\\end{tabular}\n",
            "text/plain": [
              "  Isla      Municipio     Población\n",
              "1 LANZAROTE Arrecife      62988    \n",
              "2 LANZAROTE Haría          5123    \n",
              "3 LANZAROTE San Bartolomé 18816    \n",
              "4 LANZAROTE Teguise       22342    \n",
              "5 LANZAROTE Tías          20170    \n",
              "6 LANZAROTE Tinajo         6279    "
            ]
          },
          "metadata": {}
        }
      ]
    },
    {
      "cell_type": "markdown",
      "source": [
        "## Cargar ahora las dos hojas restantes (2018 y 2017) en crear un único `data.frame` `can_pob` con filas los municipios y columnas los 3 años"
      ],
      "metadata": {
        "id": "vjgT5mY2Yetb"
      }
    },
    {
      "cell_type": "code",
      "source": [
        "data <- read_xls(\n",
        "    path = 'Canarias_poblacion.xls',\n",
        "    sheet = '2018'\n",
        ")\n",
        "can_pob_2018 <- data.frame(data)\n",
        "head(can_pob_2018)\n",
        "\n",
        "\n",
        "data <- read_xls(\n",
        "    path = 'Canarias_poblacion.xls',\n",
        "    sheet = '2017'\n",
        ")\n",
        "can_pob_2017 <- data.frame(data)\n",
        "head(can_pob_2017)"
      ],
      "metadata": {
        "id": "oiMMkr5H9nap",
        "colab": {
          "base_uri": "https://localhost:8080/",
          "height": 555
        },
        "outputId": "ff67c0d4-189a-448f-8e3d-e16f64566122"
      },
      "execution_count": 85,
      "outputs": [
        {
          "output_type": "display_data",
          "data": {
            "text/html": [
              "<table class=\"dataframe\">\n",
              "<caption>A data.frame: 6 × 3</caption>\n",
              "<thead>\n",
              "\t<tr><th></th><th scope=col>Isla</th><th scope=col>Municipio</th><th scope=col>Población</th></tr>\n",
              "\t<tr><th></th><th scope=col>&lt;chr&gt;</th><th scope=col>&lt;chr&gt;</th><th scope=col>&lt;dbl&gt;</th></tr>\n",
              "</thead>\n",
              "<tbody>\n",
              "\t<tr><th scope=row>1</th><td>LANZAROTE</td><td>Arrecife     </td><td>61351</td></tr>\n",
              "\t<tr><th scope=row>2</th><td>LANZAROTE</td><td>Haría        </td><td> 4969</td></tr>\n",
              "\t<tr><th scope=row>3</th><td>LANZAROTE</td><td>San Bartolomé</td><td>18327</td></tr>\n",
              "\t<tr><th scope=row>4</th><td>LANZAROTE</td><td>Teguise      </td><td>22122</td></tr>\n",
              "\t<tr><th scope=row>5</th><td>LANZAROTE</td><td>Tías         </td><td>20006</td></tr>\n",
              "\t<tr><th scope=row>6</th><td>LANZAROTE</td><td>Tinajo       </td><td> 6119</td></tr>\n",
              "</tbody>\n",
              "</table>\n"
            ],
            "text/markdown": "\nA data.frame: 6 × 3\n\n| <!--/--> | Isla &lt;chr&gt; | Municipio &lt;chr&gt; | Población &lt;dbl&gt; |\n|---|---|---|---|\n| 1 | LANZAROTE | Arrecife      | 61351 |\n| 2 | LANZAROTE | Haría         |  4969 |\n| 3 | LANZAROTE | San Bartolomé | 18327 |\n| 4 | LANZAROTE | Teguise       | 22122 |\n| 5 | LANZAROTE | Tías          | 20006 |\n| 6 | LANZAROTE | Tinajo        |  6119 |\n\n",
            "text/latex": "A data.frame: 6 × 3\n\\begin{tabular}{r|lll}\n  & Isla & Municipio & Población\\\\\n  & <chr> & <chr> & <dbl>\\\\\n\\hline\n\t1 & LANZAROTE & Arrecife      & 61351\\\\\n\t2 & LANZAROTE & Haría         &  4969\\\\\n\t3 & LANZAROTE & San Bartolomé & 18327\\\\\n\t4 & LANZAROTE & Teguise       & 22122\\\\\n\t5 & LANZAROTE & Tías          & 20006\\\\\n\t6 & LANZAROTE & Tinajo        &  6119\\\\\n\\end{tabular}\n",
            "text/plain": [
              "  Isla      Municipio     Población\n",
              "1 LANZAROTE Arrecife      61351    \n",
              "2 LANZAROTE Haría          4969    \n",
              "3 LANZAROTE San Bartolomé 18327    \n",
              "4 LANZAROTE Teguise       22122    \n",
              "5 LANZAROTE Tías          20006    \n",
              "6 LANZAROTE Tinajo         6119    "
            ]
          },
          "metadata": {}
        },
        {
          "output_type": "display_data",
          "data": {
            "text/html": [
              "<table class=\"dataframe\">\n",
              "<caption>A data.frame: 6 × 3</caption>\n",
              "<thead>\n",
              "\t<tr><th></th><th scope=col>Isla</th><th scope=col>Municipio</th><th scope=col>Población</th></tr>\n",
              "\t<tr><th></th><th scope=col>&lt;chr&gt;</th><th scope=col>&lt;chr&gt;</th><th scope=col>&lt;dbl&gt;</th></tr>\n",
              "</thead>\n",
              "<tbody>\n",
              "\t<tr><th scope=row>1</th><td>LANZAROTE</td><td>Arrecife     </td><td>59771</td></tr>\n",
              "\t<tr><th scope=row>2</th><td>LANZAROTE</td><td>Haría        </td><td> 4858</td></tr>\n",
              "\t<tr><th scope=row>3</th><td>LANZAROTE</td><td>San Bartolomé</td><td>18249</td></tr>\n",
              "\t<tr><th scope=row>4</th><td>LANZAROTE</td><td>Teguise      </td><td>21896</td></tr>\n",
              "\t<tr><th scope=row>5</th><td>LANZAROTE</td><td>Tías         </td><td>19964</td></tr>\n",
              "\t<tr><th scope=row>6</th><td>LANZAROTE</td><td>Tinajo       </td><td> 6028</td></tr>\n",
              "</tbody>\n",
              "</table>\n"
            ],
            "text/markdown": "\nA data.frame: 6 × 3\n\n| <!--/--> | Isla &lt;chr&gt; | Municipio &lt;chr&gt; | Población &lt;dbl&gt; |\n|---|---|---|---|\n| 1 | LANZAROTE | Arrecife      | 59771 |\n| 2 | LANZAROTE | Haría         |  4858 |\n| 3 | LANZAROTE | San Bartolomé | 18249 |\n| 4 | LANZAROTE | Teguise       | 21896 |\n| 5 | LANZAROTE | Tías          | 19964 |\n| 6 | LANZAROTE | Tinajo        |  6028 |\n\n",
            "text/latex": "A data.frame: 6 × 3\n\\begin{tabular}{r|lll}\n  & Isla & Municipio & Población\\\\\n  & <chr> & <chr> & <dbl>\\\\\n\\hline\n\t1 & LANZAROTE & Arrecife      & 59771\\\\\n\t2 & LANZAROTE & Haría         &  4858\\\\\n\t3 & LANZAROTE & San Bartolomé & 18249\\\\\n\t4 & LANZAROTE & Teguise       & 21896\\\\\n\t5 & LANZAROTE & Tías          & 19964\\\\\n\t6 & LANZAROTE & Tinajo        &  6028\\\\\n\\end{tabular}\n",
            "text/plain": [
              "  Isla      Municipio     Población\n",
              "1 LANZAROTE Arrecife      59771    \n",
              "2 LANZAROTE Haría          4858    \n",
              "3 LANZAROTE San Bartolomé 18249    \n",
              "4 LANZAROTE Teguise       21896    \n",
              "5 LANZAROTE Tías          19964    \n",
              "6 LANZAROTE Tinajo         6028    "
            ]
          },
          "metadata": {}
        }
      ]
    },
    {
      "cell_type": "code",
      "source": [
        "can_pob <- can_pob_2017 %>%\n",
        "    left_join(., can_pob_2018, by = 'Municipio') %>%\n",
        "    left_join(., can_pob_2019, by = 'Municipio') %>%\n",
        "    select(Isla.x, Municipio, Población.x, Población.y, Población) %>%\n",
        "    rename(\n",
        "        'Isla' = Isla.x,\n",
        "        'Pob_2017' = Población.x,\n",
        "        'Pob_2018' = Población.y,\n",
        "        'Pob_2019' = Población\n",
        "    )\n",
        "\n",
        "head(can_pob)"
      ],
      "metadata": {
        "id": "lSPNaxFNBYv7",
        "colab": {
          "base_uri": "https://localhost:8080/",
          "height": 286
        },
        "outputId": "5c82df0b-f2f5-4962-bad0-f7fddc3cd8d9"
      },
      "execution_count": 86,
      "outputs": [
        {
          "output_type": "display_data",
          "data": {
            "text/html": [
              "<table class=\"dataframe\">\n",
              "<caption>A data.frame: 6 × 5</caption>\n",
              "<thead>\n",
              "\t<tr><th></th><th scope=col>Isla</th><th scope=col>Municipio</th><th scope=col>Pob_2017</th><th scope=col>Pob_2018</th><th scope=col>Pob_2019</th></tr>\n",
              "\t<tr><th></th><th scope=col>&lt;chr&gt;</th><th scope=col>&lt;chr&gt;</th><th scope=col>&lt;dbl&gt;</th><th scope=col>&lt;dbl&gt;</th><th scope=col>&lt;dbl&gt;</th></tr>\n",
              "</thead>\n",
              "<tbody>\n",
              "\t<tr><th scope=row>1</th><td>LANZAROTE</td><td>Arrecife     </td><td>59771</td><td>61351</td><td>62988</td></tr>\n",
              "\t<tr><th scope=row>2</th><td>LANZAROTE</td><td>Haría        </td><td> 4858</td><td> 4969</td><td> 5123</td></tr>\n",
              "\t<tr><th scope=row>3</th><td>LANZAROTE</td><td>San Bartolomé</td><td>18249</td><td>18327</td><td>18816</td></tr>\n",
              "\t<tr><th scope=row>4</th><td>LANZAROTE</td><td>Teguise      </td><td>21896</td><td>22122</td><td>22342</td></tr>\n",
              "\t<tr><th scope=row>5</th><td>LANZAROTE</td><td>Tías         </td><td>19964</td><td>20006</td><td>20170</td></tr>\n",
              "\t<tr><th scope=row>6</th><td>LANZAROTE</td><td>Tinajo       </td><td> 6028</td><td> 6119</td><td> 6279</td></tr>\n",
              "</tbody>\n",
              "</table>\n"
            ],
            "text/markdown": "\nA data.frame: 6 × 5\n\n| <!--/--> | Isla &lt;chr&gt; | Municipio &lt;chr&gt; | Pob_2017 &lt;dbl&gt; | Pob_2018 &lt;dbl&gt; | Pob_2019 &lt;dbl&gt; |\n|---|---|---|---|---|---|\n| 1 | LANZAROTE | Arrecife      | 59771 | 61351 | 62988 |\n| 2 | LANZAROTE | Haría         |  4858 |  4969 |  5123 |\n| 3 | LANZAROTE | San Bartolomé | 18249 | 18327 | 18816 |\n| 4 | LANZAROTE | Teguise       | 21896 | 22122 | 22342 |\n| 5 | LANZAROTE | Tías          | 19964 | 20006 | 20170 |\n| 6 | LANZAROTE | Tinajo        |  6028 |  6119 |  6279 |\n\n",
            "text/latex": "A data.frame: 6 × 5\n\\begin{tabular}{r|lllll}\n  & Isla & Municipio & Pob\\_2017 & Pob\\_2018 & Pob\\_2019\\\\\n  & <chr> & <chr> & <dbl> & <dbl> & <dbl>\\\\\n\\hline\n\t1 & LANZAROTE & Arrecife      & 59771 & 61351 & 62988\\\\\n\t2 & LANZAROTE & Haría         &  4858 &  4969 &  5123\\\\\n\t3 & LANZAROTE & San Bartolomé & 18249 & 18327 & 18816\\\\\n\t4 & LANZAROTE & Teguise       & 21896 & 22122 & 22342\\\\\n\t5 & LANZAROTE & Tías          & 19964 & 20006 & 20170\\\\\n\t6 & LANZAROTE & Tinajo        &  6028 &  6119 &  6279\\\\\n\\end{tabular}\n",
            "text/plain": [
              "  Isla      Municipio     Pob_2017 Pob_2018 Pob_2019\n",
              "1 LANZAROTE Arrecife      59771    61351    62988   \n",
              "2 LANZAROTE Haría          4858     4969     5123   \n",
              "3 LANZAROTE San Bartolomé 18249    18327    18816   \n",
              "4 LANZAROTE Teguise       21896    22122    22342   \n",
              "5 LANZAROTE Tías          19964    20006    20170   \n",
              "6 LANZAROTE Tinajo         6028     6119     6279   "
            ]
          },
          "metadata": {}
        }
      ]
    },
    {
      "cell_type": "markdown",
      "source": [
        "## A partir del `data.frame` `can_pob` crear un vector llamado __Variables__ que contenga los nombres de las variables"
      ],
      "metadata": {
        "id": "KW0TB02fYssi"
      }
    },
    {
      "cell_type": "code",
      "source": [
        "variables = colnames(can_pob)\n",
        "variables"
      ],
      "metadata": {
        "id": "YO-cjqIrX25I",
        "colab": {
          "base_uri": "https://localhost:8080/",
          "height": 34
        },
        "outputId": "4db2c00e-c332-4ec2-c72c-4aac47e363ac"
      },
      "execution_count": 87,
      "outputs": [
        {
          "output_type": "display_data",
          "data": {
            "text/html": [
              "<style>\n",
              ".list-inline {list-style: none; margin:0; padding: 0}\n",
              ".list-inline>li {display: inline-block}\n",
              ".list-inline>li:not(:last-child)::after {content: \"\\00b7\"; padding: 0 .5ex}\n",
              "</style>\n",
              "<ol class=list-inline><li>'Isla'</li><li>'Municipio'</li><li>'Pob_2017'</li><li>'Pob_2018'</li><li>'Pob_2019'</li></ol>\n"
            ],
            "text/markdown": "1. 'Isla'\n2. 'Municipio'\n3. 'Pob_2017'\n4. 'Pob_2018'\n5. 'Pob_2019'\n\n\n",
            "text/latex": "\\begin{enumerate*}\n\\item 'Isla'\n\\item 'Municipio'\n\\item 'Pob\\_2017'\n\\item 'Pob\\_2018'\n\\item 'Pob\\_2019'\n\\end{enumerate*}\n",
            "text/plain": [
              "[1] \"Isla\"      \"Municipio\" \"Pob_2017\"  \"Pob_2018\"  \"Pob_2019\" "
            ]
          },
          "metadata": {}
        }
      ]
    },
    {
      "cell_type": "markdown",
      "source": [
        "## Calcular una variable **porcentaje_pob** que sea el porcentaje de población de cada municipio sobre la población total de Canarias"
      ],
      "metadata": {
        "id": "wWpIX6ZAYtE6"
      }
    },
    {
      "cell_type": "code",
      "source": [
        "can_pob <- can_pob %>%\n",
        "    mutate(Porcentaje_pob_2017 = (Pob_2017 / sum(Pob_2017)) * 100) %>%\n",
        "    mutate(Porcentaje_pob_2018 = (Pob_2018 / sum(Pob_2018)) * 100) %>%\n",
        "    mutate(Porcentaje_pob_2019 = (Pob_2019 / sum(Pob_2019)) * 100)\n",
        "\n",
        "can_pob"
      ],
      "metadata": {
        "id": "En9Naf6hYMMu",
        "colab": {
          "base_uri": "https://localhost:8080/",
          "height": 1000
        },
        "outputId": "c81c3d0e-2716-4b5f-a86a-69e4d7a979a1"
      },
      "execution_count": 88,
      "outputs": [
        {
          "output_type": "display_data",
          "data": {
            "text/html": [
              "<table class=\"dataframe\">\n",
              "<caption>A data.frame: 88 × 8</caption>\n",
              "<thead>\n",
              "\t<tr><th scope=col>Isla</th><th scope=col>Municipio</th><th scope=col>Pob_2017</th><th scope=col>Pob_2018</th><th scope=col>Pob_2019</th><th scope=col>Porcentaje_pob_2017</th><th scope=col>Porcentaje_pob_2018</th><th scope=col>Porcentaje_pob_2019</th></tr>\n",
              "\t<tr><th scope=col>&lt;chr&gt;</th><th scope=col>&lt;chr&gt;</th><th scope=col>&lt;dbl&gt;</th><th scope=col>&lt;dbl&gt;</th><th scope=col>&lt;dbl&gt;</th><th scope=col>&lt;dbl&gt;</th><th scope=col>&lt;dbl&gt;</th><th scope=col>&lt;dbl&gt;</th></tr>\n",
              "</thead>\n",
              "<tbody>\n",
              "\t<tr><td>LANZAROTE    </td><td>Arrecife                    </td><td> 59771</td><td> 61351</td><td> 62988</td><td> 2.83527369</td><td> 2.88346254</td><td> 2.92506370</td></tr>\n",
              "\t<tr><td>LANZAROTE    </td><td>Haría                       </td><td>  4858</td><td>  4969</td><td>  5123</td><td> 0.23044218</td><td> 0.23354021</td><td> 0.23790407</td></tr>\n",
              "\t<tr><td>LANZAROTE    </td><td>San Bartolomé               </td><td> 18249</td><td> 18327</td><td> 18816</td><td> 0.86565240</td><td> 0.86135871</td><td> 0.87378546</td></tr>\n",
              "\t<tr><td>LANZAROTE    </td><td>Teguise                     </td><td> 21896</td><td> 22122</td><td> 22342</td><td> 1.03865006</td><td> 1.03972158</td><td> 1.03752736</td></tr>\n",
              "\t<tr><td>LANZAROTE    </td><td>Tías                        </td><td> 19964</td><td> 20006</td><td> 20170</td><td> 0.94700447</td><td> 0.94027076</td><td> 0.93666309</td></tr>\n",
              "\t<tr><td>LANZAROTE    </td><td>Tinajo                      </td><td>  6028</td><td>  6119</td><td>  6279</td><td> 0.28594184</td><td> 0.28758956</td><td> 0.29158689</td></tr>\n",
              "\t<tr><td>LANZAROTE    </td><td>Yaiza                       </td><td> 16257</td><td> 16289</td><td> 16571</td><td> 0.77116067</td><td> 0.76557385</td><td> 0.76953119</td></tr>\n",
              "\t<tr><td>FUERTEVENTURA</td><td>Antigua                     </td><td> 11405</td><td> 11948</td><td> 12461</td><td> 0.54100310</td><td> 0.56154929</td><td> 0.57866925</td></tr>\n",
              "\t<tr><td>FUERTEVENTURA</td><td>Betancuria                  </td><td>   710</td><td>   731</td><td>   758</td><td> 0.03367928</td><td> 0.03435659</td><td> 0.03520033</td></tr>\n",
              "\t<tr><td>FUERTEVENTURA</td><td>Oliva (La)                  </td><td> 25349</td><td> 25884</td><td> 26580</td><td> 1.20244521</td><td> 1.21653346</td><td> 1.23433342</td></tr>\n",
              "\t<tr><td>FUERTEVENTURA</td><td>Pájara                      </td><td> 19823</td><td> 20539</td><td> 21093</td><td> 0.94031604</td><td> 0.96532146</td><td> 0.97952576</td></tr>\n",
              "\t<tr><td>FUERTEVENTURA</td><td>Puerto del Rosario          </td><td> 38711</td><td> 39382</td><td> 40753</td><td> 1.83627980</td><td> 1.85093188</td><td> 1.89250526</td></tr>\n",
              "\t<tr><td>FUERTEVENTURA</td><td>Tuineje                     </td><td> 14301</td><td> 14791</td><td> 15241</td><td> 0.67837662</td><td> 0.69516869</td><td> 0.70776808</td></tr>\n",
              "\t<tr><td>GRANCANARIA  </td><td>Agaete                      </td><td>  5526</td><td>  5573</td><td>  5586</td><td> 0.26212917</td><td> 0.26192787</td><td> 0.25940506</td></tr>\n",
              "\t<tr><td>GRANCANARIA  </td><td>Agüimes                     </td><td> 30882</td><td> 31152</td><td> 31619</td><td> 1.46490643</td><td> 1.46412650</td><td> 1.46833665</td></tr>\n",
              "\t<tr><td>GRANCANARIA  </td><td>Artenara                    </td><td>  1096</td><td>  1090</td><td>  1069</td><td> 0.05198943</td><td> 0.05122939</td><td> 0.04964268</td></tr>\n",
              "\t<tr><td>GRANCANARIA  </td><td>Arucas                      </td><td> 37367</td><td> 37691</td><td> 38138</td><td> 1.77252634</td><td> 1.77145583</td><td> 1.77106877</td></tr>\n",
              "\t<tr><td>GRANCANARIA  </td><td>Firgas                      </td><td>  7570</td><td>  7491</td><td>  7455</td><td> 0.35908755</td><td> 0.35207279</td><td> 0.34619848</td></tr>\n",
              "\t<tr><td>GRANCANARIA  </td><td>Gáldar                      </td><td> 24251</td><td> 24209</td><td> 24242</td><td> 1.15036091</td><td> 1.13780940</td><td> 1.12576037</td></tr>\n",
              "\t<tr><td>GRANCANARIA  </td><td>Ingenio                     </td><td> 30529</td><td> 30831</td><td> 31321</td><td> 1.44816166</td><td> 1.44903968</td><td> 1.45449800</td></tr>\n",
              "\t<tr><td>GRANCANARIA  </td><td>Mogán                       </td><td> 19783</td><td> 19657</td><td> 20072</td><td> 0.93841862</td><td> 0.92386796</td><td> 0.93211213</td></tr>\n",
              "\t<tr><td>GRANCANARIA  </td><td>Moya                        </td><td>  7792</td><td>  7728</td><td>  7696</td><td> 0.36961825</td><td> 0.36321166</td><td> 0.35739014</td></tr>\n",
              "\t<tr><td>GRANCANARIA  </td><td>Palmas de Gran Canaria (Las)</td><td>377650</td><td>378517</td><td>379925</td><td>17.91405712</td><td>17.79008641</td><td>17.64311975</td></tr>\n",
              "\t<tr><td>GRANCANARIA  </td><td>San Bartolomé de Tirajana   </td><td> 53542</td><td> 53588</td><td> 53443</td><td> 2.53979729</td><td> 2.51860590</td><td> 2.48180891</td></tr>\n",
              "\t<tr><td>GRANCANARIA  </td><td>Aldea de San Nicolás (La)   </td><td>  7613</td><td>  7608</td><td>  7504</td><td> 0.36112728</td><td> 0.35757173</td><td> 0.34847396</td></tr>\n",
              "\t<tr><td>GRANCANARIA  </td><td>Santa Brígida               </td><td> 18295</td><td> 18314</td><td> 18263</td><td> 0.86783444</td><td> 0.86074771</td><td> 0.84810501</td></tr>\n",
              "\t<tr><td>GRANCANARIA  </td><td>Santa Lucía                 </td><td> 70396</td><td> 71863</td><td> 73328</td><td> 3.33927701</td><td> 3.37752064</td><td> 3.40523705</td></tr>\n",
              "\t<tr><td>GRANCANARIA  </td><td>Santa María de Guía         </td><td> 13924</td><td> 13924</td><td> 13850</td><td> 0.66049340</td><td> 0.65442018</td><td> 0.64317223</td></tr>\n",
              "\t<tr><td>GRANCANARIA  </td><td>Tejeda                      </td><td>  1950</td><td>  1921</td><td>  1909</td><td> 0.09249943</td><td> 0.09028592</td><td> 0.08865096</td></tr>\n",
              "\t<tr><td>GRANCANARIA  </td><td>Telde                       </td><td>102005</td><td>102424</td><td>102647</td><td> 4.83866913</td><td> 4.81387047</td><td> 4.76676532</td></tr>\n",
              "\t<tr><td>⋮</td><td>⋮</td><td>⋮</td><td>⋮</td><td>⋮</td><td>⋮</td><td>⋮</td><td>⋮</td></tr>\n",
              "\t<tr><td>TENERIFE</td><td>Sauzal (El)               </td><td> 8873</td><td> 8947</td><td> 8934</td><td>0.42089614</td><td>0.42050397</td><td>0.41488092</td></tr>\n",
              "\t<tr><td>TENERIFE</td><td>Silos (Los)               </td><td> 4848</td><td> 4757</td><td> 4693</td><td>0.22996782</td><td>0.22357633</td><td>0.21793554</td></tr>\n",
              "\t<tr><td>TENERIFE</td><td>Tacoronte                 </td><td>23812</td><td>23961</td><td>24134</td><td>1.12953668</td><td>1.12615354</td><td>1.12074502</td></tr>\n",
              "\t<tr><td>TENERIFE</td><td>Tanque (El)               </td><td> 2650</td><td> 2670</td><td> 2763</td><td>0.12570436</td><td>0.12548850</td><td>0.12830938</td></tr>\n",
              "\t<tr><td>TENERIFE</td><td>Tegueste                  </td><td>11108</td><td>11203</td><td>11294</td><td>0.52691473</td><td>0.52653471</td><td>0.52447561</td></tr>\n",
              "\t<tr><td>TENERIFE</td><td>Victoria de Acentejo (La) </td><td> 8969</td><td> 9040</td><td> 9185</td><td>0.42544996</td><td>0.42487492</td><td>0.42653696</td></tr>\n",
              "\t<tr><td>TENERIFE</td><td>Vilaflor                  </td><td> 1615</td><td> 1645</td><td> 1667</td><td>0.07660851</td><td>0.07731408</td><td>0.07741286</td></tr>\n",
              "\t<tr><td>LAGOMERA</td><td>Agulo                     </td><td> 1066</td><td> 1067</td><td> 1096</td><td>0.05056636</td><td>0.05014840</td><td>0.05089652</td></tr>\n",
              "\t<tr><td>LAGOMERA</td><td>Alajeró                   </td><td> 1983</td><td> 2006</td><td> 2017</td><td>0.09406481</td><td>0.09428087</td><td>0.09366631</td></tr>\n",
              "\t<tr><td>LAGOMERA</td><td>Hermigua                  </td><td> 1808</td><td> 1805</td><td> 1832</td><td>0.08576358</td><td>0.08483399</td><td>0.08507520</td></tr>\n",
              "\t<tr><td>LAGOMERA</td><td>San Sebastián de La Gomera</td><td> 8760</td><td> 8945</td><td> 9093</td><td>0.41553592</td><td>0.42040998</td><td>0.42226463</td></tr>\n",
              "\t<tr><td>LAGOMERA</td><td>Valle Gran Rey            </td><td> 4371</td><td> 4484</td><td> 4564</td><td>0.20734104</td><td>0.21074548</td><td>0.21194499</td></tr>\n",
              "\t<tr><td>LAGOMERA</td><td>Vallehermoso              </td><td> 2988</td><td> 2829</td><td> 2901</td><td>0.14173759</td><td>0.13296141</td><td>0.13471788</td></tr>\n",
              "\t<tr><td>LAPALMA </td><td>Barlovento                </td><td> 1859</td><td> 1855</td><td> 1876</td><td>0.08818279</td><td>0.08718396</td><td>0.08711849</td></tr>\n",
              "\t<tr><td>LAPALMA </td><td>Breña Alta                </td><td> 7061</td><td> 7154</td><td> 7204</td><td>0.33494282</td><td>0.33623398</td><td>0.33454244</td></tr>\n",
              "\t<tr><td>LAPALMA </td><td>Breña Baja                </td><td> 5434</td><td> 5498</td><td> 5690</td><td>0.25776509</td><td>0.25840291</td><td>0.26423466</td></tr>\n",
              "\t<tr><td>LAPALMA </td><td>Fuencaliente              </td><td> 1695</td><td> 1709</td><td> 1722</td><td>0.08040335</td><td>0.08032204</td><td>0.07996697</td></tr>\n",
              "\t<tr><td>LAPALMA </td><td>Garafía                   </td><td> 1584</td><td> 1626</td><td> 1667</td><td>0.07513800</td><td>0.07642109</td><td>0.07741286</td></tr>\n",
              "\t<tr><td>LAPALMA </td><td>Llanos de Aridane (Los)   </td><td>20107</td><td>20171</td><td>20467</td><td>0.95378776</td><td>0.94802567</td><td>0.95045531</td></tr>\n",
              "\t<tr><td>LAPALMA </td><td>Paso (El)                 </td><td> 7464</td><td> 7543</td><td> 7622</td><td>0.35405937</td><td>0.35451676</td><td>0.35395370</td></tr>\n",
              "\t<tr><td>LAPALMA </td><td>Puntagorda                </td><td> 2009</td><td> 2073</td><td> 2110</td><td>0.09529814</td><td>0.09742984</td><td>0.09798508</td></tr>\n",
              "\t<tr><td>LAPALMA </td><td>Puntallana                </td><td> 2429</td><td> 2493</td><td> 2506</td><td>0.11522109</td><td>0.11716960</td><td>0.11637470</td></tr>\n",
              "\t<tr><td>LAPALMA </td><td>San Andrés y Sauces       </td><td> 4135</td><td> 4112</td><td> 4141</td><td>0.19614624</td><td>0.19326169</td><td>0.19230153</td></tr>\n",
              "\t<tr><td>LAPALMA </td><td>Santa Cruz de La Palma    </td><td>15581</td><td>15674</td><td>15716</td><td>0.73909420</td><td>0.73666920</td><td>0.72982633</td></tr>\n",
              "\t<tr><td>LAPALMA </td><td>Tazacorte                 </td><td> 4620</td><td> 4600</td><td> 4575</td><td>0.21915251</td><td>0.21619742</td><td>0.21245581</td></tr>\n",
              "\t<tr><td>LAPALMA </td><td>Tijarafe                  </td><td> 2590</td><td> 2564</td><td> 2532</td><td>0.12285822</td><td>0.12050656</td><td>0.11758210</td></tr>\n",
              "\t<tr><td>LAPALMA </td><td>Villa de Mazo             </td><td> 4782</td><td> 4791</td><td> 4843</td><td>0.22683707</td><td>0.22517431</td><td>0.22490131</td></tr>\n",
              "\t<tr><td>ELHIERRO</td><td>Frontera                  </td><td> 3983</td><td> 4018</td><td> 4093</td><td>0.18893602</td><td>0.18884374</td><td>0.19007249</td></tr>\n",
              "\t<tr><td>ELHIERRO</td><td>Valverde                  </td><td> 4920</td><td> 4955</td><td> 5005</td><td>0.23338319</td><td>0.23288222</td><td>0.23242433</td></tr>\n",
              "\t<tr><td>ELHIERRO</td><td>Pinar de El Hierro (El)   </td><td> 1776</td><td> 1825</td><td> 1870</td><td>0.08424564</td><td>0.08577398</td><td>0.08683986</td></tr>\n",
              "</tbody>\n",
              "</table>\n"
            ],
            "text/markdown": "\nA data.frame: 88 × 8\n\n| Isla &lt;chr&gt; | Municipio &lt;chr&gt; | Pob_2017 &lt;dbl&gt; | Pob_2018 &lt;dbl&gt; | Pob_2019 &lt;dbl&gt; | Porcentaje_pob_2017 &lt;dbl&gt; | Porcentaje_pob_2018 &lt;dbl&gt; | Porcentaje_pob_2019 &lt;dbl&gt; |\n|---|---|---|---|---|---|---|---|\n| LANZAROTE     | Arrecife                     |  59771 |  61351 |  62988 |  2.83527369 |  2.88346254 |  2.92506370 |\n| LANZAROTE     | Haría                        |   4858 |   4969 |   5123 |  0.23044218 |  0.23354021 |  0.23790407 |\n| LANZAROTE     | San Bartolomé                |  18249 |  18327 |  18816 |  0.86565240 |  0.86135871 |  0.87378546 |\n| LANZAROTE     | Teguise                      |  21896 |  22122 |  22342 |  1.03865006 |  1.03972158 |  1.03752736 |\n| LANZAROTE     | Tías                         |  19964 |  20006 |  20170 |  0.94700447 |  0.94027076 |  0.93666309 |\n| LANZAROTE     | Tinajo                       |   6028 |   6119 |   6279 |  0.28594184 |  0.28758956 |  0.29158689 |\n| LANZAROTE     | Yaiza                        |  16257 |  16289 |  16571 |  0.77116067 |  0.76557385 |  0.76953119 |\n| FUERTEVENTURA | Antigua                      |  11405 |  11948 |  12461 |  0.54100310 |  0.56154929 |  0.57866925 |\n| FUERTEVENTURA | Betancuria                   |    710 |    731 |    758 |  0.03367928 |  0.03435659 |  0.03520033 |\n| FUERTEVENTURA | Oliva (La)                   |  25349 |  25884 |  26580 |  1.20244521 |  1.21653346 |  1.23433342 |\n| FUERTEVENTURA | Pájara                       |  19823 |  20539 |  21093 |  0.94031604 |  0.96532146 |  0.97952576 |\n| FUERTEVENTURA | Puerto del Rosario           |  38711 |  39382 |  40753 |  1.83627980 |  1.85093188 |  1.89250526 |\n| FUERTEVENTURA | Tuineje                      |  14301 |  14791 |  15241 |  0.67837662 |  0.69516869 |  0.70776808 |\n| GRANCANARIA   | Agaete                       |   5526 |   5573 |   5586 |  0.26212917 |  0.26192787 |  0.25940506 |\n| GRANCANARIA   | Agüimes                      |  30882 |  31152 |  31619 |  1.46490643 |  1.46412650 |  1.46833665 |\n| GRANCANARIA   | Artenara                     |   1096 |   1090 |   1069 |  0.05198943 |  0.05122939 |  0.04964268 |\n| GRANCANARIA   | Arucas                       |  37367 |  37691 |  38138 |  1.77252634 |  1.77145583 |  1.77106877 |\n| GRANCANARIA   | Firgas                       |   7570 |   7491 |   7455 |  0.35908755 |  0.35207279 |  0.34619848 |\n| GRANCANARIA   | Gáldar                       |  24251 |  24209 |  24242 |  1.15036091 |  1.13780940 |  1.12576037 |\n| GRANCANARIA   | Ingenio                      |  30529 |  30831 |  31321 |  1.44816166 |  1.44903968 |  1.45449800 |\n| GRANCANARIA   | Mogán                        |  19783 |  19657 |  20072 |  0.93841862 |  0.92386796 |  0.93211213 |\n| GRANCANARIA   | Moya                         |   7792 |   7728 |   7696 |  0.36961825 |  0.36321166 |  0.35739014 |\n| GRANCANARIA   | Palmas de Gran Canaria (Las) | 377650 | 378517 | 379925 | 17.91405712 | 17.79008641 | 17.64311975 |\n| GRANCANARIA   | San Bartolomé de Tirajana    |  53542 |  53588 |  53443 |  2.53979729 |  2.51860590 |  2.48180891 |\n| GRANCANARIA   | Aldea de San Nicolás (La)    |   7613 |   7608 |   7504 |  0.36112728 |  0.35757173 |  0.34847396 |\n| GRANCANARIA   | Santa Brígida                |  18295 |  18314 |  18263 |  0.86783444 |  0.86074771 |  0.84810501 |\n| GRANCANARIA   | Santa Lucía                  |  70396 |  71863 |  73328 |  3.33927701 |  3.37752064 |  3.40523705 |\n| GRANCANARIA   | Santa María de Guía          |  13924 |  13924 |  13850 |  0.66049340 |  0.65442018 |  0.64317223 |\n| GRANCANARIA   | Tejeda                       |   1950 |   1921 |   1909 |  0.09249943 |  0.09028592 |  0.08865096 |\n| GRANCANARIA   | Telde                        | 102005 | 102424 | 102647 |  4.83866913 |  4.81387047 |  4.76676532 |\n| ⋮ | ⋮ | ⋮ | ⋮ | ⋮ | ⋮ | ⋮ | ⋮ |\n| TENERIFE | Sauzal (El)                |  8873 |  8947 |  8934 | 0.42089614 | 0.42050397 | 0.41488092 |\n| TENERIFE | Silos (Los)                |  4848 |  4757 |  4693 | 0.22996782 | 0.22357633 | 0.21793554 |\n| TENERIFE | Tacoronte                  | 23812 | 23961 | 24134 | 1.12953668 | 1.12615354 | 1.12074502 |\n| TENERIFE | Tanque (El)                |  2650 |  2670 |  2763 | 0.12570436 | 0.12548850 | 0.12830938 |\n| TENERIFE | Tegueste                   | 11108 | 11203 | 11294 | 0.52691473 | 0.52653471 | 0.52447561 |\n| TENERIFE | Victoria de Acentejo (La)  |  8969 |  9040 |  9185 | 0.42544996 | 0.42487492 | 0.42653696 |\n| TENERIFE | Vilaflor                   |  1615 |  1645 |  1667 | 0.07660851 | 0.07731408 | 0.07741286 |\n| LAGOMERA | Agulo                      |  1066 |  1067 |  1096 | 0.05056636 | 0.05014840 | 0.05089652 |\n| LAGOMERA | Alajeró                    |  1983 |  2006 |  2017 | 0.09406481 | 0.09428087 | 0.09366631 |\n| LAGOMERA | Hermigua                   |  1808 |  1805 |  1832 | 0.08576358 | 0.08483399 | 0.08507520 |\n| LAGOMERA | San Sebastián de La Gomera |  8760 |  8945 |  9093 | 0.41553592 | 0.42040998 | 0.42226463 |\n| LAGOMERA | Valle Gran Rey             |  4371 |  4484 |  4564 | 0.20734104 | 0.21074548 | 0.21194499 |\n| LAGOMERA | Vallehermoso               |  2988 |  2829 |  2901 | 0.14173759 | 0.13296141 | 0.13471788 |\n| LAPALMA  | Barlovento                 |  1859 |  1855 |  1876 | 0.08818279 | 0.08718396 | 0.08711849 |\n| LAPALMA  | Breña Alta                 |  7061 |  7154 |  7204 | 0.33494282 | 0.33623398 | 0.33454244 |\n| LAPALMA  | Breña Baja                 |  5434 |  5498 |  5690 | 0.25776509 | 0.25840291 | 0.26423466 |\n| LAPALMA  | Fuencaliente               |  1695 |  1709 |  1722 | 0.08040335 | 0.08032204 | 0.07996697 |\n| LAPALMA  | Garafía                    |  1584 |  1626 |  1667 | 0.07513800 | 0.07642109 | 0.07741286 |\n| LAPALMA  | Llanos de Aridane (Los)    | 20107 | 20171 | 20467 | 0.95378776 | 0.94802567 | 0.95045531 |\n| LAPALMA  | Paso (El)                  |  7464 |  7543 |  7622 | 0.35405937 | 0.35451676 | 0.35395370 |\n| LAPALMA  | Puntagorda                 |  2009 |  2073 |  2110 | 0.09529814 | 0.09742984 | 0.09798508 |\n| LAPALMA  | Puntallana                 |  2429 |  2493 |  2506 | 0.11522109 | 0.11716960 | 0.11637470 |\n| LAPALMA  | San Andrés y Sauces        |  4135 |  4112 |  4141 | 0.19614624 | 0.19326169 | 0.19230153 |\n| LAPALMA  | Santa Cruz de La Palma     | 15581 | 15674 | 15716 | 0.73909420 | 0.73666920 | 0.72982633 |\n| LAPALMA  | Tazacorte                  |  4620 |  4600 |  4575 | 0.21915251 | 0.21619742 | 0.21245581 |\n| LAPALMA  | Tijarafe                   |  2590 |  2564 |  2532 | 0.12285822 | 0.12050656 | 0.11758210 |\n| LAPALMA  | Villa de Mazo              |  4782 |  4791 |  4843 | 0.22683707 | 0.22517431 | 0.22490131 |\n| ELHIERRO | Frontera                   |  3983 |  4018 |  4093 | 0.18893602 | 0.18884374 | 0.19007249 |\n| ELHIERRO | Valverde                   |  4920 |  4955 |  5005 | 0.23338319 | 0.23288222 | 0.23242433 |\n| ELHIERRO | Pinar de El Hierro (El)    |  1776 |  1825 |  1870 | 0.08424564 | 0.08577398 | 0.08683986 |\n\n",
            "text/latex": "A data.frame: 88 × 8\n\\begin{tabular}{llllllll}\n Isla & Municipio & Pob\\_2017 & Pob\\_2018 & Pob\\_2019 & Porcentaje\\_pob\\_2017 & Porcentaje\\_pob\\_2018 & Porcentaje\\_pob\\_2019\\\\\n <chr> & <chr> & <dbl> & <dbl> & <dbl> & <dbl> & <dbl> & <dbl>\\\\\n\\hline\n\t LANZAROTE     & Arrecife                     &  59771 &  61351 &  62988 &  2.83527369 &  2.88346254 &  2.92506370\\\\\n\t LANZAROTE     & Haría                        &   4858 &   4969 &   5123 &  0.23044218 &  0.23354021 &  0.23790407\\\\\n\t LANZAROTE     & San Bartolomé                &  18249 &  18327 &  18816 &  0.86565240 &  0.86135871 &  0.87378546\\\\\n\t LANZAROTE     & Teguise                      &  21896 &  22122 &  22342 &  1.03865006 &  1.03972158 &  1.03752736\\\\\n\t LANZAROTE     & Tías                         &  19964 &  20006 &  20170 &  0.94700447 &  0.94027076 &  0.93666309\\\\\n\t LANZAROTE     & Tinajo                       &   6028 &   6119 &   6279 &  0.28594184 &  0.28758956 &  0.29158689\\\\\n\t LANZAROTE     & Yaiza                        &  16257 &  16289 &  16571 &  0.77116067 &  0.76557385 &  0.76953119\\\\\n\t FUERTEVENTURA & Antigua                      &  11405 &  11948 &  12461 &  0.54100310 &  0.56154929 &  0.57866925\\\\\n\t FUERTEVENTURA & Betancuria                   &    710 &    731 &    758 &  0.03367928 &  0.03435659 &  0.03520033\\\\\n\t FUERTEVENTURA & Oliva (La)                   &  25349 &  25884 &  26580 &  1.20244521 &  1.21653346 &  1.23433342\\\\\n\t FUERTEVENTURA & Pájara                       &  19823 &  20539 &  21093 &  0.94031604 &  0.96532146 &  0.97952576\\\\\n\t FUERTEVENTURA & Puerto del Rosario           &  38711 &  39382 &  40753 &  1.83627980 &  1.85093188 &  1.89250526\\\\\n\t FUERTEVENTURA & Tuineje                      &  14301 &  14791 &  15241 &  0.67837662 &  0.69516869 &  0.70776808\\\\\n\t GRANCANARIA   & Agaete                       &   5526 &   5573 &   5586 &  0.26212917 &  0.26192787 &  0.25940506\\\\\n\t GRANCANARIA   & Agüimes                      &  30882 &  31152 &  31619 &  1.46490643 &  1.46412650 &  1.46833665\\\\\n\t GRANCANARIA   & Artenara                     &   1096 &   1090 &   1069 &  0.05198943 &  0.05122939 &  0.04964268\\\\\n\t GRANCANARIA   & Arucas                       &  37367 &  37691 &  38138 &  1.77252634 &  1.77145583 &  1.77106877\\\\\n\t GRANCANARIA   & Firgas                       &   7570 &   7491 &   7455 &  0.35908755 &  0.35207279 &  0.34619848\\\\\n\t GRANCANARIA   & Gáldar                       &  24251 &  24209 &  24242 &  1.15036091 &  1.13780940 &  1.12576037\\\\\n\t GRANCANARIA   & Ingenio                      &  30529 &  30831 &  31321 &  1.44816166 &  1.44903968 &  1.45449800\\\\\n\t GRANCANARIA   & Mogán                        &  19783 &  19657 &  20072 &  0.93841862 &  0.92386796 &  0.93211213\\\\\n\t GRANCANARIA   & Moya                         &   7792 &   7728 &   7696 &  0.36961825 &  0.36321166 &  0.35739014\\\\\n\t GRANCANARIA   & Palmas de Gran Canaria (Las) & 377650 & 378517 & 379925 & 17.91405712 & 17.79008641 & 17.64311975\\\\\n\t GRANCANARIA   & San Bartolomé de Tirajana    &  53542 &  53588 &  53443 &  2.53979729 &  2.51860590 &  2.48180891\\\\\n\t GRANCANARIA   & Aldea de San Nicolás (La)    &   7613 &   7608 &   7504 &  0.36112728 &  0.35757173 &  0.34847396\\\\\n\t GRANCANARIA   & Santa Brígida                &  18295 &  18314 &  18263 &  0.86783444 &  0.86074771 &  0.84810501\\\\\n\t GRANCANARIA   & Santa Lucía                  &  70396 &  71863 &  73328 &  3.33927701 &  3.37752064 &  3.40523705\\\\\n\t GRANCANARIA   & Santa María de Guía          &  13924 &  13924 &  13850 &  0.66049340 &  0.65442018 &  0.64317223\\\\\n\t GRANCANARIA   & Tejeda                       &   1950 &   1921 &   1909 &  0.09249943 &  0.09028592 &  0.08865096\\\\\n\t GRANCANARIA   & Telde                        & 102005 & 102424 & 102647 &  4.83866913 &  4.81387047 &  4.76676532\\\\\n\t ⋮ & ⋮ & ⋮ & ⋮ & ⋮ & ⋮ & ⋮ & ⋮\\\\\n\t TENERIFE & Sauzal (El)                &  8873 &  8947 &  8934 & 0.42089614 & 0.42050397 & 0.41488092\\\\\n\t TENERIFE & Silos (Los)                &  4848 &  4757 &  4693 & 0.22996782 & 0.22357633 & 0.21793554\\\\\n\t TENERIFE & Tacoronte                  & 23812 & 23961 & 24134 & 1.12953668 & 1.12615354 & 1.12074502\\\\\n\t TENERIFE & Tanque (El)                &  2650 &  2670 &  2763 & 0.12570436 & 0.12548850 & 0.12830938\\\\\n\t TENERIFE & Tegueste                   & 11108 & 11203 & 11294 & 0.52691473 & 0.52653471 & 0.52447561\\\\\n\t TENERIFE & Victoria de Acentejo (La)  &  8969 &  9040 &  9185 & 0.42544996 & 0.42487492 & 0.42653696\\\\\n\t TENERIFE & Vilaflor                   &  1615 &  1645 &  1667 & 0.07660851 & 0.07731408 & 0.07741286\\\\\n\t LAGOMERA & Agulo                      &  1066 &  1067 &  1096 & 0.05056636 & 0.05014840 & 0.05089652\\\\\n\t LAGOMERA & Alajeró                    &  1983 &  2006 &  2017 & 0.09406481 & 0.09428087 & 0.09366631\\\\\n\t LAGOMERA & Hermigua                   &  1808 &  1805 &  1832 & 0.08576358 & 0.08483399 & 0.08507520\\\\\n\t LAGOMERA & San Sebastián de La Gomera &  8760 &  8945 &  9093 & 0.41553592 & 0.42040998 & 0.42226463\\\\\n\t LAGOMERA & Valle Gran Rey             &  4371 &  4484 &  4564 & 0.20734104 & 0.21074548 & 0.21194499\\\\\n\t LAGOMERA & Vallehermoso               &  2988 &  2829 &  2901 & 0.14173759 & 0.13296141 & 0.13471788\\\\\n\t LAPALMA  & Barlovento                 &  1859 &  1855 &  1876 & 0.08818279 & 0.08718396 & 0.08711849\\\\\n\t LAPALMA  & Breña Alta                 &  7061 &  7154 &  7204 & 0.33494282 & 0.33623398 & 0.33454244\\\\\n\t LAPALMA  & Breña Baja                 &  5434 &  5498 &  5690 & 0.25776509 & 0.25840291 & 0.26423466\\\\\n\t LAPALMA  & Fuencaliente               &  1695 &  1709 &  1722 & 0.08040335 & 0.08032204 & 0.07996697\\\\\n\t LAPALMA  & Garafía                    &  1584 &  1626 &  1667 & 0.07513800 & 0.07642109 & 0.07741286\\\\\n\t LAPALMA  & Llanos de Aridane (Los)    & 20107 & 20171 & 20467 & 0.95378776 & 0.94802567 & 0.95045531\\\\\n\t LAPALMA  & Paso (El)                  &  7464 &  7543 &  7622 & 0.35405937 & 0.35451676 & 0.35395370\\\\\n\t LAPALMA  & Puntagorda                 &  2009 &  2073 &  2110 & 0.09529814 & 0.09742984 & 0.09798508\\\\\n\t LAPALMA  & Puntallana                 &  2429 &  2493 &  2506 & 0.11522109 & 0.11716960 & 0.11637470\\\\\n\t LAPALMA  & San Andrés y Sauces        &  4135 &  4112 &  4141 & 0.19614624 & 0.19326169 & 0.19230153\\\\\n\t LAPALMA  & Santa Cruz de La Palma     & 15581 & 15674 & 15716 & 0.73909420 & 0.73666920 & 0.72982633\\\\\n\t LAPALMA  & Tazacorte                  &  4620 &  4600 &  4575 & 0.21915251 & 0.21619742 & 0.21245581\\\\\n\t LAPALMA  & Tijarafe                   &  2590 &  2564 &  2532 & 0.12285822 & 0.12050656 & 0.11758210\\\\\n\t LAPALMA  & Villa de Mazo              &  4782 &  4791 &  4843 & 0.22683707 & 0.22517431 & 0.22490131\\\\\n\t ELHIERRO & Frontera                   &  3983 &  4018 &  4093 & 0.18893602 & 0.18884374 & 0.19007249\\\\\n\t ELHIERRO & Valverde                   &  4920 &  4955 &  5005 & 0.23338319 & 0.23288222 & 0.23242433\\\\\n\t ELHIERRO & Pinar de El Hierro (El)    &  1776 &  1825 &  1870 & 0.08424564 & 0.08577398 & 0.08683986\\\\\n\\end{tabular}\n",
            "text/plain": [
              "   Isla          Municipio                    Pob_2017 Pob_2018 Pob_2019\n",
              "1  LANZAROTE     Arrecife                      59771    61351    62988  \n",
              "2  LANZAROTE     Haría                          4858     4969     5123  \n",
              "3  LANZAROTE     San Bartolomé                 18249    18327    18816  \n",
              "4  LANZAROTE     Teguise                       21896    22122    22342  \n",
              "5  LANZAROTE     Tías                          19964    20006    20170  \n",
              "6  LANZAROTE     Tinajo                         6028     6119     6279  \n",
              "7  LANZAROTE     Yaiza                         16257    16289    16571  \n",
              "8  FUERTEVENTURA Antigua                       11405    11948    12461  \n",
              "9  FUERTEVENTURA Betancuria                      710      731      758  \n",
              "10 FUERTEVENTURA Oliva (La)                    25349    25884    26580  \n",
              "11 FUERTEVENTURA Pájara                        19823    20539    21093  \n",
              "12 FUERTEVENTURA Puerto del Rosario            38711    39382    40753  \n",
              "13 FUERTEVENTURA Tuineje                       14301    14791    15241  \n",
              "14 GRANCANARIA   Agaete                         5526     5573     5586  \n",
              "15 GRANCANARIA   Agüimes                       30882    31152    31619  \n",
              "16 GRANCANARIA   Artenara                       1096     1090     1069  \n",
              "17 GRANCANARIA   Arucas                        37367    37691    38138  \n",
              "18 GRANCANARIA   Firgas                         7570     7491     7455  \n",
              "19 GRANCANARIA   Gáldar                        24251    24209    24242  \n",
              "20 GRANCANARIA   Ingenio                       30529    30831    31321  \n",
              "21 GRANCANARIA   Mogán                         19783    19657    20072  \n",
              "22 GRANCANARIA   Moya                           7792     7728     7696  \n",
              "23 GRANCANARIA   Palmas de Gran Canaria (Las) 377650   378517   379925  \n",
              "24 GRANCANARIA   San Bartolomé de Tirajana     53542    53588    53443  \n",
              "25 GRANCANARIA   Aldea de San Nicolás (La)      7613     7608     7504  \n",
              "26 GRANCANARIA   Santa Brígida                 18295    18314    18263  \n",
              "27 GRANCANARIA   Santa Lucía                   70396    71863    73328  \n",
              "28 GRANCANARIA   Santa María de Guía           13924    13924    13850  \n",
              "29 GRANCANARIA   Tejeda                         1950     1921     1909  \n",
              "30 GRANCANARIA   Telde                        102005   102424   102647  \n",
              "⋮  ⋮             ⋮                            ⋮        ⋮        ⋮       \n",
              "59 TENERIFE      Sauzal (El)                   8873     8947     8934   \n",
              "60 TENERIFE      Silos (Los)                   4848     4757     4693   \n",
              "61 TENERIFE      Tacoronte                    23812    23961    24134   \n",
              "62 TENERIFE      Tanque (El)                   2650     2670     2763   \n",
              "63 TENERIFE      Tegueste                     11108    11203    11294   \n",
              "64 TENERIFE      Victoria de Acentejo (La)     8969     9040     9185   \n",
              "65 TENERIFE      Vilaflor                      1615     1645     1667   \n",
              "66 LAGOMERA      Agulo                         1066     1067     1096   \n",
              "67 LAGOMERA      Alajeró                       1983     2006     2017   \n",
              "68 LAGOMERA      Hermigua                      1808     1805     1832   \n",
              "69 LAGOMERA      San Sebastián de La Gomera    8760     8945     9093   \n",
              "70 LAGOMERA      Valle Gran Rey                4371     4484     4564   \n",
              "71 LAGOMERA      Vallehermoso                  2988     2829     2901   \n",
              "72 LAPALMA       Barlovento                    1859     1855     1876   \n",
              "73 LAPALMA       Breña Alta                    7061     7154     7204   \n",
              "74 LAPALMA       Breña Baja                    5434     5498     5690   \n",
              "75 LAPALMA       Fuencaliente                  1695     1709     1722   \n",
              "76 LAPALMA       Garafía                       1584     1626     1667   \n",
              "77 LAPALMA       Llanos de Aridane (Los)      20107    20171    20467   \n",
              "78 LAPALMA       Paso (El)                     7464     7543     7622   \n",
              "79 LAPALMA       Puntagorda                    2009     2073     2110   \n",
              "80 LAPALMA       Puntallana                    2429     2493     2506   \n",
              "81 LAPALMA       San Andrés y Sauces           4135     4112     4141   \n",
              "82 LAPALMA       Santa Cruz de La Palma       15581    15674    15716   \n",
              "83 LAPALMA       Tazacorte                     4620     4600     4575   \n",
              "84 LAPALMA       Tijarafe                      2590     2564     2532   \n",
              "85 LAPALMA       Villa de Mazo                 4782     4791     4843   \n",
              "86 ELHIERRO      Frontera                      3983     4018     4093   \n",
              "87 ELHIERRO      Valverde                      4920     4955     5005   \n",
              "88 ELHIERRO      Pinar de El Hierro (El)       1776     1825     1870   \n",
              "   Porcentaje_pob_2017 Porcentaje_pob_2018 Porcentaje_pob_2019\n",
              "1   2.83527369          2.88346254          2.92506370        \n",
              "2   0.23044218          0.23354021          0.23790407        \n",
              "3   0.86565240          0.86135871          0.87378546        \n",
              "4   1.03865006          1.03972158          1.03752736        \n",
              "5   0.94700447          0.94027076          0.93666309        \n",
              "6   0.28594184          0.28758956          0.29158689        \n",
              "7   0.77116067          0.76557385          0.76953119        \n",
              "8   0.54100310          0.56154929          0.57866925        \n",
              "9   0.03367928          0.03435659          0.03520033        \n",
              "10  1.20244521          1.21653346          1.23433342        \n",
              "11  0.94031604          0.96532146          0.97952576        \n",
              "12  1.83627980          1.85093188          1.89250526        \n",
              "13  0.67837662          0.69516869          0.70776808        \n",
              "14  0.26212917          0.26192787          0.25940506        \n",
              "15  1.46490643          1.46412650          1.46833665        \n",
              "16  0.05198943          0.05122939          0.04964268        \n",
              "17  1.77252634          1.77145583          1.77106877        \n",
              "18  0.35908755          0.35207279          0.34619848        \n",
              "19  1.15036091          1.13780940          1.12576037        \n",
              "20  1.44816166          1.44903968          1.45449800        \n",
              "21  0.93841862          0.92386796          0.93211213        \n",
              "22  0.36961825          0.36321166          0.35739014        \n",
              "23 17.91405712         17.79008641         17.64311975        \n",
              "24  2.53979729          2.51860590          2.48180891        \n",
              "25  0.36112728          0.35757173          0.34847396        \n",
              "26  0.86783444          0.86074771          0.84810501        \n",
              "27  3.33927701          3.37752064          3.40523705        \n",
              "28  0.66049340          0.65442018          0.64317223        \n",
              "29  0.09249943          0.09028592          0.08865096        \n",
              "30  4.83866913          4.81387047          4.76676532        \n",
              "⋮  ⋮                   ⋮                   ⋮                  \n",
              "59 0.42089614          0.42050397          0.41488092         \n",
              "60 0.22996782          0.22357633          0.21793554         \n",
              "61 1.12953668          1.12615354          1.12074502         \n",
              "62 0.12570436          0.12548850          0.12830938         \n",
              "63 0.52691473          0.52653471          0.52447561         \n",
              "64 0.42544996          0.42487492          0.42653696         \n",
              "65 0.07660851          0.07731408          0.07741286         \n",
              "66 0.05056636          0.05014840          0.05089652         \n",
              "67 0.09406481          0.09428087          0.09366631         \n",
              "68 0.08576358          0.08483399          0.08507520         \n",
              "69 0.41553592          0.42040998          0.42226463         \n",
              "70 0.20734104          0.21074548          0.21194499         \n",
              "71 0.14173759          0.13296141          0.13471788         \n",
              "72 0.08818279          0.08718396          0.08711849         \n",
              "73 0.33494282          0.33623398          0.33454244         \n",
              "74 0.25776509          0.25840291          0.26423466         \n",
              "75 0.08040335          0.08032204          0.07996697         \n",
              "76 0.07513800          0.07642109          0.07741286         \n",
              "77 0.95378776          0.94802567          0.95045531         \n",
              "78 0.35405937          0.35451676          0.35395370         \n",
              "79 0.09529814          0.09742984          0.09798508         \n",
              "80 0.11522109          0.11716960          0.11637470         \n",
              "81 0.19614624          0.19326169          0.19230153         \n",
              "82 0.73909420          0.73666920          0.72982633         \n",
              "83 0.21915251          0.21619742          0.21245581         \n",
              "84 0.12285822          0.12050656          0.11758210         \n",
              "85 0.22683707          0.22517431          0.22490131         \n",
              "86 0.18893602          0.18884374          0.19007249         \n",
              "87 0.23338319          0.23288222          0.23242433         \n",
              "88 0.08424564          0.08577398          0.08683986         "
            ]
          },
          "metadata": {}
        }
      ]
    },
    {
      "cell_type": "markdown",
      "source": [
        "## Filtras las islas de la provincia de Las Palmas"
      ],
      "metadata": {
        "id": "ZqsicndgYt5L"
      }
    },
    {
      "cell_type": "code",
      "source": [
        "can_pob <- can_pob %>%\n",
        "    filter(Isla == 'LANZAROTE' | Isla == 'GRANCANARIA' | Isla == 'FUERTEVENTURA')\n",
        "\n",
        "head(can_pob)"
      ],
      "metadata": {
        "id": "s7BhEgY_eKMx",
        "colab": {
          "base_uri": "https://localhost:8080/",
          "height": 286
        },
        "outputId": "cd6d96ee-978a-4dc4-8c30-c9e4d62c8ebd"
      },
      "execution_count": 89,
      "outputs": [
        {
          "output_type": "display_data",
          "data": {
            "text/html": [
              "<table class=\"dataframe\">\n",
              "<caption>A data.frame: 6 × 8</caption>\n",
              "<thead>\n",
              "\t<tr><th></th><th scope=col>Isla</th><th scope=col>Municipio</th><th scope=col>Pob_2017</th><th scope=col>Pob_2018</th><th scope=col>Pob_2019</th><th scope=col>Porcentaje_pob_2017</th><th scope=col>Porcentaje_pob_2018</th><th scope=col>Porcentaje_pob_2019</th></tr>\n",
              "\t<tr><th></th><th scope=col>&lt;chr&gt;</th><th scope=col>&lt;chr&gt;</th><th scope=col>&lt;dbl&gt;</th><th scope=col>&lt;dbl&gt;</th><th scope=col>&lt;dbl&gt;</th><th scope=col>&lt;dbl&gt;</th><th scope=col>&lt;dbl&gt;</th><th scope=col>&lt;dbl&gt;</th></tr>\n",
              "</thead>\n",
              "<tbody>\n",
              "\t<tr><th scope=row>1</th><td>LANZAROTE</td><td>Arrecife     </td><td>59771</td><td>61351</td><td>62988</td><td>2.8352737</td><td>2.8834625</td><td>2.9250637</td></tr>\n",
              "\t<tr><th scope=row>2</th><td>LANZAROTE</td><td>Haría        </td><td> 4858</td><td> 4969</td><td> 5123</td><td>0.2304422</td><td>0.2335402</td><td>0.2379041</td></tr>\n",
              "\t<tr><th scope=row>3</th><td>LANZAROTE</td><td>San Bartolomé</td><td>18249</td><td>18327</td><td>18816</td><td>0.8656524</td><td>0.8613587</td><td>0.8737855</td></tr>\n",
              "\t<tr><th scope=row>4</th><td>LANZAROTE</td><td>Teguise      </td><td>21896</td><td>22122</td><td>22342</td><td>1.0386501</td><td>1.0397216</td><td>1.0375274</td></tr>\n",
              "\t<tr><th scope=row>5</th><td>LANZAROTE</td><td>Tías         </td><td>19964</td><td>20006</td><td>20170</td><td>0.9470045</td><td>0.9402708</td><td>0.9366631</td></tr>\n",
              "\t<tr><th scope=row>6</th><td>LANZAROTE</td><td>Tinajo       </td><td> 6028</td><td> 6119</td><td> 6279</td><td>0.2859418</td><td>0.2875896</td><td>0.2915869</td></tr>\n",
              "</tbody>\n",
              "</table>\n"
            ],
            "text/markdown": "\nA data.frame: 6 × 8\n\n| <!--/--> | Isla &lt;chr&gt; | Municipio &lt;chr&gt; | Pob_2017 &lt;dbl&gt; | Pob_2018 &lt;dbl&gt; | Pob_2019 &lt;dbl&gt; | Porcentaje_pob_2017 &lt;dbl&gt; | Porcentaje_pob_2018 &lt;dbl&gt; | Porcentaje_pob_2019 &lt;dbl&gt; |\n|---|---|---|---|---|---|---|---|---|\n| 1 | LANZAROTE | Arrecife      | 59771 | 61351 | 62988 | 2.8352737 | 2.8834625 | 2.9250637 |\n| 2 | LANZAROTE | Haría         |  4858 |  4969 |  5123 | 0.2304422 | 0.2335402 | 0.2379041 |\n| 3 | LANZAROTE | San Bartolomé | 18249 | 18327 | 18816 | 0.8656524 | 0.8613587 | 0.8737855 |\n| 4 | LANZAROTE | Teguise       | 21896 | 22122 | 22342 | 1.0386501 | 1.0397216 | 1.0375274 |\n| 5 | LANZAROTE | Tías          | 19964 | 20006 | 20170 | 0.9470045 | 0.9402708 | 0.9366631 |\n| 6 | LANZAROTE | Tinajo        |  6028 |  6119 |  6279 | 0.2859418 | 0.2875896 | 0.2915869 |\n\n",
            "text/latex": "A data.frame: 6 × 8\n\\begin{tabular}{r|llllllll}\n  & Isla & Municipio & Pob\\_2017 & Pob\\_2018 & Pob\\_2019 & Porcentaje\\_pob\\_2017 & Porcentaje\\_pob\\_2018 & Porcentaje\\_pob\\_2019\\\\\n  & <chr> & <chr> & <dbl> & <dbl> & <dbl> & <dbl> & <dbl> & <dbl>\\\\\n\\hline\n\t1 & LANZAROTE & Arrecife      & 59771 & 61351 & 62988 & 2.8352737 & 2.8834625 & 2.9250637\\\\\n\t2 & LANZAROTE & Haría         &  4858 &  4969 &  5123 & 0.2304422 & 0.2335402 & 0.2379041\\\\\n\t3 & LANZAROTE & San Bartolomé & 18249 & 18327 & 18816 & 0.8656524 & 0.8613587 & 0.8737855\\\\\n\t4 & LANZAROTE & Teguise       & 21896 & 22122 & 22342 & 1.0386501 & 1.0397216 & 1.0375274\\\\\n\t5 & LANZAROTE & Tías          & 19964 & 20006 & 20170 & 0.9470045 & 0.9402708 & 0.9366631\\\\\n\t6 & LANZAROTE & Tinajo        &  6028 &  6119 &  6279 & 0.2859418 & 0.2875896 & 0.2915869\\\\\n\\end{tabular}\n",
            "text/plain": [
              "  Isla      Municipio     Pob_2017 Pob_2018 Pob_2019 Porcentaje_pob_2017\n",
              "1 LANZAROTE Arrecife      59771    61351    62988    2.8352737          \n",
              "2 LANZAROTE Haría          4858     4969     5123    0.2304422          \n",
              "3 LANZAROTE San Bartolomé 18249    18327    18816    0.8656524          \n",
              "4 LANZAROTE Teguise       21896    22122    22342    1.0386501          \n",
              "5 LANZAROTE Tías          19964    20006    20170    0.9470045          \n",
              "6 LANZAROTE Tinajo         6028     6119     6279    0.2859418          \n",
              "  Porcentaje_pob_2018 Porcentaje_pob_2019\n",
              "1 2.8834625           2.9250637          \n",
              "2 0.2335402           0.2379041          \n",
              "3 0.8613587           0.8737855          \n",
              "4 1.0397216           1.0375274          \n",
              "5 0.9402708           0.9366631          \n",
              "6 0.2875896           0.2915869          "
            ]
          },
          "metadata": {}
        }
      ]
    },
    {
      "cell_type": "markdown",
      "source": [
        "## Encontrar los municipios con menos del 30% de población"
      ],
      "metadata": {
        "id": "jF5pvBGiYuHC"
      }
    },
    {
      "cell_type": "markdown",
      "source": [
        "Si filtramos los municipios con menos del 30% de la población **global** de canarias, veremos que obtendremos todos los municipios originales."
      ],
      "metadata": {
        "id": "LkUwn9Si_23N"
      }
    },
    {
      "cell_type": "code",
      "source": [
        "paralel_can_pob <- can_pob\n",
        "\n",
        "can_pob <- can_pob %>%\n",
        "    filter(Porcentaje_pob_2019 < 30)\n",
        "\n",
        "head(can_pob)"
      ],
      "metadata": {
        "id": "ovJ3sbDluGjp",
        "colab": {
          "base_uri": "https://localhost:8080/",
          "height": 286
        },
        "outputId": "7fc4b9c6-1939-48e1-c7ae-8ff0ed35c582"
      },
      "execution_count": 90,
      "outputs": [
        {
          "output_type": "display_data",
          "data": {
            "text/html": [
              "<table class=\"dataframe\">\n",
              "<caption>A data.frame: 6 × 8</caption>\n",
              "<thead>\n",
              "\t<tr><th></th><th scope=col>Isla</th><th scope=col>Municipio</th><th scope=col>Pob_2017</th><th scope=col>Pob_2018</th><th scope=col>Pob_2019</th><th scope=col>Porcentaje_pob_2017</th><th scope=col>Porcentaje_pob_2018</th><th scope=col>Porcentaje_pob_2019</th></tr>\n",
              "\t<tr><th></th><th scope=col>&lt;chr&gt;</th><th scope=col>&lt;chr&gt;</th><th scope=col>&lt;dbl&gt;</th><th scope=col>&lt;dbl&gt;</th><th scope=col>&lt;dbl&gt;</th><th scope=col>&lt;dbl&gt;</th><th scope=col>&lt;dbl&gt;</th><th scope=col>&lt;dbl&gt;</th></tr>\n",
              "</thead>\n",
              "<tbody>\n",
              "\t<tr><th scope=row>1</th><td>LANZAROTE</td><td>Arrecife     </td><td>59771</td><td>61351</td><td>62988</td><td>2.8352737</td><td>2.8834625</td><td>2.9250637</td></tr>\n",
              "\t<tr><th scope=row>2</th><td>LANZAROTE</td><td>Haría        </td><td> 4858</td><td> 4969</td><td> 5123</td><td>0.2304422</td><td>0.2335402</td><td>0.2379041</td></tr>\n",
              "\t<tr><th scope=row>3</th><td>LANZAROTE</td><td>San Bartolomé</td><td>18249</td><td>18327</td><td>18816</td><td>0.8656524</td><td>0.8613587</td><td>0.8737855</td></tr>\n",
              "\t<tr><th scope=row>4</th><td>LANZAROTE</td><td>Teguise      </td><td>21896</td><td>22122</td><td>22342</td><td>1.0386501</td><td>1.0397216</td><td>1.0375274</td></tr>\n",
              "\t<tr><th scope=row>5</th><td>LANZAROTE</td><td>Tías         </td><td>19964</td><td>20006</td><td>20170</td><td>0.9470045</td><td>0.9402708</td><td>0.9366631</td></tr>\n",
              "\t<tr><th scope=row>6</th><td>LANZAROTE</td><td>Tinajo       </td><td> 6028</td><td> 6119</td><td> 6279</td><td>0.2859418</td><td>0.2875896</td><td>0.2915869</td></tr>\n",
              "</tbody>\n",
              "</table>\n"
            ],
            "text/markdown": "\nA data.frame: 6 × 8\n\n| <!--/--> | Isla &lt;chr&gt; | Municipio &lt;chr&gt; | Pob_2017 &lt;dbl&gt; | Pob_2018 &lt;dbl&gt; | Pob_2019 &lt;dbl&gt; | Porcentaje_pob_2017 &lt;dbl&gt; | Porcentaje_pob_2018 &lt;dbl&gt; | Porcentaje_pob_2019 &lt;dbl&gt; |\n|---|---|---|---|---|---|---|---|---|\n| 1 | LANZAROTE | Arrecife      | 59771 | 61351 | 62988 | 2.8352737 | 2.8834625 | 2.9250637 |\n| 2 | LANZAROTE | Haría         |  4858 |  4969 |  5123 | 0.2304422 | 0.2335402 | 0.2379041 |\n| 3 | LANZAROTE | San Bartolomé | 18249 | 18327 | 18816 | 0.8656524 | 0.8613587 | 0.8737855 |\n| 4 | LANZAROTE | Teguise       | 21896 | 22122 | 22342 | 1.0386501 | 1.0397216 | 1.0375274 |\n| 5 | LANZAROTE | Tías          | 19964 | 20006 | 20170 | 0.9470045 | 0.9402708 | 0.9366631 |\n| 6 | LANZAROTE | Tinajo        |  6028 |  6119 |  6279 | 0.2859418 | 0.2875896 | 0.2915869 |\n\n",
            "text/latex": "A data.frame: 6 × 8\n\\begin{tabular}{r|llllllll}\n  & Isla & Municipio & Pob\\_2017 & Pob\\_2018 & Pob\\_2019 & Porcentaje\\_pob\\_2017 & Porcentaje\\_pob\\_2018 & Porcentaje\\_pob\\_2019\\\\\n  & <chr> & <chr> & <dbl> & <dbl> & <dbl> & <dbl> & <dbl> & <dbl>\\\\\n\\hline\n\t1 & LANZAROTE & Arrecife      & 59771 & 61351 & 62988 & 2.8352737 & 2.8834625 & 2.9250637\\\\\n\t2 & LANZAROTE & Haría         &  4858 &  4969 &  5123 & 0.2304422 & 0.2335402 & 0.2379041\\\\\n\t3 & LANZAROTE & San Bartolomé & 18249 & 18327 & 18816 & 0.8656524 & 0.8613587 & 0.8737855\\\\\n\t4 & LANZAROTE & Teguise       & 21896 & 22122 & 22342 & 1.0386501 & 1.0397216 & 1.0375274\\\\\n\t5 & LANZAROTE & Tías          & 19964 & 20006 & 20170 & 0.9470045 & 0.9402708 & 0.9366631\\\\\n\t6 & LANZAROTE & Tinajo        &  6028 &  6119 &  6279 & 0.2859418 & 0.2875896 & 0.2915869\\\\\n\\end{tabular}\n",
            "text/plain": [
              "  Isla      Municipio     Pob_2017 Pob_2018 Pob_2019 Porcentaje_pob_2017\n",
              "1 LANZAROTE Arrecife      59771    61351    62988    2.8352737          \n",
              "2 LANZAROTE Haría          4858     4969     5123    0.2304422          \n",
              "3 LANZAROTE San Bartolomé 18249    18327    18816    0.8656524          \n",
              "4 LANZAROTE Teguise       21896    22122    22342    1.0386501          \n",
              "5 LANZAROTE Tías          19964    20006    20170    0.9470045          \n",
              "6 LANZAROTE Tinajo         6028     6119     6279    0.2859418          \n",
              "  Porcentaje_pob_2018 Porcentaje_pob_2019\n",
              "1 2.8834625           2.9250637          \n",
              "2 0.2335402           0.2379041          \n",
              "3 0.8613587           0.8737855          \n",
              "4 1.0397216           1.0375274          \n",
              "5 0.9402708           0.9366631          \n",
              "6 0.2875896           0.2915869          "
            ]
          },
          "metadata": {}
        }
      ]
    },
    {
      "cell_type": "markdown",
      "source": [
        "Esto es así porque comparar cualquier población de cualquier municipio con la totalidad canaria es una idea pésima, pues la diferencia de magnitudes provocará que nunca haya un municipio tan sobre-poblado como para que alcance el 30% de la población, por lo que el conjunto de municipios original será igual que el conjunto final."
      ],
      "metadata": {
        "id": "cb5kYiz3AI4M"
      }
    },
    {
      "cell_type": "markdown",
      "source": [
        "En el _excel_ del siguiente apartado se guardarán todos los municipios con más del 30% de la población, pues es estrictamente lo que exige el enunciado. Sin embargo, para mostrar otras poblaciones, vamos a mostrar aquellos municipios que tienen menos de un 30% de población **frente a la población total de su propia isla**."
      ],
      "metadata": {
        "id": "ijmOwSlqAs28"
      }
    },
    {
      "cell_type": "code",
      "source": [
        "poblacion_por_isla <- paralel_can_pob %>%\n",
        "    group_by(Isla) %>%\n",
        "    summarise('Poblacion' = sum(Pob_2019)) %>%\n",
        "    rename('Isla_n' = Isla)\n",
        "\n",
        "poblacion_por_isla"
      ],
      "metadata": {
        "colab": {
          "base_uri": "https://localhost:8080/",
          "height": 192
        },
        "id": "FybuZI17Bd38",
        "outputId": "69c02ba5-71ed-48c4-c8cb-de8124b88052"
      },
      "execution_count": 91,
      "outputs": [
        {
          "output_type": "display_data",
          "data": {
            "text/html": [
              "<table class=\"dataframe\">\n",
              "<caption>A tibble: 3 × 2</caption>\n",
              "<thead>\n",
              "\t<tr><th scope=col>Isla_n</th><th scope=col>Poblacion</th></tr>\n",
              "\t<tr><th scope=col>&lt;chr&gt;</th><th scope=col>&lt;dbl&gt;</th></tr>\n",
              "</thead>\n",
              "<tbody>\n",
              "\t<tr><td>FUERTEVENTURA</td><td>116886</td></tr>\n",
              "\t<tr><td>GRANCANARIA  </td><td>851231</td></tr>\n",
              "\t<tr><td>LANZAROTE    </td><td>152289</td></tr>\n",
              "</tbody>\n",
              "</table>\n"
            ],
            "text/markdown": "\nA tibble: 3 × 2\n\n| Isla_n &lt;chr&gt; | Poblacion &lt;dbl&gt; |\n|---|---|\n| FUERTEVENTURA | 116886 |\n| GRANCANARIA   | 851231 |\n| LANZAROTE     | 152289 |\n\n",
            "text/latex": "A tibble: 3 × 2\n\\begin{tabular}{ll}\n Isla\\_n & Poblacion\\\\\n <chr> & <dbl>\\\\\n\\hline\n\t FUERTEVENTURA & 116886\\\\\n\t GRANCANARIA   & 851231\\\\\n\t LANZAROTE     & 152289\\\\\n\\end{tabular}\n",
            "text/plain": [
              "  Isla_n        Poblacion\n",
              "1 FUERTEVENTURA 116886   \n",
              "2 GRANCANARIA   851231   \n",
              "3 LANZAROTE     152289   "
            ]
          },
          "metadata": {}
        }
      ]
    },
    {
      "cell_type": "code",
      "source": [
        "filter(poblacion_por_isla, Isla_n == 'LANZAROTE')$Poblacion"
      ],
      "metadata": {
        "colab": {
          "base_uri": "https://localhost:8080/",
          "height": 34
        },
        "id": "QGkTelPeDTn8",
        "outputId": "45633158-4c6d-4295-9ff2-4d4d306ac185"
      },
      "execution_count": 92,
      "outputs": [
        {
          "output_type": "display_data",
          "data": {
            "text/html": [
              "152289"
            ],
            "text/markdown": "152289",
            "text/latex": "152289",
            "text/plain": [
              "[1] 152289"
            ]
          },
          "metadata": {}
        }
      ]
    },
    {
      "cell_type": "code",
      "source": [
        "paralel_can_pob <- paralel_can_pob %>%\n",
        "    filter(., Pob_2019 <= (0.3 * case_when(\n",
        "        Isla == 'LANZAROTE' ~ filter(poblacion_por_isla, Isla_n == 'LANZAROTE')$Poblacion,\n",
        "        Isla == 'FUERTEVENTURA' ~ filter(poblacion_por_isla, Isla_n == 'FUERTEVENTURA')$Poblacion,\n",
        "        Isla == 'GRANCANARIA' ~ filter(poblacion_por_isla, Isla_n == 'GRANCANARIA')$Poblacion\n",
        "    )))\n",
        "\n",
        "head(paralel_can_pob)"
      ],
      "metadata": {
        "colab": {
          "base_uri": "https://localhost:8080/",
          "height": 286
        },
        "id": "hRVHaOaiCgi8",
        "outputId": "a81ec77d-cc30-4699-968a-94d79ac11227"
      },
      "execution_count": 93,
      "outputs": [
        {
          "output_type": "display_data",
          "data": {
            "text/html": [
              "<table class=\"dataframe\">\n",
              "<caption>A data.frame: 6 × 8</caption>\n",
              "<thead>\n",
              "\t<tr><th></th><th scope=col>Isla</th><th scope=col>Municipio</th><th scope=col>Pob_2017</th><th scope=col>Pob_2018</th><th scope=col>Pob_2019</th><th scope=col>Porcentaje_pob_2017</th><th scope=col>Porcentaje_pob_2018</th><th scope=col>Porcentaje_pob_2019</th></tr>\n",
              "\t<tr><th></th><th scope=col>&lt;chr&gt;</th><th scope=col>&lt;chr&gt;</th><th scope=col>&lt;dbl&gt;</th><th scope=col>&lt;dbl&gt;</th><th scope=col>&lt;dbl&gt;</th><th scope=col>&lt;dbl&gt;</th><th scope=col>&lt;dbl&gt;</th><th scope=col>&lt;dbl&gt;</th></tr>\n",
              "</thead>\n",
              "<tbody>\n",
              "\t<tr><th scope=row>1</th><td>LANZAROTE</td><td>Haría        </td><td> 4858</td><td> 4969</td><td> 5123</td><td>0.2304422</td><td>0.2335402</td><td>0.2379041</td></tr>\n",
              "\t<tr><th scope=row>2</th><td>LANZAROTE</td><td>San Bartolomé</td><td>18249</td><td>18327</td><td>18816</td><td>0.8656524</td><td>0.8613587</td><td>0.8737855</td></tr>\n",
              "\t<tr><th scope=row>3</th><td>LANZAROTE</td><td>Teguise      </td><td>21896</td><td>22122</td><td>22342</td><td>1.0386501</td><td>1.0397216</td><td>1.0375274</td></tr>\n",
              "\t<tr><th scope=row>4</th><td>LANZAROTE</td><td>Tías         </td><td>19964</td><td>20006</td><td>20170</td><td>0.9470045</td><td>0.9402708</td><td>0.9366631</td></tr>\n",
              "\t<tr><th scope=row>5</th><td>LANZAROTE</td><td>Tinajo       </td><td> 6028</td><td> 6119</td><td> 6279</td><td>0.2859418</td><td>0.2875896</td><td>0.2915869</td></tr>\n",
              "\t<tr><th scope=row>6</th><td>LANZAROTE</td><td>Yaiza        </td><td>16257</td><td>16289</td><td>16571</td><td>0.7711607</td><td>0.7655739</td><td>0.7695312</td></tr>\n",
              "</tbody>\n",
              "</table>\n"
            ],
            "text/markdown": "\nA data.frame: 6 × 8\n\n| <!--/--> | Isla &lt;chr&gt; | Municipio &lt;chr&gt; | Pob_2017 &lt;dbl&gt; | Pob_2018 &lt;dbl&gt; | Pob_2019 &lt;dbl&gt; | Porcentaje_pob_2017 &lt;dbl&gt; | Porcentaje_pob_2018 &lt;dbl&gt; | Porcentaje_pob_2019 &lt;dbl&gt; |\n|---|---|---|---|---|---|---|---|---|\n| 1 | LANZAROTE | Haría         |  4858 |  4969 |  5123 | 0.2304422 | 0.2335402 | 0.2379041 |\n| 2 | LANZAROTE | San Bartolomé | 18249 | 18327 | 18816 | 0.8656524 | 0.8613587 | 0.8737855 |\n| 3 | LANZAROTE | Teguise       | 21896 | 22122 | 22342 | 1.0386501 | 1.0397216 | 1.0375274 |\n| 4 | LANZAROTE | Tías          | 19964 | 20006 | 20170 | 0.9470045 | 0.9402708 | 0.9366631 |\n| 5 | LANZAROTE | Tinajo        |  6028 |  6119 |  6279 | 0.2859418 | 0.2875896 | 0.2915869 |\n| 6 | LANZAROTE | Yaiza         | 16257 | 16289 | 16571 | 0.7711607 | 0.7655739 | 0.7695312 |\n\n",
            "text/latex": "A data.frame: 6 × 8\n\\begin{tabular}{r|llllllll}\n  & Isla & Municipio & Pob\\_2017 & Pob\\_2018 & Pob\\_2019 & Porcentaje\\_pob\\_2017 & Porcentaje\\_pob\\_2018 & Porcentaje\\_pob\\_2019\\\\\n  & <chr> & <chr> & <dbl> & <dbl> & <dbl> & <dbl> & <dbl> & <dbl>\\\\\n\\hline\n\t1 & LANZAROTE & Haría         &  4858 &  4969 &  5123 & 0.2304422 & 0.2335402 & 0.2379041\\\\\n\t2 & LANZAROTE & San Bartolomé & 18249 & 18327 & 18816 & 0.8656524 & 0.8613587 & 0.8737855\\\\\n\t3 & LANZAROTE & Teguise       & 21896 & 22122 & 22342 & 1.0386501 & 1.0397216 & 1.0375274\\\\\n\t4 & LANZAROTE & Tías          & 19964 & 20006 & 20170 & 0.9470045 & 0.9402708 & 0.9366631\\\\\n\t5 & LANZAROTE & Tinajo        &  6028 &  6119 &  6279 & 0.2859418 & 0.2875896 & 0.2915869\\\\\n\t6 & LANZAROTE & Yaiza         & 16257 & 16289 & 16571 & 0.7711607 & 0.7655739 & 0.7695312\\\\\n\\end{tabular}\n",
            "text/plain": [
              "  Isla      Municipio     Pob_2017 Pob_2018 Pob_2019 Porcentaje_pob_2017\n",
              "1 LANZAROTE Haría          4858     4969     5123    0.2304422          \n",
              "2 LANZAROTE San Bartolomé 18249    18327    18816    0.8656524          \n",
              "3 LANZAROTE Teguise       21896    22122    22342    1.0386501          \n",
              "4 LANZAROTE Tías          19964    20006    20170    0.9470045          \n",
              "5 LANZAROTE Tinajo         6028     6119     6279    0.2859418          \n",
              "6 LANZAROTE Yaiza         16257    16289    16571    0.7711607          \n",
              "  Porcentaje_pob_2018 Porcentaje_pob_2019\n",
              "1 0.2335402           0.2379041          \n",
              "2 0.8613587           0.8737855          \n",
              "3 1.0397216           1.0375274          \n",
              "4 0.9402708           0.9366631          \n",
              "5 0.2875896           0.2915869          \n",
              "6 0.7655739           0.7695312          "
            ]
          },
          "metadata": {}
        }
      ]
    },
    {
      "cell_type": "markdown",
      "source": [
        "## Grabar los resultados en un excel"
      ],
      "metadata": {
        "id": "JonrM6uLYuSb"
      }
    },
    {
      "cell_type": "code",
      "source": [
        "write.xlsx(\n",
        "    can_pob,\n",
        "    file = 'can_pob.xlsx'\n",
        ")"
      ],
      "metadata": {
        "id": "1S5Wa4aVIJ1k"
      },
      "execution_count": 95,
      "outputs": []
    }
  ]
}