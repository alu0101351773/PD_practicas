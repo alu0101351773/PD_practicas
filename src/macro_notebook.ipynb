{
  "cells": [
    {
      "cell_type": "markdown",
      "metadata": {
        "id": "DQOPsDd09h3a"
      },
      "source": [
        "# Tarea 1: Ejercicios de prácticas"
      ]
    },
    {
      "cell_type": "markdown",
      "metadata": {
        "id": "Ywiv64DG9h3b"
      },
      "source": [
        "* Autor: Jorge Cabrera Rodríguez\n",
        "* Email: alu0101351773@ull.edu.es\n",
        "* Fecha: 9/10/2023\n",
        "* Repo: [click aquí](https://github.com/alu0101351773/PD_practicas.git)"
      ]
    },
    {
      "cell_type": "markdown",
      "metadata": {
        "id": "y4Sko_t39h3b"
      },
      "source": [
        "## Ejercicios de _python_"
      ]
    },
    {
      "cell_type": "code",
      "execution_count": 13,
      "metadata": {
        "colab": {
          "base_uri": "https://localhost:8080/"
        },
        "id": "CvgcsQxY9h3c",
        "outputId": "1c06e554-2633-4d86-e2a9-8f44897f2eb7"
      },
      "outputs": [
        {
          "output_type": "stream",
          "name": "stdout",
          "text": [
            "Drive already mounted at /content/gdrive; to attempt to forcibly remount, call drive.mount(\"/content/gdrive\", force_remount=True).\n"
          ]
        }
      ],
      "source": [
        "from google.colab import drive\n",
        "drive.mount('/content/gdrive')\n",
        "\n",
        "DATA_DIR = '/content/gdrive/My Drive/Colab Notebooks/Preprocesado de datos_2023_24/data'"
      ]
    },
    {
      "cell_type": "markdown",
      "metadata": {
        "id": "a1HUm0Dw9h3c"
      },
      "source": [
        "### Introducción a python"
      ]
    },
    {
      "cell_type": "markdown",
      "source": [
        "Cargar el fichero de Sentry: Earth Impact Monitoring que están en \"cneos_sentry_summary_data.csv\" (Fuente: [Center for Near Earth Object Studies - NASA](https://cneos.jpl.nasa.gov/sentry/#legend)).Calcular:\n",
        "\n",
        "- Probabilidad media de que impacte algún objeto en la Tierra.\n",
        "- Diámetro máximo de los objetos recogidos en la base de datos.\n",
        "- Rango medio de años en formato `[min_year, max_year]`.\n",
        "- Nombre del objeto que viaja a mayor velocidad."
      ],
      "metadata": {
        "id": "HmWoJHSn-TP5"
      }
    },
    {
      "cell_type": "markdown",
      "source": [
        "#### Lectura de fichero y creación de estructura de datos"
      ],
      "metadata": {
        "id": "nOQmbCjU-U5I"
      }
    },
    {
      "cell_type": "code",
      "source": [
        "# Creación de estructura de datos\n",
        "dataset = []\n",
        "\n",
        "# Lectura de fichero\n",
        "with open(f'{DATA_DIR}/cneos_sentry_summary_data.csv', 'r') as file:\n",
        "    # Lectura de cabecera\n",
        "    header = file.readline().strip().split(',')\n",
        "    # Lectura de datos\n",
        "    for line in file:\n",
        "        line = line.strip()\n",
        "        line = [val.removeprefix('\"').removesuffix('\"') for val in line.split(',')]\n",
        "        dataset.append({\n",
        "            'Object Designation': line[0],\n",
        "            'Year Range': [int(value) for value in line[1].split('-')],\n",
        "            'Potential Impacts': int(line[2]),\n",
        "            'cum Impact Probability': float(line[3]),\n",
        "            'V_infinity': float(line[4]),\n",
        "            'H': float(line[5]),\n",
        "            'Estimated Diameter': float(line[6]),\n",
        "            'cum Palermo Scale': float(line[7]),\n",
        "            'max Palermo Scale': float(line[8]),\n",
        "            'max Torino Scale': int(line[9]) if line[9] != '' else 0,\n",
        "        })"
      ],
      "metadata": {
        "id": "gHyimkUq-ZXR"
      },
      "execution_count": 14,
      "outputs": []
    },
    {
      "cell_type": "markdown",
      "source": [
        "#### Probabilidad media de que impacte algún objeto en la tierra"
      ],
      "metadata": {
        "id": "fjRfY_ld-7_S"
      }
    },
    {
      "cell_type": "code",
      "source": [
        "impact_probability = sum([row['cum Impact Probability'] for row in dataset]) / len(dataset)\n",
        "\n",
        "print(f'Probabilidad media de impacto: {impact_probability * 100:.4f}%')"
      ],
      "metadata": {
        "colab": {
          "base_uri": "https://localhost:8080/"
        },
        "id": "ZlBGapE6_Bny",
        "outputId": "77cf94ca-8374-4d6c-fc7b-9416a2e7d88c"
      },
      "execution_count": 9,
      "outputs": [
        {
          "output_type": "stream",
          "name": "stdout",
          "text": [
            "Probabilidad media de impacto: 0.8538%\n"
          ]
        }
      ]
    },
    {
      "cell_type": "markdown",
      "source": [
        "#### Diámetro máximo de los objetos recogidos"
      ],
      "metadata": {
        "id": "sCbGewln_Y_S"
      }
    },
    {
      "cell_type": "code",
      "source": [
        "max_diameter = max([row[\"Estimated Diameter\"] for row in dataset])\n",
        "\n",
        "print(f'Diametro maximo de objetos: {max_diameter} Km')"
      ],
      "metadata": {
        "colab": {
          "base_uri": "https://localhost:8080/"
        },
        "id": "oBE5yB9P_b2J",
        "outputId": "da67190a-39e2-4cef-d7c1-b81cec4ea2f9"
      },
      "execution_count": 10,
      "outputs": [
        {
          "output_type": "stream",
          "name": "stdout",
          "text": [
            "Diametro maximo de objetos: 1.3 Km\n"
          ]
        }
      ]
    },
    {
      "cell_type": "markdown",
      "source": [
        "#### Rango medio de años en formato `[min_year, max_year]`"
      ],
      "metadata": {
        "id": "crvynM2d_fOS"
      }
    },
    {
      "cell_type": "code",
      "source": [
        "lower_bound = sum(row['Year Range'][0] for row in dataset) / len(dataset)\n",
        "upper_bound = sum(row['Year Range'][1] for row in dataset) / len(dataset)\n",
        "\n",
        "years_range = [round(lower_bound), round(upper_bound)]\n",
        "\n",
        "print(f'Rango medio de años: {years_range}')"
      ],
      "metadata": {
        "colab": {
          "base_uri": "https://localhost:8080/"
        },
        "id": "3Q6f5cSt_kcR",
        "outputId": "86116ed9-631d-498c-e1ae-6314c54f439d"
      },
      "execution_count": 11,
      "outputs": [
        {
          "output_type": "stream",
          "name": "stdout",
          "text": [
            "Rango medio de años: [2095, 2138]\n"
          ]
        }
      ]
    },
    {
      "cell_type": "markdown",
      "source": [
        "#### Nombre del objeto que viaja a mayor velocidad"
      ],
      "metadata": {
        "id": "5BTfQHbS_udI"
      }
    },
    {
      "cell_type": "code",
      "source": [
        "fastest_item = max(\n",
        "    dataset,\n",
        "    key = lambda x: x.get('V_infinity')\n",
        ")\n",
        "\n",
        "print(f'Objeto mas veloz del conjunto de datos: {fastest_item[\"Object Designation\"]}')"
      ],
      "metadata": {
        "colab": {
          "base_uri": "https://localhost:8080/"
        },
        "id": "687OlBnb_xq6",
        "outputId": "0b76b8b3-02fe-41d4-ecb4-ca21741a9ae9"
      },
      "execution_count": 12,
      "outputs": [
        {
          "output_type": "stream",
          "name": "stdout",
          "text": [
            "Objeto mas veloz del conjunto de datos: (2005 ED224)\n"
          ]
        }
      ]
    },
    {
      "cell_type": "markdown",
      "metadata": {
        "id": "-noifPgm9h3c"
      },
      "source": [
        "### La librería _pandas_"
      ]
    },
    {
      "cell_type": "markdown",
      "source": [
        "Para el conjunto de datos de apps de Google Play 'googleplaystore.csv':\n",
        "\n",
        "- Crear un dataframe a partir del csv 'googleplaystore.csv'\n",
        "- Obtener el tipo de todas las columnas\n",
        "- Comprobar el número de valores nulos que tienen las columnas\n",
        "- Obtener el número de apps que no tienen ninguna review"
      ],
      "metadata": {
        "id": "cGUA-2qVAcLS"
      }
    },
    {
      "cell_type": "markdown",
      "source": [
        "#### Crear un dataframe a partir del csv 'googleplaystore.csv'"
      ],
      "metadata": {
        "id": "dY4bSAhDAc64"
      }
    },
    {
      "cell_type": "code",
      "source": [
        "import pandas as pd\n",
        "\n",
        "dataset = pd.read_csv(f'{DATA_DIR}/googleplaystore.csv')\n",
        "\n",
        "display(dataset)"
      ],
      "metadata": {
        "colab": {
          "base_uri": "https://localhost:8080/",
          "height": 999
        },
        "id": "q23npoxFAmBw",
        "outputId": "f0a4d8b6-2bb0-48f3-b2d5-9b069e90cee7"
      },
      "execution_count": 15,
      "outputs": [
        {
          "output_type": "display_data",
          "data": {
            "text/plain": [
              "                                                     App             Category  \\\n",
              "0         Photo Editor & Candy Camera & Grid & ScrapBook       ART_AND_DESIGN   \n",
              "1                                    Coloring book moana       ART_AND_DESIGN   \n",
              "2      U Launcher Lite – FREE Live Cool Themes, Hide ...       ART_AND_DESIGN   \n",
              "3                                  Sketch - Draw & Paint       ART_AND_DESIGN   \n",
              "4                  Pixel Draw - Number Art Coloring Book       ART_AND_DESIGN   \n",
              "...                                                  ...                  ...   \n",
              "10836                                   Sya9a Maroc - FR               FAMILY   \n",
              "10837                   Fr. Mike Schmitz Audio Teachings               FAMILY   \n",
              "10838                             Parkinson Exercices FR              MEDICAL   \n",
              "10839                      The SCP Foundation DB fr nn5n  BOOKS_AND_REFERENCE   \n",
              "10840      iHoroscope - 2018 Daily Horoscope & Astrology            LIFESTYLE   \n",
              "\n",
              "       Rating Reviews                Size     Installs  Type Price  \\\n",
              "0         4.1     159                 19M      10,000+  Free     0   \n",
              "1         3.9     967                 14M     500,000+  Free     0   \n",
              "2         4.7   87510                8.7M   5,000,000+  Free     0   \n",
              "3         4.5  215644                 25M  50,000,000+  Free     0   \n",
              "4         4.3     967                2.8M     100,000+  Free     0   \n",
              "...       ...     ...                 ...          ...   ...   ...   \n",
              "10836     4.5      38                 53M       5,000+  Free     0   \n",
              "10837     5.0       4                3.6M         100+  Free     0   \n",
              "10838     NaN       3                9.5M       1,000+  Free     0   \n",
              "10839     4.5     114  Varies with device       1,000+  Free     0   \n",
              "10840     4.5  398307                 19M  10,000,000+  Free     0   \n",
              "\n",
              "      Content Rating                     Genres      Last Updated  \\\n",
              "0           Everyone               Art & Design   January 7, 2018   \n",
              "1           Everyone  Art & Design;Pretend Play  January 15, 2018   \n",
              "2           Everyone               Art & Design    August 1, 2018   \n",
              "3               Teen               Art & Design      June 8, 2018   \n",
              "4           Everyone    Art & Design;Creativity     June 20, 2018   \n",
              "...              ...                        ...               ...   \n",
              "10836       Everyone                  Education     July 25, 2017   \n",
              "10837       Everyone                  Education      July 6, 2018   \n",
              "10838       Everyone                    Medical  January 20, 2017   \n",
              "10839     Mature 17+          Books & Reference  January 19, 2015   \n",
              "10840       Everyone                  Lifestyle     July 25, 2018   \n",
              "\n",
              "              Current Ver         Android Ver  \n",
              "0                   1.0.0        4.0.3 and up  \n",
              "1                   2.0.0        4.0.3 and up  \n",
              "2                   1.2.4        4.0.3 and up  \n",
              "3      Varies with device          4.2 and up  \n",
              "4                     1.1          4.4 and up  \n",
              "...                   ...                 ...  \n",
              "10836                1.48          4.1 and up  \n",
              "10837                 1.0          4.1 and up  \n",
              "10838                 1.0          2.2 and up  \n",
              "10839  Varies with device  Varies with device  \n",
              "10840  Varies with device  Varies with device  \n",
              "\n",
              "[10841 rows x 13 columns]"
            ],
            "text/html": [
              "\n",
              "  <div id=\"df-7fe48a94-cfc5-422f-98e4-9c39c8b4f52b\" class=\"colab-df-container\">\n",
              "    <div>\n",
              "<style scoped>\n",
              "    .dataframe tbody tr th:only-of-type {\n",
              "        vertical-align: middle;\n",
              "    }\n",
              "\n",
              "    .dataframe tbody tr th {\n",
              "        vertical-align: top;\n",
              "    }\n",
              "\n",
              "    .dataframe thead th {\n",
              "        text-align: right;\n",
              "    }\n",
              "</style>\n",
              "<table border=\"1\" class=\"dataframe\">\n",
              "  <thead>\n",
              "    <tr style=\"text-align: right;\">\n",
              "      <th></th>\n",
              "      <th>App</th>\n",
              "      <th>Category</th>\n",
              "      <th>Rating</th>\n",
              "      <th>Reviews</th>\n",
              "      <th>Size</th>\n",
              "      <th>Installs</th>\n",
              "      <th>Type</th>\n",
              "      <th>Price</th>\n",
              "      <th>Content Rating</th>\n",
              "      <th>Genres</th>\n",
              "      <th>Last Updated</th>\n",
              "      <th>Current Ver</th>\n",
              "      <th>Android Ver</th>\n",
              "    </tr>\n",
              "  </thead>\n",
              "  <tbody>\n",
              "    <tr>\n",
              "      <th>0</th>\n",
              "      <td>Photo Editor &amp; Candy Camera &amp; Grid &amp; ScrapBook</td>\n",
              "      <td>ART_AND_DESIGN</td>\n",
              "      <td>4.1</td>\n",
              "      <td>159</td>\n",
              "      <td>19M</td>\n",
              "      <td>10,000+</td>\n",
              "      <td>Free</td>\n",
              "      <td>0</td>\n",
              "      <td>Everyone</td>\n",
              "      <td>Art &amp; Design</td>\n",
              "      <td>January 7, 2018</td>\n",
              "      <td>1.0.0</td>\n",
              "      <td>4.0.3 and up</td>\n",
              "    </tr>\n",
              "    <tr>\n",
              "      <th>1</th>\n",
              "      <td>Coloring book moana</td>\n",
              "      <td>ART_AND_DESIGN</td>\n",
              "      <td>3.9</td>\n",
              "      <td>967</td>\n",
              "      <td>14M</td>\n",
              "      <td>500,000+</td>\n",
              "      <td>Free</td>\n",
              "      <td>0</td>\n",
              "      <td>Everyone</td>\n",
              "      <td>Art &amp; Design;Pretend Play</td>\n",
              "      <td>January 15, 2018</td>\n",
              "      <td>2.0.0</td>\n",
              "      <td>4.0.3 and up</td>\n",
              "    </tr>\n",
              "    <tr>\n",
              "      <th>2</th>\n",
              "      <td>U Launcher Lite – FREE Live Cool Themes, Hide ...</td>\n",
              "      <td>ART_AND_DESIGN</td>\n",
              "      <td>4.7</td>\n",
              "      <td>87510</td>\n",
              "      <td>8.7M</td>\n",
              "      <td>5,000,000+</td>\n",
              "      <td>Free</td>\n",
              "      <td>0</td>\n",
              "      <td>Everyone</td>\n",
              "      <td>Art &amp; Design</td>\n",
              "      <td>August 1, 2018</td>\n",
              "      <td>1.2.4</td>\n",
              "      <td>4.0.3 and up</td>\n",
              "    </tr>\n",
              "    <tr>\n",
              "      <th>3</th>\n",
              "      <td>Sketch - Draw &amp; Paint</td>\n",
              "      <td>ART_AND_DESIGN</td>\n",
              "      <td>4.5</td>\n",
              "      <td>215644</td>\n",
              "      <td>25M</td>\n",
              "      <td>50,000,000+</td>\n",
              "      <td>Free</td>\n",
              "      <td>0</td>\n",
              "      <td>Teen</td>\n",
              "      <td>Art &amp; Design</td>\n",
              "      <td>June 8, 2018</td>\n",
              "      <td>Varies with device</td>\n",
              "      <td>4.2 and up</td>\n",
              "    </tr>\n",
              "    <tr>\n",
              "      <th>4</th>\n",
              "      <td>Pixel Draw - Number Art Coloring Book</td>\n",
              "      <td>ART_AND_DESIGN</td>\n",
              "      <td>4.3</td>\n",
              "      <td>967</td>\n",
              "      <td>2.8M</td>\n",
              "      <td>100,000+</td>\n",
              "      <td>Free</td>\n",
              "      <td>0</td>\n",
              "      <td>Everyone</td>\n",
              "      <td>Art &amp; Design;Creativity</td>\n",
              "      <td>June 20, 2018</td>\n",
              "      <td>1.1</td>\n",
              "      <td>4.4 and up</td>\n",
              "    </tr>\n",
              "    <tr>\n",
              "      <th>...</th>\n",
              "      <td>...</td>\n",
              "      <td>...</td>\n",
              "      <td>...</td>\n",
              "      <td>...</td>\n",
              "      <td>...</td>\n",
              "      <td>...</td>\n",
              "      <td>...</td>\n",
              "      <td>...</td>\n",
              "      <td>...</td>\n",
              "      <td>...</td>\n",
              "      <td>...</td>\n",
              "      <td>...</td>\n",
              "      <td>...</td>\n",
              "    </tr>\n",
              "    <tr>\n",
              "      <th>10836</th>\n",
              "      <td>Sya9a Maroc - FR</td>\n",
              "      <td>FAMILY</td>\n",
              "      <td>4.5</td>\n",
              "      <td>38</td>\n",
              "      <td>53M</td>\n",
              "      <td>5,000+</td>\n",
              "      <td>Free</td>\n",
              "      <td>0</td>\n",
              "      <td>Everyone</td>\n",
              "      <td>Education</td>\n",
              "      <td>July 25, 2017</td>\n",
              "      <td>1.48</td>\n",
              "      <td>4.1 and up</td>\n",
              "    </tr>\n",
              "    <tr>\n",
              "      <th>10837</th>\n",
              "      <td>Fr. Mike Schmitz Audio Teachings</td>\n",
              "      <td>FAMILY</td>\n",
              "      <td>5.0</td>\n",
              "      <td>4</td>\n",
              "      <td>3.6M</td>\n",
              "      <td>100+</td>\n",
              "      <td>Free</td>\n",
              "      <td>0</td>\n",
              "      <td>Everyone</td>\n",
              "      <td>Education</td>\n",
              "      <td>July 6, 2018</td>\n",
              "      <td>1.0</td>\n",
              "      <td>4.1 and up</td>\n",
              "    </tr>\n",
              "    <tr>\n",
              "      <th>10838</th>\n",
              "      <td>Parkinson Exercices FR</td>\n",
              "      <td>MEDICAL</td>\n",
              "      <td>NaN</td>\n",
              "      <td>3</td>\n",
              "      <td>9.5M</td>\n",
              "      <td>1,000+</td>\n",
              "      <td>Free</td>\n",
              "      <td>0</td>\n",
              "      <td>Everyone</td>\n",
              "      <td>Medical</td>\n",
              "      <td>January 20, 2017</td>\n",
              "      <td>1.0</td>\n",
              "      <td>2.2 and up</td>\n",
              "    </tr>\n",
              "    <tr>\n",
              "      <th>10839</th>\n",
              "      <td>The SCP Foundation DB fr nn5n</td>\n",
              "      <td>BOOKS_AND_REFERENCE</td>\n",
              "      <td>4.5</td>\n",
              "      <td>114</td>\n",
              "      <td>Varies with device</td>\n",
              "      <td>1,000+</td>\n",
              "      <td>Free</td>\n",
              "      <td>0</td>\n",
              "      <td>Mature 17+</td>\n",
              "      <td>Books &amp; Reference</td>\n",
              "      <td>January 19, 2015</td>\n",
              "      <td>Varies with device</td>\n",
              "      <td>Varies with device</td>\n",
              "    </tr>\n",
              "    <tr>\n",
              "      <th>10840</th>\n",
              "      <td>iHoroscope - 2018 Daily Horoscope &amp; Astrology</td>\n",
              "      <td>LIFESTYLE</td>\n",
              "      <td>4.5</td>\n",
              "      <td>398307</td>\n",
              "      <td>19M</td>\n",
              "      <td>10,000,000+</td>\n",
              "      <td>Free</td>\n",
              "      <td>0</td>\n",
              "      <td>Everyone</td>\n",
              "      <td>Lifestyle</td>\n",
              "      <td>July 25, 2018</td>\n",
              "      <td>Varies with device</td>\n",
              "      <td>Varies with device</td>\n",
              "    </tr>\n",
              "  </tbody>\n",
              "</table>\n",
              "<p>10841 rows × 13 columns</p>\n",
              "</div>\n",
              "    <div class=\"colab-df-buttons\">\n",
              "\n",
              "  <div class=\"colab-df-container\">\n",
              "    <button class=\"colab-df-convert\" onclick=\"convertToInteractive('df-7fe48a94-cfc5-422f-98e4-9c39c8b4f52b')\"\n",
              "            title=\"Convert this dataframe to an interactive table.\"\n",
              "            style=\"display:none;\">\n",
              "\n",
              "  <svg xmlns=\"http://www.w3.org/2000/svg\" height=\"24px\" viewBox=\"0 -960 960 960\">\n",
              "    <path d=\"M120-120v-720h720v720H120Zm60-500h600v-160H180v160Zm220 220h160v-160H400v160Zm0 220h160v-160H400v160ZM180-400h160v-160H180v160Zm440 0h160v-160H620v160ZM180-180h160v-160H180v160Zm440 0h160v-160H620v160Z\"/>\n",
              "  </svg>\n",
              "    </button>\n",
              "\n",
              "  <style>\n",
              "    .colab-df-container {\n",
              "      display:flex;\n",
              "      gap: 12px;\n",
              "    }\n",
              "\n",
              "    .colab-df-convert {\n",
              "      background-color: #E8F0FE;\n",
              "      border: none;\n",
              "      border-radius: 50%;\n",
              "      cursor: pointer;\n",
              "      display: none;\n",
              "      fill: #1967D2;\n",
              "      height: 32px;\n",
              "      padding: 0 0 0 0;\n",
              "      width: 32px;\n",
              "    }\n",
              "\n",
              "    .colab-df-convert:hover {\n",
              "      background-color: #E2EBFA;\n",
              "      box-shadow: 0px 1px 2px rgba(60, 64, 67, 0.3), 0px 1px 3px 1px rgba(60, 64, 67, 0.15);\n",
              "      fill: #174EA6;\n",
              "    }\n",
              "\n",
              "    .colab-df-buttons div {\n",
              "      margin-bottom: 4px;\n",
              "    }\n",
              "\n",
              "    [theme=dark] .colab-df-convert {\n",
              "      background-color: #3B4455;\n",
              "      fill: #D2E3FC;\n",
              "    }\n",
              "\n",
              "    [theme=dark] .colab-df-convert:hover {\n",
              "      background-color: #434B5C;\n",
              "      box-shadow: 0px 1px 3px 1px rgba(0, 0, 0, 0.15);\n",
              "      filter: drop-shadow(0px 1px 2px rgba(0, 0, 0, 0.3));\n",
              "      fill: #FFFFFF;\n",
              "    }\n",
              "  </style>\n",
              "\n",
              "    <script>\n",
              "      const buttonEl =\n",
              "        document.querySelector('#df-7fe48a94-cfc5-422f-98e4-9c39c8b4f52b button.colab-df-convert');\n",
              "      buttonEl.style.display =\n",
              "        google.colab.kernel.accessAllowed ? 'block' : 'none';\n",
              "\n",
              "      async function convertToInteractive(key) {\n",
              "        const element = document.querySelector('#df-7fe48a94-cfc5-422f-98e4-9c39c8b4f52b');\n",
              "        const dataTable =\n",
              "          await google.colab.kernel.invokeFunction('convertToInteractive',\n",
              "                                                    [key], {});\n",
              "        if (!dataTable) return;\n",
              "\n",
              "        const docLinkHtml = 'Like what you see? Visit the ' +\n",
              "          '<a target=\"_blank\" href=https://colab.research.google.com/notebooks/data_table.ipynb>data table notebook</a>'\n",
              "          + ' to learn more about interactive tables.';\n",
              "        element.innerHTML = '';\n",
              "        dataTable['output_type'] = 'display_data';\n",
              "        await google.colab.output.renderOutput(dataTable, element);\n",
              "        const docLink = document.createElement('div');\n",
              "        docLink.innerHTML = docLinkHtml;\n",
              "        element.appendChild(docLink);\n",
              "      }\n",
              "    </script>\n",
              "  </div>\n",
              "\n",
              "\n",
              "<div id=\"df-8135090e-b4d4-4e71-aff1-5d9a683e75e5\">\n",
              "  <button class=\"colab-df-quickchart\" onclick=\"quickchart('df-8135090e-b4d4-4e71-aff1-5d9a683e75e5')\"\n",
              "            title=\"Suggest charts.\"\n",
              "            style=\"display:none;\">\n",
              "\n",
              "<svg xmlns=\"http://www.w3.org/2000/svg\" height=\"24px\"viewBox=\"0 0 24 24\"\n",
              "     width=\"24px\">\n",
              "    <g>\n",
              "        <path d=\"M19 3H5c-1.1 0-2 .9-2 2v14c0 1.1.9 2 2 2h14c1.1 0 2-.9 2-2V5c0-1.1-.9-2-2-2zM9 17H7v-7h2v7zm4 0h-2V7h2v10zm4 0h-2v-4h2v4z\"/>\n",
              "    </g>\n",
              "</svg>\n",
              "  </button>\n",
              "\n",
              "<style>\n",
              "  .colab-df-quickchart {\n",
              "      --bg-color: #E8F0FE;\n",
              "      --fill-color: #1967D2;\n",
              "      --hover-bg-color: #E2EBFA;\n",
              "      --hover-fill-color: #174EA6;\n",
              "      --disabled-fill-color: #AAA;\n",
              "      --disabled-bg-color: #DDD;\n",
              "  }\n",
              "\n",
              "  [theme=dark] .colab-df-quickchart {\n",
              "      --bg-color: #3B4455;\n",
              "      --fill-color: #D2E3FC;\n",
              "      --hover-bg-color: #434B5C;\n",
              "      --hover-fill-color: #FFFFFF;\n",
              "      --disabled-bg-color: #3B4455;\n",
              "      --disabled-fill-color: #666;\n",
              "  }\n",
              "\n",
              "  .colab-df-quickchart {\n",
              "    background-color: var(--bg-color);\n",
              "    border: none;\n",
              "    border-radius: 50%;\n",
              "    cursor: pointer;\n",
              "    display: none;\n",
              "    fill: var(--fill-color);\n",
              "    height: 32px;\n",
              "    padding: 0;\n",
              "    width: 32px;\n",
              "  }\n",
              "\n",
              "  .colab-df-quickchart:hover {\n",
              "    background-color: var(--hover-bg-color);\n",
              "    box-shadow: 0 1px 2px rgba(60, 64, 67, 0.3), 0 1px 3px 1px rgba(60, 64, 67, 0.15);\n",
              "    fill: var(--button-hover-fill-color);\n",
              "  }\n",
              "\n",
              "  .colab-df-quickchart-complete:disabled,\n",
              "  .colab-df-quickchart-complete:disabled:hover {\n",
              "    background-color: var(--disabled-bg-color);\n",
              "    fill: var(--disabled-fill-color);\n",
              "    box-shadow: none;\n",
              "  }\n",
              "\n",
              "  .colab-df-spinner {\n",
              "    border: 2px solid var(--fill-color);\n",
              "    border-color: transparent;\n",
              "    border-bottom-color: var(--fill-color);\n",
              "    animation:\n",
              "      spin 1s steps(1) infinite;\n",
              "  }\n",
              "\n",
              "  @keyframes spin {\n",
              "    0% {\n",
              "      border-color: transparent;\n",
              "      border-bottom-color: var(--fill-color);\n",
              "      border-left-color: var(--fill-color);\n",
              "    }\n",
              "    20% {\n",
              "      border-color: transparent;\n",
              "      border-left-color: var(--fill-color);\n",
              "      border-top-color: var(--fill-color);\n",
              "    }\n",
              "    30% {\n",
              "      border-color: transparent;\n",
              "      border-left-color: var(--fill-color);\n",
              "      border-top-color: var(--fill-color);\n",
              "      border-right-color: var(--fill-color);\n",
              "    }\n",
              "    40% {\n",
              "      border-color: transparent;\n",
              "      border-right-color: var(--fill-color);\n",
              "      border-top-color: var(--fill-color);\n",
              "    }\n",
              "    60% {\n",
              "      border-color: transparent;\n",
              "      border-right-color: var(--fill-color);\n",
              "    }\n",
              "    80% {\n",
              "      border-color: transparent;\n",
              "      border-right-color: var(--fill-color);\n",
              "      border-bottom-color: var(--fill-color);\n",
              "    }\n",
              "    90% {\n",
              "      border-color: transparent;\n",
              "      border-bottom-color: var(--fill-color);\n",
              "    }\n",
              "  }\n",
              "</style>\n",
              "\n",
              "  <script>\n",
              "    async function quickchart(key) {\n",
              "      const quickchartButtonEl =\n",
              "        document.querySelector('#' + key + ' button');\n",
              "      quickchartButtonEl.disabled = true;  // To prevent multiple clicks.\n",
              "      quickchartButtonEl.classList.add('colab-df-spinner');\n",
              "      try {\n",
              "        const charts = await google.colab.kernel.invokeFunction(\n",
              "            'suggestCharts', [key], {});\n",
              "      } catch (error) {\n",
              "        console.error('Error during call to suggestCharts:', error);\n",
              "      }\n",
              "      quickchartButtonEl.classList.remove('colab-df-spinner');\n",
              "      quickchartButtonEl.classList.add('colab-df-quickchart-complete');\n",
              "    }\n",
              "    (() => {\n",
              "      let quickchartButtonEl =\n",
              "        document.querySelector('#df-8135090e-b4d4-4e71-aff1-5d9a683e75e5 button');\n",
              "      quickchartButtonEl.style.display =\n",
              "        google.colab.kernel.accessAllowed ? 'block' : 'none';\n",
              "    })();\n",
              "  </script>\n",
              "</div>\n",
              "    </div>\n",
              "  </div>\n"
            ]
          },
          "metadata": {}
        }
      ]
    },
    {
      "cell_type": "markdown",
      "source": [
        "#### Obtener el tipo de todas las columnas"
      ],
      "metadata": {
        "id": "9OdrOCBTA-wZ"
      }
    },
    {
      "cell_type": "code",
      "source": [
        "display(dataset.dtypes)"
      ],
      "metadata": {
        "colab": {
          "base_uri": "https://localhost:8080/",
          "height": 260
        },
        "id": "v1PBEUR9BBFq",
        "outputId": "a6464aeb-18f8-4696-8632-1104a8253b86"
      },
      "execution_count": 16,
      "outputs": [
        {
          "output_type": "display_data",
          "data": {
            "text/plain": [
              "App                object\n",
              "Category           object\n",
              "Rating            float64\n",
              "Reviews            object\n",
              "Size               object\n",
              "Installs           object\n",
              "Type               object\n",
              "Price              object\n",
              "Content Rating     object\n",
              "Genres             object\n",
              "Last Updated       object\n",
              "Current Ver        object\n",
              "Android Ver        object\n",
              "dtype: object"
            ]
          },
          "metadata": {}
        }
      ]
    },
    {
      "cell_type": "markdown",
      "source": [
        "#### Comprobar el número de valores nulos que tienen las columnas"
      ],
      "metadata": {
        "id": "IO_y_DMMBFnJ"
      }
    },
    {
      "cell_type": "code",
      "source": [
        "display(dataset.isnull().sum())"
      ],
      "metadata": {
        "colab": {
          "base_uri": "https://localhost:8080/",
          "height": 260
        },
        "id": "aa2jhlYYBJPY",
        "outputId": "17774d91-1915-44f7-df03-9fa649b2bf73"
      },
      "execution_count": 17,
      "outputs": [
        {
          "output_type": "display_data",
          "data": {
            "text/plain": [
              "App                  0\n",
              "Category             0\n",
              "Rating            1474\n",
              "Reviews              0\n",
              "Size                 0\n",
              "Installs             0\n",
              "Type                 1\n",
              "Price                0\n",
              "Content Rating       1\n",
              "Genres               0\n",
              "Last Updated         0\n",
              "Current Ver          8\n",
              "Android Ver          3\n",
              "dtype: int64"
            ]
          },
          "metadata": {}
        }
      ]
    },
    {
      "cell_type": "markdown",
      "source": [
        "#### Obtener el número de apps que no tienen ninguna review"
      ],
      "metadata": {
        "id": "4_iphdhYBMQD"
      }
    },
    {
      "cell_type": "code",
      "source": [
        "unreviewed_apps = dataset['Reviews'].value_counts()['0']\n",
        "\n",
        "print(f'Numero de apps sin review: {unreviewed_apps}')"
      ],
      "metadata": {
        "colab": {
          "base_uri": "https://localhost:8080/"
        },
        "id": "z7dMaTq4BPWQ",
        "outputId": "81743781-ce96-42ce-9140-a00157732f3d"
      },
      "execution_count": 18,
      "outputs": [
        {
          "output_type": "stream",
          "name": "stdout",
          "text": [
            "Numero de apps sin review: 596\n"
          ]
        }
      ]
    },
    {
      "cell_type": "markdown",
      "metadata": {
        "id": "pgCgfSDv9h3c"
      },
      "source": [
        "### _matplotlib_ y _plotly_"
      ]
    },
    {
      "cell_type": "markdown",
      "source": [
        "Para el conjunto de datos de apps de Google Play 'googleplaystore.csv':\n",
        "\n",
        "- Realizar un gráfico histograma de la variable \"Rating\" de las apps\n",
        "- Realizar un diagrama de barras de la variable \"Category\" de las apps\n",
        "- Realizar un gráfico de dispersión de \"Rating\" vs \"Reviews\"\n",
        "- (OPCIONAL) Realizar otro gráfico de los vistos anteriormente utilizando otras variables del dataset."
      ],
      "metadata": {
        "id": "GJJHqZJqBigR"
      }
    },
    {
      "cell_type": "markdown",
      "source": [
        "#### Realizar un gráfico histograma de la variable \"Rating\" de las apps"
      ],
      "metadata": {
        "id": "Waqwtk1nBjL6"
      }
    },
    {
      "cell_type": "code",
      "source": [
        "import pandas as pd\n",
        "\n",
        "dataset = pd.read_csv(f'{DATA_DIR}/googleplaystore.csv')\n",
        "dataset.drop(dataset[dataset.Category == '1.9'].index, inplace=True)\n",
        "\n",
        "display(dataset)"
      ],
      "metadata": {
        "colab": {
          "base_uri": "https://localhost:8080/",
          "height": 999
        },
        "id": "mjf8_nceBsvR",
        "outputId": "6686f1e4-8970-4a32-af2c-61064d1d0c38"
      },
      "execution_count": 21,
      "outputs": [
        {
          "output_type": "display_data",
          "data": {
            "text/plain": [
              "                                                     App             Category  \\\n",
              "0         Photo Editor & Candy Camera & Grid & ScrapBook       ART_AND_DESIGN   \n",
              "1                                    Coloring book moana       ART_AND_DESIGN   \n",
              "2      U Launcher Lite – FREE Live Cool Themes, Hide ...       ART_AND_DESIGN   \n",
              "3                                  Sketch - Draw & Paint       ART_AND_DESIGN   \n",
              "4                  Pixel Draw - Number Art Coloring Book       ART_AND_DESIGN   \n",
              "...                                                  ...                  ...   \n",
              "10836                                   Sya9a Maroc - FR               FAMILY   \n",
              "10837                   Fr. Mike Schmitz Audio Teachings               FAMILY   \n",
              "10838                             Parkinson Exercices FR              MEDICAL   \n",
              "10839                      The SCP Foundation DB fr nn5n  BOOKS_AND_REFERENCE   \n",
              "10840      iHoroscope - 2018 Daily Horoscope & Astrology            LIFESTYLE   \n",
              "\n",
              "       Rating Reviews                Size     Installs  Type Price  \\\n",
              "0         4.1     159                 19M      10,000+  Free     0   \n",
              "1         3.9     967                 14M     500,000+  Free     0   \n",
              "2         4.7   87510                8.7M   5,000,000+  Free     0   \n",
              "3         4.5  215644                 25M  50,000,000+  Free     0   \n",
              "4         4.3     967                2.8M     100,000+  Free     0   \n",
              "...       ...     ...                 ...          ...   ...   ...   \n",
              "10836     4.5      38                 53M       5,000+  Free     0   \n",
              "10837     5.0       4                3.6M         100+  Free     0   \n",
              "10838     NaN       3                9.5M       1,000+  Free     0   \n",
              "10839     4.5     114  Varies with device       1,000+  Free     0   \n",
              "10840     4.5  398307                 19M  10,000,000+  Free     0   \n",
              "\n",
              "      Content Rating                     Genres      Last Updated  \\\n",
              "0           Everyone               Art & Design   January 7, 2018   \n",
              "1           Everyone  Art & Design;Pretend Play  January 15, 2018   \n",
              "2           Everyone               Art & Design    August 1, 2018   \n",
              "3               Teen               Art & Design      June 8, 2018   \n",
              "4           Everyone    Art & Design;Creativity     June 20, 2018   \n",
              "...              ...                        ...               ...   \n",
              "10836       Everyone                  Education     July 25, 2017   \n",
              "10837       Everyone                  Education      July 6, 2018   \n",
              "10838       Everyone                    Medical  January 20, 2017   \n",
              "10839     Mature 17+          Books & Reference  January 19, 2015   \n",
              "10840       Everyone                  Lifestyle     July 25, 2018   \n",
              "\n",
              "              Current Ver         Android Ver  \n",
              "0                   1.0.0        4.0.3 and up  \n",
              "1                   2.0.0        4.0.3 and up  \n",
              "2                   1.2.4        4.0.3 and up  \n",
              "3      Varies with device          4.2 and up  \n",
              "4                     1.1          4.4 and up  \n",
              "...                   ...                 ...  \n",
              "10836                1.48          4.1 and up  \n",
              "10837                 1.0          4.1 and up  \n",
              "10838                 1.0          2.2 and up  \n",
              "10839  Varies with device  Varies with device  \n",
              "10840  Varies with device  Varies with device  \n",
              "\n",
              "[10840 rows x 13 columns]"
            ],
            "text/html": [
              "\n",
              "  <div id=\"df-390208f4-6576-43fe-bfaa-a6ab7b758dbb\" class=\"colab-df-container\">\n",
              "    <div>\n",
              "<style scoped>\n",
              "    .dataframe tbody tr th:only-of-type {\n",
              "        vertical-align: middle;\n",
              "    }\n",
              "\n",
              "    .dataframe tbody tr th {\n",
              "        vertical-align: top;\n",
              "    }\n",
              "\n",
              "    .dataframe thead th {\n",
              "        text-align: right;\n",
              "    }\n",
              "</style>\n",
              "<table border=\"1\" class=\"dataframe\">\n",
              "  <thead>\n",
              "    <tr style=\"text-align: right;\">\n",
              "      <th></th>\n",
              "      <th>App</th>\n",
              "      <th>Category</th>\n",
              "      <th>Rating</th>\n",
              "      <th>Reviews</th>\n",
              "      <th>Size</th>\n",
              "      <th>Installs</th>\n",
              "      <th>Type</th>\n",
              "      <th>Price</th>\n",
              "      <th>Content Rating</th>\n",
              "      <th>Genres</th>\n",
              "      <th>Last Updated</th>\n",
              "      <th>Current Ver</th>\n",
              "      <th>Android Ver</th>\n",
              "    </tr>\n",
              "  </thead>\n",
              "  <tbody>\n",
              "    <tr>\n",
              "      <th>0</th>\n",
              "      <td>Photo Editor &amp; Candy Camera &amp; Grid &amp; ScrapBook</td>\n",
              "      <td>ART_AND_DESIGN</td>\n",
              "      <td>4.1</td>\n",
              "      <td>159</td>\n",
              "      <td>19M</td>\n",
              "      <td>10,000+</td>\n",
              "      <td>Free</td>\n",
              "      <td>0</td>\n",
              "      <td>Everyone</td>\n",
              "      <td>Art &amp; Design</td>\n",
              "      <td>January 7, 2018</td>\n",
              "      <td>1.0.0</td>\n",
              "      <td>4.0.3 and up</td>\n",
              "    </tr>\n",
              "    <tr>\n",
              "      <th>1</th>\n",
              "      <td>Coloring book moana</td>\n",
              "      <td>ART_AND_DESIGN</td>\n",
              "      <td>3.9</td>\n",
              "      <td>967</td>\n",
              "      <td>14M</td>\n",
              "      <td>500,000+</td>\n",
              "      <td>Free</td>\n",
              "      <td>0</td>\n",
              "      <td>Everyone</td>\n",
              "      <td>Art &amp; Design;Pretend Play</td>\n",
              "      <td>January 15, 2018</td>\n",
              "      <td>2.0.0</td>\n",
              "      <td>4.0.3 and up</td>\n",
              "    </tr>\n",
              "    <tr>\n",
              "      <th>2</th>\n",
              "      <td>U Launcher Lite – FREE Live Cool Themes, Hide ...</td>\n",
              "      <td>ART_AND_DESIGN</td>\n",
              "      <td>4.7</td>\n",
              "      <td>87510</td>\n",
              "      <td>8.7M</td>\n",
              "      <td>5,000,000+</td>\n",
              "      <td>Free</td>\n",
              "      <td>0</td>\n",
              "      <td>Everyone</td>\n",
              "      <td>Art &amp; Design</td>\n",
              "      <td>August 1, 2018</td>\n",
              "      <td>1.2.4</td>\n",
              "      <td>4.0.3 and up</td>\n",
              "    </tr>\n",
              "    <tr>\n",
              "      <th>3</th>\n",
              "      <td>Sketch - Draw &amp; Paint</td>\n",
              "      <td>ART_AND_DESIGN</td>\n",
              "      <td>4.5</td>\n",
              "      <td>215644</td>\n",
              "      <td>25M</td>\n",
              "      <td>50,000,000+</td>\n",
              "      <td>Free</td>\n",
              "      <td>0</td>\n",
              "      <td>Teen</td>\n",
              "      <td>Art &amp; Design</td>\n",
              "      <td>June 8, 2018</td>\n",
              "      <td>Varies with device</td>\n",
              "      <td>4.2 and up</td>\n",
              "    </tr>\n",
              "    <tr>\n",
              "      <th>4</th>\n",
              "      <td>Pixel Draw - Number Art Coloring Book</td>\n",
              "      <td>ART_AND_DESIGN</td>\n",
              "      <td>4.3</td>\n",
              "      <td>967</td>\n",
              "      <td>2.8M</td>\n",
              "      <td>100,000+</td>\n",
              "      <td>Free</td>\n",
              "      <td>0</td>\n",
              "      <td>Everyone</td>\n",
              "      <td>Art &amp; Design;Creativity</td>\n",
              "      <td>June 20, 2018</td>\n",
              "      <td>1.1</td>\n",
              "      <td>4.4 and up</td>\n",
              "    </tr>\n",
              "    <tr>\n",
              "      <th>...</th>\n",
              "      <td>...</td>\n",
              "      <td>...</td>\n",
              "      <td>...</td>\n",
              "      <td>...</td>\n",
              "      <td>...</td>\n",
              "      <td>...</td>\n",
              "      <td>...</td>\n",
              "      <td>...</td>\n",
              "      <td>...</td>\n",
              "      <td>...</td>\n",
              "      <td>...</td>\n",
              "      <td>...</td>\n",
              "      <td>...</td>\n",
              "    </tr>\n",
              "    <tr>\n",
              "      <th>10836</th>\n",
              "      <td>Sya9a Maroc - FR</td>\n",
              "      <td>FAMILY</td>\n",
              "      <td>4.5</td>\n",
              "      <td>38</td>\n",
              "      <td>53M</td>\n",
              "      <td>5,000+</td>\n",
              "      <td>Free</td>\n",
              "      <td>0</td>\n",
              "      <td>Everyone</td>\n",
              "      <td>Education</td>\n",
              "      <td>July 25, 2017</td>\n",
              "      <td>1.48</td>\n",
              "      <td>4.1 and up</td>\n",
              "    </tr>\n",
              "    <tr>\n",
              "      <th>10837</th>\n",
              "      <td>Fr. Mike Schmitz Audio Teachings</td>\n",
              "      <td>FAMILY</td>\n",
              "      <td>5.0</td>\n",
              "      <td>4</td>\n",
              "      <td>3.6M</td>\n",
              "      <td>100+</td>\n",
              "      <td>Free</td>\n",
              "      <td>0</td>\n",
              "      <td>Everyone</td>\n",
              "      <td>Education</td>\n",
              "      <td>July 6, 2018</td>\n",
              "      <td>1.0</td>\n",
              "      <td>4.1 and up</td>\n",
              "    </tr>\n",
              "    <tr>\n",
              "      <th>10838</th>\n",
              "      <td>Parkinson Exercices FR</td>\n",
              "      <td>MEDICAL</td>\n",
              "      <td>NaN</td>\n",
              "      <td>3</td>\n",
              "      <td>9.5M</td>\n",
              "      <td>1,000+</td>\n",
              "      <td>Free</td>\n",
              "      <td>0</td>\n",
              "      <td>Everyone</td>\n",
              "      <td>Medical</td>\n",
              "      <td>January 20, 2017</td>\n",
              "      <td>1.0</td>\n",
              "      <td>2.2 and up</td>\n",
              "    </tr>\n",
              "    <tr>\n",
              "      <th>10839</th>\n",
              "      <td>The SCP Foundation DB fr nn5n</td>\n",
              "      <td>BOOKS_AND_REFERENCE</td>\n",
              "      <td>4.5</td>\n",
              "      <td>114</td>\n",
              "      <td>Varies with device</td>\n",
              "      <td>1,000+</td>\n",
              "      <td>Free</td>\n",
              "      <td>0</td>\n",
              "      <td>Mature 17+</td>\n",
              "      <td>Books &amp; Reference</td>\n",
              "      <td>January 19, 2015</td>\n",
              "      <td>Varies with device</td>\n",
              "      <td>Varies with device</td>\n",
              "    </tr>\n",
              "    <tr>\n",
              "      <th>10840</th>\n",
              "      <td>iHoroscope - 2018 Daily Horoscope &amp; Astrology</td>\n",
              "      <td>LIFESTYLE</td>\n",
              "      <td>4.5</td>\n",
              "      <td>398307</td>\n",
              "      <td>19M</td>\n",
              "      <td>10,000,000+</td>\n",
              "      <td>Free</td>\n",
              "      <td>0</td>\n",
              "      <td>Everyone</td>\n",
              "      <td>Lifestyle</td>\n",
              "      <td>July 25, 2018</td>\n",
              "      <td>Varies with device</td>\n",
              "      <td>Varies with device</td>\n",
              "    </tr>\n",
              "  </tbody>\n",
              "</table>\n",
              "<p>10840 rows × 13 columns</p>\n",
              "</div>\n",
              "    <div class=\"colab-df-buttons\">\n",
              "\n",
              "  <div class=\"colab-df-container\">\n",
              "    <button class=\"colab-df-convert\" onclick=\"convertToInteractive('df-390208f4-6576-43fe-bfaa-a6ab7b758dbb')\"\n",
              "            title=\"Convert this dataframe to an interactive table.\"\n",
              "            style=\"display:none;\">\n",
              "\n",
              "  <svg xmlns=\"http://www.w3.org/2000/svg\" height=\"24px\" viewBox=\"0 -960 960 960\">\n",
              "    <path d=\"M120-120v-720h720v720H120Zm60-500h600v-160H180v160Zm220 220h160v-160H400v160Zm0 220h160v-160H400v160ZM180-400h160v-160H180v160Zm440 0h160v-160H620v160ZM180-180h160v-160H180v160Zm440 0h160v-160H620v160Z\"/>\n",
              "  </svg>\n",
              "    </button>\n",
              "\n",
              "  <style>\n",
              "    .colab-df-container {\n",
              "      display:flex;\n",
              "      gap: 12px;\n",
              "    }\n",
              "\n",
              "    .colab-df-convert {\n",
              "      background-color: #E8F0FE;\n",
              "      border: none;\n",
              "      border-radius: 50%;\n",
              "      cursor: pointer;\n",
              "      display: none;\n",
              "      fill: #1967D2;\n",
              "      height: 32px;\n",
              "      padding: 0 0 0 0;\n",
              "      width: 32px;\n",
              "    }\n",
              "\n",
              "    .colab-df-convert:hover {\n",
              "      background-color: #E2EBFA;\n",
              "      box-shadow: 0px 1px 2px rgba(60, 64, 67, 0.3), 0px 1px 3px 1px rgba(60, 64, 67, 0.15);\n",
              "      fill: #174EA6;\n",
              "    }\n",
              "\n",
              "    .colab-df-buttons div {\n",
              "      margin-bottom: 4px;\n",
              "    }\n",
              "\n",
              "    [theme=dark] .colab-df-convert {\n",
              "      background-color: #3B4455;\n",
              "      fill: #D2E3FC;\n",
              "    }\n",
              "\n",
              "    [theme=dark] .colab-df-convert:hover {\n",
              "      background-color: #434B5C;\n",
              "      box-shadow: 0px 1px 3px 1px rgba(0, 0, 0, 0.15);\n",
              "      filter: drop-shadow(0px 1px 2px rgba(0, 0, 0, 0.3));\n",
              "      fill: #FFFFFF;\n",
              "    }\n",
              "  </style>\n",
              "\n",
              "    <script>\n",
              "      const buttonEl =\n",
              "        document.querySelector('#df-390208f4-6576-43fe-bfaa-a6ab7b758dbb button.colab-df-convert');\n",
              "      buttonEl.style.display =\n",
              "        google.colab.kernel.accessAllowed ? 'block' : 'none';\n",
              "\n",
              "      async function convertToInteractive(key) {\n",
              "        const element = document.querySelector('#df-390208f4-6576-43fe-bfaa-a6ab7b758dbb');\n",
              "        const dataTable =\n",
              "          await google.colab.kernel.invokeFunction('convertToInteractive',\n",
              "                                                    [key], {});\n",
              "        if (!dataTable) return;\n",
              "\n",
              "        const docLinkHtml = 'Like what you see? Visit the ' +\n",
              "          '<a target=\"_blank\" href=https://colab.research.google.com/notebooks/data_table.ipynb>data table notebook</a>'\n",
              "          + ' to learn more about interactive tables.';\n",
              "        element.innerHTML = '';\n",
              "        dataTable['output_type'] = 'display_data';\n",
              "        await google.colab.output.renderOutput(dataTable, element);\n",
              "        const docLink = document.createElement('div');\n",
              "        docLink.innerHTML = docLinkHtml;\n",
              "        element.appendChild(docLink);\n",
              "      }\n",
              "    </script>\n",
              "  </div>\n",
              "\n",
              "\n",
              "<div id=\"df-41f111f7-3941-4dec-aa7e-332cd55cba18\">\n",
              "  <button class=\"colab-df-quickchart\" onclick=\"quickchart('df-41f111f7-3941-4dec-aa7e-332cd55cba18')\"\n",
              "            title=\"Suggest charts.\"\n",
              "            style=\"display:none;\">\n",
              "\n",
              "<svg xmlns=\"http://www.w3.org/2000/svg\" height=\"24px\"viewBox=\"0 0 24 24\"\n",
              "     width=\"24px\">\n",
              "    <g>\n",
              "        <path d=\"M19 3H5c-1.1 0-2 .9-2 2v14c0 1.1.9 2 2 2h14c1.1 0 2-.9 2-2V5c0-1.1-.9-2-2-2zM9 17H7v-7h2v7zm4 0h-2V7h2v10zm4 0h-2v-4h2v4z\"/>\n",
              "    </g>\n",
              "</svg>\n",
              "  </button>\n",
              "\n",
              "<style>\n",
              "  .colab-df-quickchart {\n",
              "      --bg-color: #E8F0FE;\n",
              "      --fill-color: #1967D2;\n",
              "      --hover-bg-color: #E2EBFA;\n",
              "      --hover-fill-color: #174EA6;\n",
              "      --disabled-fill-color: #AAA;\n",
              "      --disabled-bg-color: #DDD;\n",
              "  }\n",
              "\n",
              "  [theme=dark] .colab-df-quickchart {\n",
              "      --bg-color: #3B4455;\n",
              "      --fill-color: #D2E3FC;\n",
              "      --hover-bg-color: #434B5C;\n",
              "      --hover-fill-color: #FFFFFF;\n",
              "      --disabled-bg-color: #3B4455;\n",
              "      --disabled-fill-color: #666;\n",
              "  }\n",
              "\n",
              "  .colab-df-quickchart {\n",
              "    background-color: var(--bg-color);\n",
              "    border: none;\n",
              "    border-radius: 50%;\n",
              "    cursor: pointer;\n",
              "    display: none;\n",
              "    fill: var(--fill-color);\n",
              "    height: 32px;\n",
              "    padding: 0;\n",
              "    width: 32px;\n",
              "  }\n",
              "\n",
              "  .colab-df-quickchart:hover {\n",
              "    background-color: var(--hover-bg-color);\n",
              "    box-shadow: 0 1px 2px rgba(60, 64, 67, 0.3), 0 1px 3px 1px rgba(60, 64, 67, 0.15);\n",
              "    fill: var(--button-hover-fill-color);\n",
              "  }\n",
              "\n",
              "  .colab-df-quickchart-complete:disabled,\n",
              "  .colab-df-quickchart-complete:disabled:hover {\n",
              "    background-color: var(--disabled-bg-color);\n",
              "    fill: var(--disabled-fill-color);\n",
              "    box-shadow: none;\n",
              "  }\n",
              "\n",
              "  .colab-df-spinner {\n",
              "    border: 2px solid var(--fill-color);\n",
              "    border-color: transparent;\n",
              "    border-bottom-color: var(--fill-color);\n",
              "    animation:\n",
              "      spin 1s steps(1) infinite;\n",
              "  }\n",
              "\n",
              "  @keyframes spin {\n",
              "    0% {\n",
              "      border-color: transparent;\n",
              "      border-bottom-color: var(--fill-color);\n",
              "      border-left-color: var(--fill-color);\n",
              "    }\n",
              "    20% {\n",
              "      border-color: transparent;\n",
              "      border-left-color: var(--fill-color);\n",
              "      border-top-color: var(--fill-color);\n",
              "    }\n",
              "    30% {\n",
              "      border-color: transparent;\n",
              "      border-left-color: var(--fill-color);\n",
              "      border-top-color: var(--fill-color);\n",
              "      border-right-color: var(--fill-color);\n",
              "    }\n",
              "    40% {\n",
              "      border-color: transparent;\n",
              "      border-right-color: var(--fill-color);\n",
              "      border-top-color: var(--fill-color);\n",
              "    }\n",
              "    60% {\n",
              "      border-color: transparent;\n",
              "      border-right-color: var(--fill-color);\n",
              "    }\n",
              "    80% {\n",
              "      border-color: transparent;\n",
              "      border-right-color: var(--fill-color);\n",
              "      border-bottom-color: var(--fill-color);\n",
              "    }\n",
              "    90% {\n",
              "      border-color: transparent;\n",
              "      border-bottom-color: var(--fill-color);\n",
              "    }\n",
              "  }\n",
              "</style>\n",
              "\n",
              "  <script>\n",
              "    async function quickchart(key) {\n",
              "      const quickchartButtonEl =\n",
              "        document.querySelector('#' + key + ' button');\n",
              "      quickchartButtonEl.disabled = true;  // To prevent multiple clicks.\n",
              "      quickchartButtonEl.classList.add('colab-df-spinner');\n",
              "      try {\n",
              "        const charts = await google.colab.kernel.invokeFunction(\n",
              "            'suggestCharts', [key], {});\n",
              "      } catch (error) {\n",
              "        console.error('Error during call to suggestCharts:', error);\n",
              "      }\n",
              "      quickchartButtonEl.classList.remove('colab-df-spinner');\n",
              "      quickchartButtonEl.classList.add('colab-df-quickchart-complete');\n",
              "    }\n",
              "    (() => {\n",
              "      let quickchartButtonEl =\n",
              "        document.querySelector('#df-41f111f7-3941-4dec-aa7e-332cd55cba18 button');\n",
              "      quickchartButtonEl.style.display =\n",
              "        google.colab.kernel.accessAllowed ? 'block' : 'none';\n",
              "    })();\n",
              "  </script>\n",
              "</div>\n",
              "    </div>\n",
              "  </div>\n"
            ]
          },
          "metadata": {}
        }
      ]
    },
    {
      "cell_type": "code",
      "source": [
        "import matplotlib.pyplot as plt\n",
        "\n",
        "dataset.Rating.plot(\n",
        "    kind='hist',\n",
        "    figsize=(14, 6),\n",
        "    title='Histograma de ratings'\n",
        ")\n",
        "\n",
        "# Decoracion del histograma\n",
        "plt.title('Histograma de ratings')\n",
        "plt.xlabel('Rating')\n",
        "plt.ylabel('Frecuencia')"
      ],
      "metadata": {
        "colab": {
          "base_uri": "https://localhost:8080/",
          "height": 427
        },
        "id": "-MQbuh2UB7Ah",
        "outputId": "5179c6fc-b056-4f79-f7a4-77ae08668671"
      },
      "execution_count": 22,
      "outputs": [
        {
          "output_type": "execute_result",
          "data": {
            "text/plain": [
              "Text(0, 0.5, 'Frecuencia')"
            ]
          },
          "metadata": {},
          "execution_count": 22
        },
        {
          "output_type": "display_data",
          "data": {
            "text/plain": [
              "<Figure size 1400x600 with 1 Axes>"
            ],
            "image/png": "[encoded data removed]"
          },
          "metadata": {}
        }
      ]
    },
    {
      "cell_type": "markdown",
      "source": [
        "#### Realizar un diagrama de barras de la variable \"Category\" de las apps"
      ],
      "metadata": {
        "id": "t2m8MG8KB_uw"
      }
    },
    {
      "cell_type": "code",
      "source": [
        "# Creacion de la figura\n",
        "# * Debe ser barh en vez de bar para permitir que se lean las categorias\n",
        "fig, ax = plt.subplots()\n",
        "\n",
        "fig.set_size_inches(10, 10)\n",
        "\n",
        "plt.barh(\n",
        "    dataset['Category'].value_counts().keys(),\n",
        "    dataset['Category'].value_counts().values,\n",
        ")\n",
        "\n",
        "# Decoracion de la figura\n",
        "plt.title('Numero de apps por categoria')\n",
        "plt.yticks(size = 8)\n",
        "\n",
        "plt.plot()"
      ],
      "metadata": {
        "colab": {
          "base_uri": "https://localhost:8080/",
          "height": 777
        },
        "id": "pO5hgi9BCCdh",
        "outputId": "04484b83-6bdc-44db-e2b0-35a7e71cb373"
      },
      "execution_count": 24,
      "outputs": [
        {
          "output_type": "execute_result",
          "data": {
            "text/plain": [
              "[]"
            ]
          },
          "metadata": {},
          "execution_count": 24
        },
        {
          "output_type": "display_data",
          "data": {
            "text/plain": [
              "<Figure size 1000x1000 with 1 Axes>"
            ],
            "image/png": "[encoded data removed]"
          },
          "metadata": {}
        }
      ]
    },
    {
      "cell_type": "markdown",
      "source": [
        "#### Realizar un gráfico de dispersión de \"Rating\" vs \"Reviews\""
      ],
      "metadata": {
        "id": "0ZcfV7dqCJxx"
      }
    },
    {
      "cell_type": "code",
      "source": [
        "# Obtener los valores de las columnas\n",
        "dataset.plot(\n",
        "    kind = 'scatter',\n",
        "    x = 'Rating',\n",
        "    y = 'Reviews'\n",
        ")"
      ],
      "metadata": {
        "colab": {
          "base_uri": "https://localhost:8080/",
          "height": 466
        },
        "id": "qS_UugvfCL6R",
        "outputId": "92ff68a6-493b-44e0-8bfb-40498aae324e"
      },
      "execution_count": 25,
      "outputs": [
        {
          "output_type": "execute_result",
          "data": {
            "text/plain": [
              "<Axes: xlabel='Rating', ylabel='Reviews'>"
            ]
          },
          "metadata": {},
          "execution_count": 25
        },
        {
          "output_type": "display_data",
          "data": {
            "text/plain": [
              "<Figure size 640x480 with 1 Axes>"
            ],
            "image/png": "[encoded data removed]"
          },
          "metadata": {}
        }
      ]
    },
    {
      "cell_type": "markdown",
      "source": [
        "#### Realizar otro gráfico de los vistos anteriormente utilizando otras variables del dataset."
      ],
      "metadata": {
        "id": "7K_7CyZhCPph"
      }
    },
    {
      "cell_type": "code",
      "source": [
        "import seaborn as sns\n",
        "\n",
        "sns.countplot(\n",
        "    data = dataset,\n",
        "    x = 'Category',\n",
        "    hue = 'Type'\n",
        ")\n",
        "plt.xticks(rotation = 90)\n",
        "plt.plot()"
      ],
      "metadata": {
        "colab": {
          "base_uri": "https://localhost:8080/",
          "height": 628
        },
        "id": "v-VQkMy8CUWy",
        "outputId": "979f42db-da0c-429c-88bd-6f5724938d40"
      },
      "execution_count": 26,
      "outputs": [
        {
          "output_type": "execute_result",
          "data": {
            "text/plain": [
              "[]"
            ]
          },
          "metadata": {},
          "execution_count": 26
        },
        {
          "output_type": "display_data",
          "data": {
            "text/plain": [
              "<Figure size 640x480 with 1 Axes>"
            ],
            "image/png": "[encoded data removed]"
          },
          "metadata": {}
        }
      ]
    },
    {
      "cell_type": "markdown",
      "metadata": {
        "id": "C8oAWDoR9h3c"
      },
      "source": [
        "## Ejercicios de _R_"
      ]
    },
    {
      "cell_type": "code",
      "source": [
        "#!pip install rpy2==3.5.1\n",
        "%load_ext rpy2.ipython"
      ],
      "metadata": {
        "id": "cSV01lkrDTNY"
      },
      "execution_count": 28,
      "outputs": []
    },
    {
      "cell_type": "markdown",
      "metadata": {
        "id": "3TH7Mpvy9h3c"
      },
      "source": [
        "### Introducción a R"
      ]
    },
    {
      "cell_type": "markdown",
      "source": [
        "- Crear un OBJETO llamado _OBJETO_ definido como el resultado de la suma: 5 + 6\n",
        "- Crear un VECTOR _VEC0_ que contenga los números 1, 3, 4.\n",
        "- Crear 3 vectores ( _VEC1_, _VEC2_, _VEC3_) que sean transformaciones del anterior\n",
        "- Crear 3 vectores con la misma cantidad de elementos que VEC0, pero con variables string (texto) ( _VEC4_, _VEC5_, _VEC6_).\n",
        "- Crear un dataframe _DFRAME_ como combinación de todos los __vectores__ creados previamente"
      ],
      "metadata": {
        "id": "KqI7TGfeDFhx"
      }
    },
    {
      "cell_type": "markdown",
      "source": [
        "#### Crear un OBJETO llamado OBJETO definido como el resultado de la suma: 5 + 6"
      ],
      "metadata": {
        "id": "QnYWlp_iDGQB"
      }
    },
    {
      "cell_type": "code",
      "source": [
        "%%R\n",
        "\n",
        "OBJETO <- (5 + 6)\n",
        "OBJETO"
      ],
      "metadata": {
        "colab": {
          "base_uri": "https://localhost:8080/"
        },
        "id": "wRM4BkloDLYp",
        "outputId": "a21cf403-0a88-40d3-b2e9-5f357c953cc0"
      },
      "execution_count": 29,
      "outputs": [
        {
          "output_type": "stream",
          "name": "stdout",
          "text": [
            "[1] 11\n"
          ]
        }
      ]
    },
    {
      "cell_type": "markdown",
      "source": [
        "#### Crear un VECTOR _VEC0_ que contenga los números 1, 3, 4"
      ],
      "metadata": {
        "id": "mdL3c9yADXyo"
      }
    },
    {
      "cell_type": "code",
      "source": [
        "%%R\n",
        "\n",
        "VEC0 <- c(1, 3, 4)\n",
        "VEC0"
      ],
      "metadata": {
        "colab": {
          "base_uri": "https://localhost:8080/"
        },
        "id": "IaVBfwcKDZj4",
        "outputId": "26ba61b2-8c99-456f-d2ca-aead486fe97f"
      },
      "execution_count": 30,
      "outputs": [
        {
          "output_type": "stream",
          "name": "stdout",
          "text": [
            "[1] 1 3 4\n"
          ]
        }
      ]
    },
    {
      "cell_type": "markdown",
      "source": [
        "#### Crear 3 vectores ( _VEC1_, _VEC2_, _VEC3_) que sean transformaciones del anterior"
      ],
      "metadata": {
        "id": "1WnWoyvBDeaQ"
      }
    },
    {
      "cell_type": "code",
      "source": [
        "%%R\n",
        "\n",
        "VEC1 <- VEC0 * 2\n",
        "VEC2 <- VEC0 + 5\n",
        "VEC3 <- VEC0 + VEC2\n",
        "\n",
        "VEC1\n",
        "VEC2\n",
        "VEC3"
      ],
      "metadata": {
        "colab": {
          "base_uri": "https://localhost:8080/"
        },
        "id": "ebXaVmKyDgfA",
        "outputId": "6d677546-a78f-4f3d-bfff-9880ee683adf"
      },
      "execution_count": 31,
      "outputs": [
        {
          "output_type": "stream",
          "name": "stdout",
          "text": [
            "[1]  7 11 13\n"
          ]
        }
      ]
    },
    {
      "cell_type": "markdown",
      "source": [
        "#### Crear 3 vectores con la misma cantidad de elementos que VEC0, pero con variables string (texto) ( _VEC4_, _VEC5_, _VEC6_)"
      ],
      "metadata": {
        "id": "mqapNttSDkuB"
      }
    },
    {
      "cell_type": "code",
      "source": [
        "%%R\n",
        "\n",
        "VEC4 <- c('Pepe', 'Luis', 'Juan')\n",
        "VEC5 <- c('Ana', 'Marta', 'Martina')\n",
        "VEC6 <- c('Sam', 'Louis', 'Artey')"
      ],
      "metadata": {
        "id": "2aHij1z-DlGR"
      },
      "execution_count": 32,
      "outputs": []
    },
    {
      "cell_type": "markdown",
      "source": [
        "#### Crea un dataframe DFRAME como combinación de todos los **vectores** creados previamente"
      ],
      "metadata": {
        "id": "TnLZaZVIDp-Q"
      }
    },
    {
      "cell_type": "code",
      "source": [
        "%%R\n",
        "\n",
        "DFRAME <- data.frame(\n",
        "    VEC0,\n",
        "    VEC1,\n",
        "    VEC2,\n",
        "    VEC3,\n",
        "    VEC4,\n",
        "    VEC5,\n",
        "    VEC6\n",
        ")\n",
        "DFRAME"
      ],
      "metadata": {
        "colab": {
          "base_uri": "https://localhost:8080/"
        },
        "id": "aWAhuv6zDrNA",
        "outputId": "1aa90434-31cf-44a6-f5cc-864090fd3a27"
      },
      "execution_count": 33,
      "outputs": [
        {
          "output_type": "stream",
          "name": "stdout",
          "text": [
            "  VEC0 VEC1 VEC2 VEC3 VEC4    VEC5  VEC6\n",
            "1    1    2    6    7 Pepe     Ana   Sam\n",
            "2    3    6    8   11 Luis   Marta Louis\n",
            "3    4    8    9   13 Juan Martina Artey\n"
          ]
        }
      ]
    },
    {
      "cell_type": "markdown",
      "metadata": {
        "id": "WYJFtXtE9h3c"
      },
      "source": [
        "### Librerías de manipulación de datos"
      ]
    },
    {
      "cell_type": "markdown",
      "source": [
        "- Leer del archivo EXCEL \"Canarias_poblacion.xls\" la hoja 2019 y cargar en un data.frame llamado \"can_pob_2019\". Pueden usar la función _read.xlsx_ de cualquiera de las siguientes librerías:\n",
        "    - Vista en clase: __openxlsx__\n",
        "    - Otra opción que utiliza otros parametros: __readxl__\n",
        "- Cargar ahora las dos hojas restantes (2018 y 2017) en crear un único data.frame \"can_pob\" con filas los municipios y columnas los 3 años.\n",
        "- A partir del data.frame \"can_pob\" crear un vector llamado __Variables__ que contenga los nombres de las variables.\n",
        "- Calcular una variable \"porcentaje_pob\" que sea el porcentaje de población de cada municipio sobre la población total de Canarias.\n",
        "- Filtras las islas de la provincia de Las Palmas.\n",
        "- Encontrar los municipios con menos del 30% de población.\n",
        "- Grabar los resultados en un excel"
      ],
      "metadata": {
        "id": "OpmEK7ixFXkQ"
      }
    },
    {
      "cell_type": "markdown",
      "source": [
        "#### Leer del archivo EXCEL `Canarias_poblacion.xls` la hoja 2019 y cargar en un `data.frame` llamado `can_pob_2019`"
      ],
      "metadata": {
        "id": "awckkPLCFZhZ"
      }
    },
    {
      "cell_type": "code",
      "source": [
        "%%R\n",
        "\n",
        "install.packages('openxlsx')\n",
        "\n",
        "library(openxlsx)\n",
        "library(tidyverse)\n",
        "library(readxl)"
      ],
      "metadata": {
        "colab": {
          "base_uri": "https://localhost:8080/"
        },
        "id": "19U5L6oYFyh5",
        "outputId": "87c3a7f9-5977-4a95-b344-3ba474e4ed21"
      },
      "execution_count": 34,
      "outputs": [
        {
          "output_type": "stream",
          "name": "stderr",
          "text": [
            "WARNING:rpy2.rinterface_lib.callbacks:R[write to console]: Installing package into ‘/usr/local/lib/R/site-library’\n",
            "(as ‘lib’ is unspecified)\n",
            "\n",
            "WARNING:rpy2.rinterface_lib.callbacks:R[write to console]: also installing the dependency ‘Rcpp’\n",
            "\n",
            "\n",
            "WARNING:rpy2.rinterface_lib.callbacks:R[write to console]: trying URL 'https://cran.rstudio.com/src/contrib/Rcpp_1.0.11.tar.gz'\n",
            "\n",
            "WARNING:rpy2.rinterface_lib.callbacks:R[write to console]: Content type 'application/x-gzip'\n",
            "WARNING:rpy2.rinterface_lib.callbacks:R[write to console]:  length 2994004 bytes (2.9 MB)\n",
            "\n",
            "WARNING:rpy2.rinterface_lib.callbacks:R[write to console]: =\n",
            "WARNING:rpy2.rinterface_lib.callbacks:R[write to console]: =\n",
            "WARNING:rpy2.rinterface_lib.callbacks:R[write to console]: =\n",
            "WARNING:rpy2.rinterface_lib.callbacks:R[write to console]: =\n",
            "WARNING:rpy2.rinterface_lib.callbacks:R[write to console]: =\n",
            "WARNING:rpy2.rinterface_lib.callbacks:R[write to console]: =\n",
            "WARNING:rpy2.rinterface_lib.callbacks:R[write to console]: =\n",
            "WARNING:rpy2.rinterface_lib.callbacks:R[write to console]: =\n",
            "WARNING:rpy2.rinterface_lib.callbacks:R[write to console]: =\n",
            "WARNING:rpy2.rinterface_lib.callbacks:R[write to console]: =\n",
            "WARNING:rpy2.rinterface_lib.callbacks:R[write to console]: =\n",
            "WARNING:rpy2.rinterface_lib.callbacks:R[write to console]: =\n",
            "WARNING:rpy2.rinterface_lib.callbacks:R[write to console]: =\n",
            "WARNING:rpy2.rinterface_lib.callbacks:R[write to console]: =\n",
            "WARNING:rpy2.rinterface_lib.callbacks:R[write to console]: =\n",
            "WARNING:rpy2.rinterface_lib.callbacks:R[write to console]: =\n",
            "WARNING:rpy2.rinterface_lib.callbacks:R[write to console]: =\n",
            "WARNING:rpy2.rinterface_lib.callbacks:R[write to console]: =\n",
            "WARNING:rpy2.rinterface_lib.callbacks:R[write to console]: =\n",
            "WARNING:rpy2.rinterface_lib.callbacks:R[write to console]: =\n",
            "WARNING:rpy2.rinterface_lib.callbacks:R[write to console]: =\n",
            "WARNING:rpy2.rinterface_lib.callbacks:R[write to console]: =\n",
            "WARNING:rpy2.rinterface_lib.callbacks:R[write to console]: =\n",
            "WARNING:rpy2.rinterface_lib.callbacks:R[write to console]: =\n",
            "WARNING:rpy2.rinterface_lib.callbacks:R[write to console]: =\n",
            "WARNING:rpy2.rinterface_lib.callbacks:R[write to console]: =\n",
            "WARNING:rpy2.rinterface_lib.callbacks:R[write to console]: =\n",
            "WARNING:rpy2.rinterface_lib.callbacks:R[write to console]: =\n",
            "WARNING:rpy2.rinterface_lib.callbacks:R[write to console]: =\n",
            "WARNING:rpy2.rinterface_lib.callbacks:R[write to console]: =\n",
            "WARNING:rpy2.rinterface_lib.callbacks:R[write to console]: =\n",
            "WARNING:rpy2.rinterface_lib.callbacks:R[write to console]: =\n",
            "WARNING:rpy2.rinterface_lib.callbacks:R[write to console]: =\n",
            "WARNING:rpy2.rinterface_lib.callbacks:R[write to console]: =\n",
            "WARNING:rpy2.rinterface_lib.callbacks:R[write to console]: =\n",
            "WARNING:rpy2.rinterface_lib.callbacks:R[write to console]: =\n",
            "WARNING:rpy2.rinterface_lib.callbacks:R[write to console]: =\n",
            "WARNING:rpy2.rinterface_lib.callbacks:R[write to console]: =\n",
            "WARNING:rpy2.rinterface_lib.callbacks:R[write to console]: =\n",
            "WARNING:rpy2.rinterface_lib.callbacks:R[write to console]: =\n",
            "WARNING:rpy2.rinterface_lib.callbacks:R[write to console]: =\n",
            "WARNING:rpy2.rinterface_lib.callbacks:R[write to console]: =\n",
            "WARNING:rpy2.rinterface_lib.callbacks:R[write to console]: =\n",
            "WARNING:rpy2.rinterface_lib.callbacks:R[write to console]: =\n",
            "WARNING:rpy2.rinterface_lib.callbacks:R[write to console]: =\n",
            "WARNING:rpy2.rinterface_lib.callbacks:R[write to console]: =\n",
            "WARNING:rpy2.rinterface_lib.callbacks:R[write to console]: =\n",
            "WARNING:rpy2.rinterface_lib.callbacks:R[write to console]: =\n",
            "WARNING:rpy2.rinterface_lib.callbacks:R[write to console]: =\n",
            "WARNING:rpy2.rinterface_lib.callbacks:R[write to console]: =\n",
            "WARNING:rpy2.rinterface_lib.callbacks:R[write to console]: \n",
            "\n",
            "WARNING:rpy2.rinterface_lib.callbacks:R[write to console]: downloaded 2.9 MB\n",
            "\n",
            "\n",
            "WARNING:rpy2.rinterface_lib.callbacks:R[write to console]: trying URL 'https://cran.rstudio.com/src/contrib/openxlsx_4.2.5.2.tar.gz'\n",
            "\n",
            "WARNING:rpy2.rinterface_lib.callbacks:R[write to console]: Content type 'application/x-gzip'\n",
            "WARNING:rpy2.rinterface_lib.callbacks:R[write to console]:  length 1339471 bytes (1.3 MB)\n",
            "\n",
            "WARNING:rpy2.rinterface_lib.callbacks:R[write to console]: =\n",
            "WARNING:rpy2.rinterface_lib.callbacks:R[write to console]: =\n",
            "WARNING:rpy2.rinterface_lib.callbacks:R[write to console]: =\n",
            "WARNING:rpy2.rinterface_lib.callbacks:R[write to console]: =\n",
            "WARNING:rpy2.rinterface_lib.callbacks:R[write to console]: =\n",
            "WARNING:rpy2.rinterface_lib.callbacks:R[write to console]: =\n",
            "WARNING:rpy2.rinterface_lib.callbacks:R[write to console]: =\n",
            "WARNING:rpy2.rinterface_lib.callbacks:R[write to console]: =\n",
            "WARNING:rpy2.rinterface_lib.callbacks:R[write to console]: =\n",
            "WARNING:rpy2.rinterface_lib.callbacks:R[write to console]: =\n",
            "WARNING:rpy2.rinterface_lib.callbacks:R[write to console]: =\n",
            "WARNING:rpy2.rinterface_lib.callbacks:R[write to console]: =\n",
            "WARNING:rpy2.rinterface_lib.callbacks:R[write to console]: =\n",
            "WARNING:rpy2.rinterface_lib.callbacks:R[write to console]: =\n",
            "WARNING:rpy2.rinterface_lib.callbacks:R[write to console]: =\n",
            "WARNING:rpy2.rinterface_lib.callbacks:R[write to console]: =\n",
            "WARNING:rpy2.rinterface_lib.callbacks:R[write to console]: =\n",
            "WARNING:rpy2.rinterface_lib.callbacks:R[write to console]: =\n",
            "WARNING:rpy2.rinterface_lib.callbacks:R[write to console]: =\n",
            "WARNING:rpy2.rinterface_lib.callbacks:R[write to console]: =\n",
            "WARNING:rpy2.rinterface_lib.callbacks:R[write to console]: =\n",
            "WARNING:rpy2.rinterface_lib.callbacks:R[write to console]: =\n",
            "WARNING:rpy2.rinterface_lib.callbacks:R[write to console]: =\n",
            "WARNING:rpy2.rinterface_lib.callbacks:R[write to console]: =\n",
            "WARNING:rpy2.rinterface_lib.callbacks:R[write to console]: =\n",
            "WARNING:rpy2.rinterface_lib.callbacks:R[write to console]: =\n",
            "WARNING:rpy2.rinterface_lib.callbacks:R[write to console]: =\n",
            "WARNING:rpy2.rinterface_lib.callbacks:R[write to console]: =\n",
            "WARNING:rpy2.rinterface_lib.callbacks:R[write to console]: =\n",
            "WARNING:rpy2.rinterface_lib.callbacks:R[write to console]: =\n",
            "WARNING:rpy2.rinterface_lib.callbacks:R[write to console]: =\n",
            "WARNING:rpy2.rinterface_lib.callbacks:R[write to console]: =\n",
            "WARNING:rpy2.rinterface_lib.callbacks:R[write to console]: =\n",
            "WARNING:rpy2.rinterface_lib.callbacks:R[write to console]: =\n",
            "WARNING:rpy2.rinterface_lib.callbacks:R[write to console]: =\n",
            "WARNING:rpy2.rinterface_lib.callbacks:R[write to console]: =\n",
            "WARNING:rpy2.rinterface_lib.callbacks:R[write to console]: =\n",
            "WARNING:rpy2.rinterface_lib.callbacks:R[write to console]: =\n",
            "WARNING:rpy2.rinterface_lib.callbacks:R[write to console]: =\n",
            "WARNING:rpy2.rinterface_lib.callbacks:R[write to console]: =\n",
            "WARNING:rpy2.rinterface_lib.callbacks:R[write to console]: =\n",
            "WARNING:rpy2.rinterface_lib.callbacks:R[write to console]: =\n",
            "WARNING:rpy2.rinterface_lib.callbacks:R[write to console]: =\n",
            "WARNING:rpy2.rinterface_lib.callbacks:R[write to console]: =\n",
            "WARNING:rpy2.rinterface_lib.callbacks:R[write to console]: =\n",
            "WARNING:rpy2.rinterface_lib.callbacks:R[write to console]: =\n",
            "WARNING:rpy2.rinterface_lib.callbacks:R[write to console]: =\n",
            "WARNING:rpy2.rinterface_lib.callbacks:R[write to console]: =\n",
            "WARNING:rpy2.rinterface_lib.callbacks:R[write to console]: =\n",
            "WARNING:rpy2.rinterface_lib.callbacks:R[write to console]: =\n",
            "WARNING:rpy2.rinterface_lib.callbacks:R[write to console]: \n",
            "\n",
            "WARNING:rpy2.rinterface_lib.callbacks:R[write to console]: downloaded 1.3 MB\n",
            "\n",
            "\n",
            "WARNING:rpy2.rinterface_lib.callbacks:R[write to console]: \n",
            "\n",
            "WARNING:rpy2.rinterface_lib.callbacks:R[write to console]: \n",
            "WARNING:rpy2.rinterface_lib.callbacks:R[write to console]: The downloaded source packages are in\n",
            "\t‘/tmp/RtmpwRPyFV/downloaded_packages’\n",
            "WARNING:rpy2.rinterface_lib.callbacks:R[write to console]: \n",
            "WARNING:rpy2.rinterface_lib.callbacks:R[write to console]: \n",
            "\n"
          ]
        },
        {
          "output_type": "stream",
          "name": "stdout",
          "text": [
            "── Attaching core tidyverse packages ──────────────────────── tidyverse 2.0.0 ──\n",
            "✔ dplyr     1.1.3     ✔ readr     2.1.4\n",
            "✔ forcats   1.0.0     ✔ stringr   1.5.0\n",
            "✔ ggplot2   3.4.3     ✔ tibble    3.2.1\n",
            "✔ lubridate 1.9.3     ✔ tidyr     1.3.0\n",
            "✔ purrr     1.0.2     \n",
            "── Conflicts ────────────────────────────────────────── tidyverse_conflicts() ──\n",
            "✖ dplyr::filter() masks stats::filter()\n",
            "✖ dplyr::lag()    masks stats::lag()\n",
            "ℹ Use the conflicted package (<http://conflicted.r-lib.org/>) to force all conflicts to become errors\n"
          ]
        }
      ]
    },
    {
      "cell_type": "code",
      "source": [
        "%%R\n",
        "\n",
        "data <- read_xls(\n",
        "    path = '/content/gdrive/My Drive/Colab Notebooks/Preprocesado de datos_2023_24/data/Canarias_poblacion.xls',\n",
        "    sheet = '2019'\n",
        ")\n",
        "can_pob_2019 <- data.frame(data)\n",
        "head(can_pob_2019)"
      ],
      "metadata": {
        "colab": {
          "base_uri": "https://localhost:8080/"
        },
        "id": "atHKGirGF_sJ",
        "outputId": "508def18-8e40-4d26-cc86-f009742b7a1b"
      },
      "execution_count": 35,
      "outputs": [
        {
          "output_type": "stream",
          "name": "stdout",
          "text": [
            "       Isla     Municipio Población\n",
            "1 LANZAROTE      Arrecife     62988\n",
            "2 LANZAROTE         Haría      5123\n",
            "3 LANZAROTE San Bartolomé     18816\n",
            "4 LANZAROTE       Teguise     22342\n",
            "5 LANZAROTE          Tías     20170\n",
            "6 LANZAROTE        Tinajo      6279\n"
          ]
        }
      ]
    },
    {
      "cell_type": "markdown",
      "source": [
        "#### Cargar ahora las dos hojas restantes (2018 y 2017) en crear un único `data.frame` `can_pob` con filas los municipios y columnas los 3 años"
      ],
      "metadata": {
        "id": "X9w6cFSTFbra"
      }
    },
    {
      "cell_type": "code",
      "source": [
        "%%R\n",
        "\n",
        "data <- read_xls(\n",
        "    path = '/content/gdrive/My Drive/Colab Notebooks/Preprocesado de datos_2023_24/data/Canarias_poblacion.xls',\n",
        "    sheet = '2018'\n",
        ")\n",
        "can_pob_2018 <- data.frame(data)\n",
        "head(can_pob_2018)"
      ],
      "metadata": {
        "colab": {
          "base_uri": "https://localhost:8080/"
        },
        "id": "BWfsbNyRGpw5",
        "outputId": "fa6f9d11-1053-4f37-985a-5b3e37b8fa84"
      },
      "execution_count": 38,
      "outputs": [
        {
          "output_type": "stream",
          "name": "stdout",
          "text": [
            "       Isla     Municipio Población\n",
            "1 LANZAROTE      Arrecife     61351\n",
            "2 LANZAROTE         Haría      4969\n",
            "3 LANZAROTE San Bartolomé     18327\n",
            "4 LANZAROTE       Teguise     22122\n",
            "5 LANZAROTE          Tías     20006\n",
            "6 LANZAROTE        Tinajo      6119\n"
          ]
        }
      ]
    },
    {
      "cell_type": "code",
      "source": [
        "%%R\n",
        "\n",
        "data <- read_xls(\n",
        "    path = '/content/gdrive/My Drive/Colab Notebooks/Preprocesado de datos_2023_24/data/Canarias_poblacion.xls',\n",
        "    sheet = '2017'\n",
        ")\n",
        "can_pob_2017 <- data.frame(data)\n",
        "head(can_pob_2017)"
      ],
      "metadata": {
        "colab": {
          "base_uri": "https://localhost:8080/"
        },
        "id": "sPljfws3G2hy",
        "outputId": "e6f6f076-e09e-4a4c-bca4-13224a9afc58"
      },
      "execution_count": 40,
      "outputs": [
        {
          "output_type": "stream",
          "name": "stdout",
          "text": [
            "       Isla     Municipio Población\n",
            "1 LANZAROTE      Arrecife     59771\n",
            "2 LANZAROTE         Haría      4858\n",
            "3 LANZAROTE San Bartolomé     18249\n",
            "4 LANZAROTE       Teguise     21896\n",
            "5 LANZAROTE          Tías     19964\n",
            "6 LANZAROTE        Tinajo      6028\n"
          ]
        }
      ]
    },
    {
      "cell_type": "code",
      "source": [
        "%%R\n",
        "\n",
        "can_pob <- can_pob_2017 %>%\n",
        "    left_join(., can_pob_2018, by = 'Municipio') %>%\n",
        "    left_join(., can_pob_2019, by = 'Municipio') %>%\n",
        "    select(Isla.x, Municipio, Población.x, Población.y, Población) %>%\n",
        "    rename(\n",
        "        'Isla' = Isla.x,\n",
        "        'Pob_2017' = Población.x,\n",
        "        'Pob_2018' = Población.y,\n",
        "        'Pob_2019' = Población\n",
        "    )\n",
        "\n",
        "head(can_pob)"
      ],
      "metadata": {
        "colab": {
          "base_uri": "https://localhost:8080/"
        },
        "id": "dIt7Ot1FG9to",
        "outputId": "d4c576e6-06c2-41ff-8645-15b9b225bc2b"
      },
      "execution_count": 41,
      "outputs": [
        {
          "output_type": "stream",
          "name": "stdout",
          "text": [
            "       Isla     Municipio Pob_2017 Pob_2018 Pob_2019\n",
            "1 LANZAROTE      Arrecife    59771    61351    62988\n",
            "2 LANZAROTE         Haría     4858     4969     5123\n",
            "3 LANZAROTE San Bartolomé    18249    18327    18816\n",
            "4 LANZAROTE       Teguise    21896    22122    22342\n",
            "5 LANZAROTE          Tías    19964    20006    20170\n",
            "6 LANZAROTE        Tinajo     6028     6119     6279\n"
          ]
        }
      ]
    },
    {
      "cell_type": "markdown",
      "source": [
        "#### A partir del `data.frame` `can_pob` crear un vector llamado __Variables__ que contenga los nombres de las variables"
      ],
      "metadata": {
        "id": "b0rDNo3OFgVB"
      }
    },
    {
      "cell_type": "code",
      "source": [
        "%%R\n",
        "\n",
        "variables <- colnames(can_pob)\n",
        "variables"
      ],
      "metadata": {
        "colab": {
          "base_uri": "https://localhost:8080/"
        },
        "id": "QvLR5bLDHQt4",
        "outputId": "44638932-96de-47ec-a1d4-01258428a967"
      },
      "execution_count": 42,
      "outputs": [
        {
          "output_type": "stream",
          "name": "stdout",
          "text": [
            "[1] \"Isla\"      \"Municipio\" \"Pob_2017\"  \"Pob_2018\"  \"Pob_2019\" \n"
          ]
        }
      ]
    },
    {
      "cell_type": "markdown",
      "source": [
        "#### Calcular una variable **porcentaje_pob** que sea el porcentaje de población de cada municipio sobre la población total de Canarias"
      ],
      "metadata": {
        "id": "qpiknMqTFiBJ"
      }
    },
    {
      "cell_type": "markdown",
      "source": [
        "Pese a que el resto de ejercicios han sido intuitivos y claros, en este al no indicar el año del que se desea hacer el porcentaje he decidido mostrarlo de todos los años que disponemos, generando una columna por año:\n",
        "\n",
        "* `Porcentaje_pob_2017`\n",
        "* `Porcentaje_pob_2018`\n",
        "* `Porcentaje_pob_2019`"
      ],
      "metadata": {
        "id": "0mEsYC4fHWcV"
      }
    },
    {
      "cell_type": "code",
      "source": [
        "%%R\n",
        "\n",
        "can_pob <- can_pob %>%\n",
        "    mutate(Porcentaje_pob_2017 = (Pob_2017 / sum(Pob_2017)) * 100) %>%\n",
        "    mutate(Porcentaje_pob_2018 = (Pob_2018 / sum(Pob_2018)) * 100) %>%\n",
        "    mutate(Porcentaje_pob_2019 = (Pob_2019 / sum(Pob_2019)) * 100)\n",
        "\n",
        "head(can_pob)"
      ],
      "metadata": {
        "colab": {
          "base_uri": "https://localhost:8080/"
        },
        "id": "2NugxnxjHp6x",
        "outputId": "fec12848-3438-48a7-accb-ad6a2081c9f4"
      },
      "execution_count": 45,
      "outputs": [
        {
          "output_type": "stream",
          "name": "stdout",
          "text": [
            "       Isla     Municipio Pob_2017 Pob_2018 Pob_2019 Porcentaje_pob_2017\n",
            "1 LANZAROTE      Arrecife    59771    61351    62988           2.8352737\n",
            "2 LANZAROTE         Haría     4858     4969     5123           0.2304422\n",
            "3 LANZAROTE San Bartolomé    18249    18327    18816           0.8656524\n",
            "4 LANZAROTE       Teguise    21896    22122    22342           1.0386501\n",
            "5 LANZAROTE          Tías    19964    20006    20170           0.9470045\n",
            "6 LANZAROTE        Tinajo     6028     6119     6279           0.2859418\n",
            "  Porcentaje_pob_2018 Porcentaje_pob_2019\n",
            "1           2.8834625           2.9250637\n",
            "2           0.2335402           0.2379041\n",
            "3           0.8613587           0.8737855\n",
            "4           1.0397216           1.0375274\n",
            "5           0.9402708           0.9366631\n",
            "6           0.2875896           0.2915869\n"
          ]
        }
      ]
    },
    {
      "cell_type": "markdown",
      "source": [
        "#### Filtras las islas de la provincia de Las Palmas"
      ],
      "metadata": {
        "id": "d03ru59OFozg"
      }
    },
    {
      "cell_type": "code",
      "source": [
        "%%R\n",
        "\n",
        "can_pob <- can_pob %>%\n",
        "    filter(Isla == 'LANZAROTE' | Isla == 'GRANCANARIA' | Isla == 'FUERTEVENTURA')\n",
        "\n",
        "head(can_pob)"
      ],
      "metadata": {
        "colab": {
          "base_uri": "https://localhost:8080/"
        },
        "id": "UcKhwc12H5Yz",
        "outputId": "ca0bf805-5c9e-4e88-f8b7-aaa6a4dec2a8"
      },
      "execution_count": 46,
      "outputs": [
        {
          "output_type": "stream",
          "name": "stdout",
          "text": [
            "       Isla     Municipio Pob_2017 Pob_2018 Pob_2019 Porcentaje_pob_2017\n",
            "1 LANZAROTE      Arrecife    59771    61351    62988           2.8352737\n",
            "2 LANZAROTE         Haría     4858     4969     5123           0.2304422\n",
            "3 LANZAROTE San Bartolomé    18249    18327    18816           0.8656524\n",
            "4 LANZAROTE       Teguise    21896    22122    22342           1.0386501\n",
            "5 LANZAROTE          Tías    19964    20006    20170           0.9470045\n",
            "6 LANZAROTE        Tinajo     6028     6119     6279           0.2859418\n",
            "  Porcentaje_pob_2018 Porcentaje_pob_2019\n",
            "1           2.8834625           2.9250637\n",
            "2           0.2335402           0.2379041\n",
            "3           0.8613587           0.8737855\n",
            "4           1.0397216           1.0375274\n",
            "5           0.9402708           0.9366631\n",
            "6           0.2875896           0.2915869\n"
          ]
        }
      ]
    },
    {
      "cell_type": "markdown",
      "source": [
        "#### Encontrar los municipios con menos del 30% de población"
      ],
      "metadata": {
        "id": "mGtZCVCmFrAQ"
      }
    },
    {
      "cell_type": "markdown",
      "source": [
        "Si filtramos estrictamente los municipios con menos del 30% de la población **global** de canarias, como se nos pide en el enunciado, veremos que obtendremos todos los municipios originales."
      ],
      "metadata": {
        "id": "XKmFt858H-SP"
      }
    },
    {
      "cell_type": "code",
      "source": [
        "%%R\n",
        "\n",
        "paralel_can_pob <- can_pob\n",
        "\n",
        "can_pob <- can_pob %>%\n",
        "    filter(Porcentaje_pob_2019 < 30)\n",
        "\n",
        "head(can_pob)"
      ],
      "metadata": {
        "colab": {
          "base_uri": "https://localhost:8080/"
        },
        "id": "5uHA9_pgIEgQ",
        "outputId": "99931381-41d9-42bb-ddad-f88f466e7f41"
      },
      "execution_count": 47,
      "outputs": [
        {
          "output_type": "stream",
          "name": "stdout",
          "text": [
            "       Isla     Municipio Pob_2017 Pob_2018 Pob_2019 Porcentaje_pob_2017\n",
            "1 LANZAROTE      Arrecife    59771    61351    62988           2.8352737\n",
            "2 LANZAROTE         Haría     4858     4969     5123           0.2304422\n",
            "3 LANZAROTE San Bartolomé    18249    18327    18816           0.8656524\n",
            "4 LANZAROTE       Teguise    21896    22122    22342           1.0386501\n",
            "5 LANZAROTE          Tías    19964    20006    20170           0.9470045\n",
            "6 LANZAROTE        Tinajo     6028     6119     6279           0.2859418\n",
            "  Porcentaje_pob_2018 Porcentaje_pob_2019\n",
            "1           2.8834625           2.9250637\n",
            "2           0.2335402           0.2379041\n",
            "3           0.8613587           0.8737855\n",
            "4           1.0397216           1.0375274\n",
            "5           0.9402708           0.9366631\n",
            "6           0.2875896           0.2915869\n"
          ]
        }
      ]
    },
    {
      "cell_type": "markdown",
      "source": [
        "Esto es así porque comparar cualquier población de cualquier municipio con la totalidad canaria es una idea pésima, pues la diferencia de magnitudes provocará que nunca haya un municipio tan sobre-poblado como para que alcance el 30% de la población, por lo que el conjunto de municipios original será igual que el conjunto final."
      ],
      "metadata": {
        "id": "7g5H9bhGIH3y"
      }
    },
    {
      "cell_type": "markdown",
      "source": [
        "En el _excel_ del siguiente apartado se guardarán todos los municipios con más del 30% de la población, pues es estrictamente lo que exige el enunciado. Sin embargo, para mostrar otras poblaciones, vamos a mostrar aquellos municipios que tienen menos de un 30% de población **frente a la población total de su propia isla**.\n",
        "\n",
        "Además, sabiendo que tenemos datos de 3 años distintos, tomaremos la información de 2019 por ser más reciente."
      ],
      "metadata": {
        "id": "rxRc6Mr4IK2n"
      }
    },
    {
      "cell_type": "code",
      "source": [
        "%%R\n",
        "\n",
        "poblacion_por_isla <- paralel_can_pob %>%\n",
        "    group_by(Isla) %>%\n",
        "    summarise('Poblacion' = sum(Pob_2019)) %>%\n",
        "    rename('Isla_n' = Isla)\n",
        "\n",
        "poblacion_por_isla"
      ],
      "metadata": {
        "colab": {
          "base_uri": "https://localhost:8080/"
        },
        "id": "ANOd5O57IVOJ",
        "outputId": "146d744c-6b15-43ee-8650-2b633345aaf5"
      },
      "execution_count": 48,
      "outputs": [
        {
          "output_type": "stream",
          "name": "stdout",
          "text": [
            "# A tibble: 3 × 2\n",
            "  Isla_n        Poblacion\n",
            "  <chr>             <dbl>\n",
            "1 FUERTEVENTURA    116886\n",
            "2 GRANCANARIA      851231\n",
            "3 LANZAROTE        152289\n"
          ]
        }
      ]
    },
    {
      "cell_type": "code",
      "source": [
        "%%R\n",
        "\n",
        "paralel_can_pob <- paralel_can_pob %>%\n",
        "    filter(., Pob_2019 <= (0.3 * case_when(\n",
        "        Isla == 'LANZAROTE' ~ filter(poblacion_por_isla, Isla_n == 'LANZAROTE')$Poblacion,\n",
        "        Isla == 'FUERTEVENTURA' ~ filter(poblacion_por_isla, Isla_n == 'FUERTEVENTURA')$Poblacion,\n",
        "        Isla == 'GRANCANARIA' ~ filter(poblacion_por_isla, Isla_n == 'GRANCANARIA')$Poblacion\n",
        "    )))\n",
        "\n",
        "head(paralel_can_pob)"
      ],
      "metadata": {
        "colab": {
          "base_uri": "https://localhost:8080/"
        },
        "id": "uKS5T4P5IahY",
        "outputId": "76c41522-e196-49d6-ef85-aa72cc48c389"
      },
      "execution_count": 49,
      "outputs": [
        {
          "output_type": "stream",
          "name": "stdout",
          "text": [
            "       Isla     Municipio Pob_2017 Pob_2018 Pob_2019 Porcentaje_pob_2017\n",
            "1 LANZAROTE         Haría     4858     4969     5123           0.2304422\n",
            "2 LANZAROTE San Bartolomé    18249    18327    18816           0.8656524\n",
            "3 LANZAROTE       Teguise    21896    22122    22342           1.0386501\n",
            "4 LANZAROTE          Tías    19964    20006    20170           0.9470045\n",
            "5 LANZAROTE        Tinajo     6028     6119     6279           0.2859418\n",
            "6 LANZAROTE         Yaiza    16257    16289    16571           0.7711607\n",
            "  Porcentaje_pob_2018 Porcentaje_pob_2019\n",
            "1           0.2335402           0.2379041\n",
            "2           0.8613587           0.8737855\n",
            "3           1.0397216           1.0375274\n",
            "4           0.9402708           0.9366631\n",
            "5           0.2875896           0.2915869\n",
            "6           0.7655739           0.7695312\n"
          ]
        }
      ]
    },
    {
      "cell_type": "markdown",
      "source": [
        "#### Grabar los resultados en un excel"
      ],
      "metadata": {
        "id": "nphfcI7DFtb4"
      }
    },
    {
      "cell_type": "code",
      "source": [
        "%%R\n",
        "\n",
        "write.xlsx(\n",
        "    can_pob,\n",
        "    file = 'can_pob.xlsx'\n",
        ")"
      ],
      "metadata": {
        "id": "uJ3TUHmZIdwy"
      },
      "execution_count": 50,
      "outputs": []
    },
    {
      "cell_type": "markdown",
      "metadata": {
        "id": "8fuTYZTI9h3c"
      },
      "source": [
        "### Librerías gráficas"
      ]
    },
    {
      "cell_type": "markdown",
      "source": [
        "- Cargar el conjunto de dato \"usu_individual_t117.txt\" de la Encuesta Permanente de Hogares del 1er trimestre 2017 (ver el diseño de registros en https://diegokoz.github.io/EEA/Fuentes/EPH_registro_2_trim_2016.pdf)\n",
        "- Calcular el promedio del ingreso por ocupación principal (Variable **P21**)  para  **asalariados** (Variable **CAT_OCUP**) con y sin **descuento jubilatorio** (Variable **PP07H**, 0: no aplica, 1: con descuento, 2: sin descuento).\n",
        "- Filtrar los ingresos mayores a 0 (**P21>0**).\n",
        "- Luego realizar un gráfico de barras donde se compare **P21** para ambos valores de **PP07H**.   \n",
        "- (OPCIONAL) Representar la distribución del ingreso por ocupación principal (Variable **P21**)  para Asalariados, Cuentapropistas y Patrones (Variable **CAT_OCUP**), con el tipo de gráfico Kernel                 \n",
        "   Pista: Usar la función **facet_wrap** para separar a cada una de las categorías ocupacionales)                \n",
        "   Sugerencia: incorporar la línea ' scale_x_continuous(limits = c(0,50000)) ' entre las capas del gráfico. ¿Qué ha cambiado?\n",
        "- (OPCIONAL) Hacer un gráfico boxplot de la distribución de edades de los asalariados con descuento jubilatorio, y de los asalariados sin descuento jubilatorio.\n",
        "- (OPCIONAL) Calcular el procentaje de asalariados sin descuento jubilatorio como $\\frac{Asal. s/ desc jubil}{Asal. c/ desc jubil+ Asal.s/ desc jubil}$. Luego realizar un gráfico de linea con la evolución de este indicador"
      ],
      "metadata": {
        "id": "AIT_6SyqJREL"
      }
    },
    {
      "cell_type": "markdown",
      "source": [
        "#### Cargar el conjunto de datos `usu_individual_t117.txt` de la Encuesta Permanente de Hogares del 1er trimestre 2017"
      ],
      "metadata": {
        "id": "h_n14L4PJTTK"
      }
    },
    {
      "cell_type": "code",
      "source": [
        "%%R\n",
        "\n",
        "install.packages('ggthemes')\n",
        "install.packages('ggrepel')\n",
        "\n",
        "library(tidyverse)\n",
        "library(ggthemes)\n",
        "library(ggrepel)"
      ],
      "metadata": {
        "colab": {
          "base_uri": "https://localhost:8080/"
        },
        "id": "hIuL6dKxKvJZ",
        "outputId": "380746a2-bdf6-4c6d-9f0f-b8bcff73fbaf"
      },
      "execution_count": 51,
      "outputs": [
        {
          "output_type": "stream",
          "name": "stderr",
          "text": [
            "WARNING:rpy2.rinterface_lib.callbacks:R[write to console]: Installing package into ‘/usr/local/lib/R/site-library’\n",
            "(as ‘lib’ is unspecified)\n",
            "\n",
            "WARNING:rpy2.rinterface_lib.callbacks:R[write to console]: trying URL 'https://cran.rstudio.com/src/contrib/ggthemes_4.2.4.tar.gz'\n",
            "\n",
            "WARNING:rpy2.rinterface_lib.callbacks:R[write to console]: Content type 'application/x-gzip'\n",
            "WARNING:rpy2.rinterface_lib.callbacks:R[write to console]:  length 444642 bytes (434 KB)\n",
            "\n",
            "WARNING:rpy2.rinterface_lib.callbacks:R[write to console]: =\n",
            "WARNING:rpy2.rinterface_lib.callbacks:R[write to console]: =\n",
            "WARNING:rpy2.rinterface_lib.callbacks:R[write to console]: =\n",
            "WARNING:rpy2.rinterface_lib.callbacks:R[write to console]: =\n",
            "WARNING:rpy2.rinterface_lib.callbacks:R[write to console]: =\n",
            "WARNING:rpy2.rinterface_lib.callbacks:R[write to console]: =\n",
            "WARNING:rpy2.rinterface_lib.callbacks:R[write to console]: =\n",
            "WARNING:rpy2.rinterface_lib.callbacks:R[write to console]: =\n",
            "WARNING:rpy2.rinterface_lib.callbacks:R[write to console]: =\n",
            "WARNING:rpy2.rinterface_lib.callbacks:R[write to console]: =\n",
            "WARNING:rpy2.rinterface_lib.callbacks:R[write to console]: =\n",
            "WARNING:rpy2.rinterface_lib.callbacks:R[write to console]: =\n",
            "WARNING:rpy2.rinterface_lib.callbacks:R[write to console]: =\n",
            "WARNING:rpy2.rinterface_lib.callbacks:R[write to console]: =\n",
            "WARNING:rpy2.rinterface_lib.callbacks:R[write to console]: =\n",
            "WARNING:rpy2.rinterface_lib.callbacks:R[write to console]: =\n",
            "WARNING:rpy2.rinterface_lib.callbacks:R[write to console]: =\n",
            "WARNING:rpy2.rinterface_lib.callbacks:R[write to console]: =\n",
            "WARNING:rpy2.rinterface_lib.callbacks:R[write to console]: =\n",
            "WARNING:rpy2.rinterface_lib.callbacks:R[write to console]: =\n",
            "WARNING:rpy2.rinterface_lib.callbacks:R[write to console]: =\n",
            "WARNING:rpy2.rinterface_lib.callbacks:R[write to console]: =\n",
            "WARNING:rpy2.rinterface_lib.callbacks:R[write to console]: =\n",
            "WARNING:rpy2.rinterface_lib.callbacks:R[write to console]: =\n",
            "WARNING:rpy2.rinterface_lib.callbacks:R[write to console]: =\n",
            "WARNING:rpy2.rinterface_lib.callbacks:R[write to console]: =\n",
            "WARNING:rpy2.rinterface_lib.callbacks:R[write to console]: =\n",
            "WARNING:rpy2.rinterface_lib.callbacks:R[write to console]: =\n",
            "WARNING:rpy2.rinterface_lib.callbacks:R[write to console]: =\n",
            "WARNING:rpy2.rinterface_lib.callbacks:R[write to console]: =\n",
            "WARNING:rpy2.rinterface_lib.callbacks:R[write to console]: =\n",
            "WARNING:rpy2.rinterface_lib.callbacks:R[write to console]: =\n",
            "WARNING:rpy2.rinterface_lib.callbacks:R[write to console]: =\n",
            "WARNING:rpy2.rinterface_lib.callbacks:R[write to console]: =\n",
            "WARNING:rpy2.rinterface_lib.callbacks:R[write to console]: =\n",
            "WARNING:rpy2.rinterface_lib.callbacks:R[write to console]: =\n",
            "WARNING:rpy2.rinterface_lib.callbacks:R[write to console]: =\n",
            "WARNING:rpy2.rinterface_lib.callbacks:R[write to console]: =\n",
            "WARNING:rpy2.rinterface_lib.callbacks:R[write to console]: =\n",
            "WARNING:rpy2.rinterface_lib.callbacks:R[write to console]: =\n",
            "WARNING:rpy2.rinterface_lib.callbacks:R[write to console]: =\n",
            "WARNING:rpy2.rinterface_lib.callbacks:R[write to console]: =\n",
            "WARNING:rpy2.rinterface_lib.callbacks:R[write to console]: =\n",
            "WARNING:rpy2.rinterface_lib.callbacks:R[write to console]: =\n",
            "WARNING:rpy2.rinterface_lib.callbacks:R[write to console]: =\n",
            "WARNING:rpy2.rinterface_lib.callbacks:R[write to console]: =\n",
            "WARNING:rpy2.rinterface_lib.callbacks:R[write to console]: =\n",
            "WARNING:rpy2.rinterface_lib.callbacks:R[write to console]: =\n",
            "WARNING:rpy2.rinterface_lib.callbacks:R[write to console]: =\n",
            "WARNING:rpy2.rinterface_lib.callbacks:R[write to console]: =\n",
            "WARNING:rpy2.rinterface_lib.callbacks:R[write to console]: \n",
            "\n",
            "WARNING:rpy2.rinterface_lib.callbacks:R[write to console]: downloaded 434 KB\n",
            "\n",
            "\n",
            "WARNING:rpy2.rinterface_lib.callbacks:R[write to console]: \n",
            "\n",
            "WARNING:rpy2.rinterface_lib.callbacks:R[write to console]: \n",
            "WARNING:rpy2.rinterface_lib.callbacks:R[write to console]: The downloaded source packages are in\n",
            "\t‘/tmp/RtmpwRPyFV/downloaded_packages’\n",
            "WARNING:rpy2.rinterface_lib.callbacks:R[write to console]: \n",
            "WARNING:rpy2.rinterface_lib.callbacks:R[write to console]: \n",
            "\n",
            "WARNING:rpy2.rinterface_lib.callbacks:R[write to console]: Installing package into ‘/usr/local/lib/R/site-library’\n",
            "(as ‘lib’ is unspecified)\n",
            "\n",
            "WARNING:rpy2.rinterface_lib.callbacks:R[write to console]: trying URL 'https://cran.rstudio.com/src/contrib/ggrepel_0.9.3.tar.gz'\n",
            "\n",
            "WARNING:rpy2.rinterface_lib.callbacks:R[write to console]: Content type 'application/x-gzip'\n",
            "WARNING:rpy2.rinterface_lib.callbacks:R[write to console]:  length 136189 bytes (132 KB)\n",
            "\n",
            "WARNING:rpy2.rinterface_lib.callbacks:R[write to console]: =\n",
            "WARNING:rpy2.rinterface_lib.callbacks:R[write to console]: =\n",
            "WARNING:rpy2.rinterface_lib.callbacks:R[write to console]: =\n",
            "WARNING:rpy2.rinterface_lib.callbacks:R[write to console]: =\n",
            "WARNING:rpy2.rinterface_lib.callbacks:R[write to console]: =\n",
            "WARNING:rpy2.rinterface_lib.callbacks:R[write to console]: =\n",
            "WARNING:rpy2.rinterface_lib.callbacks:R[write to console]: =\n",
            "WARNING:rpy2.rinterface_lib.callbacks:R[write to console]: =\n",
            "WARNING:rpy2.rinterface_lib.callbacks:R[write to console]: =\n",
            "WARNING:rpy2.rinterface_lib.callbacks:R[write to console]: =\n",
            "WARNING:rpy2.rinterface_lib.callbacks:R[write to console]: =\n",
            "WARNING:rpy2.rinterface_lib.callbacks:R[write to console]: =\n",
            "WARNING:rpy2.rinterface_lib.callbacks:R[write to console]: =\n",
            "WARNING:rpy2.rinterface_lib.callbacks:R[write to console]: =\n",
            "WARNING:rpy2.rinterface_lib.callbacks:R[write to console]: =\n",
            "WARNING:rpy2.rinterface_lib.callbacks:R[write to console]: =\n",
            "WARNING:rpy2.rinterface_lib.callbacks:R[write to console]: =\n",
            "WARNING:rpy2.rinterface_lib.callbacks:R[write to console]: =\n",
            "WARNING:rpy2.rinterface_lib.callbacks:R[write to console]: =\n",
            "WARNING:rpy2.rinterface_lib.callbacks:R[write to console]: =\n",
            "WARNING:rpy2.rinterface_lib.callbacks:R[write to console]: =\n",
            "WARNING:rpy2.rinterface_lib.callbacks:R[write to console]: =\n",
            "WARNING:rpy2.rinterface_lib.callbacks:R[write to console]: =\n",
            "WARNING:rpy2.rinterface_lib.callbacks:R[write to console]: =\n",
            "WARNING:rpy2.rinterface_lib.callbacks:R[write to console]: =\n",
            "WARNING:rpy2.rinterface_lib.callbacks:R[write to console]: =\n",
            "WARNING:rpy2.rinterface_lib.callbacks:R[write to console]: =\n",
            "WARNING:rpy2.rinterface_lib.callbacks:R[write to console]: =\n",
            "WARNING:rpy2.rinterface_lib.callbacks:R[write to console]: =\n",
            "WARNING:rpy2.rinterface_lib.callbacks:R[write to console]: =\n",
            "WARNING:rpy2.rinterface_lib.callbacks:R[write to console]: =\n",
            "WARNING:rpy2.rinterface_lib.callbacks:R[write to console]: =\n",
            "WARNING:rpy2.rinterface_lib.callbacks:R[write to console]: =\n",
            "WARNING:rpy2.rinterface_lib.callbacks:R[write to console]: =\n",
            "WARNING:rpy2.rinterface_lib.callbacks:R[write to console]: =\n",
            "WARNING:rpy2.rinterface_lib.callbacks:R[write to console]: =\n",
            "WARNING:rpy2.rinterface_lib.callbacks:R[write to console]: =\n",
            "WARNING:rpy2.rinterface_lib.callbacks:R[write to console]: =\n",
            "WARNING:rpy2.rinterface_lib.callbacks:R[write to console]: =\n",
            "WARNING:rpy2.rinterface_lib.callbacks:R[write to console]: =\n",
            "WARNING:rpy2.rinterface_lib.callbacks:R[write to console]: =\n",
            "WARNING:rpy2.rinterface_lib.callbacks:R[write to console]: =\n",
            "WARNING:rpy2.rinterface_lib.callbacks:R[write to console]: =\n",
            "WARNING:rpy2.rinterface_lib.callbacks:R[write to console]: =\n",
            "WARNING:rpy2.rinterface_lib.callbacks:R[write to console]: =\n",
            "WARNING:rpy2.rinterface_lib.callbacks:R[write to console]: =\n",
            "WARNING:rpy2.rinterface_lib.callbacks:R[write to console]: =\n",
            "WARNING:rpy2.rinterface_lib.callbacks:R[write to console]: =\n",
            "WARNING:rpy2.rinterface_lib.callbacks:R[write to console]: =\n",
            "WARNING:rpy2.rinterface_lib.callbacks:R[write to console]: =\n",
            "WARNING:rpy2.rinterface_lib.callbacks:R[write to console]: \n",
            "\n",
            "WARNING:rpy2.rinterface_lib.callbacks:R[write to console]: downloaded 132 KB\n",
            "\n",
            "\n",
            "WARNING:rpy2.rinterface_lib.callbacks:R[write to console]: \n",
            "\n",
            "WARNING:rpy2.rinterface_lib.callbacks:R[write to console]: \n",
            "WARNING:rpy2.rinterface_lib.callbacks:R[write to console]: The downloaded source packages are in\n",
            "\t‘/tmp/RtmpwRPyFV/downloaded_packages’\n",
            "WARNING:rpy2.rinterface_lib.callbacks:R[write to console]: \n",
            "WARNING:rpy2.rinterface_lib.callbacks:R[write to console]: \n",
            "\n"
          ]
        }
      ]
    },
    {
      "cell_type": "code",
      "source": [
        "%%R\n",
        "\n",
        "usu <- read.table(file = '/content/gdrive/My Drive/Colab Notebooks/Preprocesado de datos_2023_24/data/usu_individual_t117.csv', sep = ';', header = TRUE)\n",
        "head(usu)"
      ],
      "metadata": {
        "colab": {
          "base_uri": "https://localhost:8080/"
        },
        "id": "2kuPjdCAKykY",
        "outputId": "11f43030-6201-4af9-cea3-d1c0a7698e9d"
      },
      "execution_count": 53,
      "outputs": [
        {
          "output_type": "stream",
          "name": "stdout",
          "text": [
            "                         CODUSU ANO4 TRIMESTRE NRO_HOGAR COMPONENTE H15 REGION\n",
            "1 TQRMNOQURHKOMLCDEFIAH00469284 2017         1         1          4   1     43\n",
            "2 TQRMNOQURHKOMLCDEFIAH00469284 2017         1         1          5   1     43\n",
            "3 TQRMNOQURHKOMLCDEFIAH00469284 2017         1         1          6   1     43\n",
            "4 TQRMNOQURHKOMLCDEFIAH00469284 2017         1         1          7   1     43\n",
            "5 TQRMNOQURHKOMLCDEFIAH00469284 2017         1         1          8   0     43\n",
            "6 TQRMNOQURHKOMLCDEFIAH00469284 2017         1         1          9   0     43\n",
            "  MAS_500 AGLOMERADO PONDERA CH03 CH04       CH05 CH06 CH07 CH08 CH09 CH10 CH11\n",
            "1       S          2     861    3    2 12/12/1998   18    1    4    1    2    0\n",
            "2       S          2     861    3    2 04/01/2004   13    5    4    1    1    1\n",
            "3       S          2     861    3    1 20/02/2002   15    5    4    1    1    1\n",
            "4       S          2     861    3    2 03/06/2005   11    5    4    1    1    1\n",
            "5       S          2     861    3    1 03/10/2009    7    5    4    1    1    1\n",
            "6       S          2     861    3    2 28/01/2013    4    5    4    2    1    1\n",
            "  CH12 CH13 CH14 CH15 CH15_COD CH16 CH16_COD NIVEL_ED ESTADO CAT_OCUP CAT_INAC\n",
            "1    2    1   NA    1       NA    1       NA        2      3        0        4\n",
            "2    4    2    1    1       NA    1       NA        3      3        0        3\n",
            "3    4    2    1    1       NA    1       NA        3      3        0        3\n",
            "4    4    2    0    1       NA    1       NA        3      3        0        3\n",
            "5    2    2    1    1       NA    1       NA        1      4        0        3\n",
            "6    1    2    1    1       NA    6       NA        7      4        0        5\n",
            "  IMPUTA PP02C1 PP02C2 PP02C3 PP02C4 PP02C5 PP02C6 PP02C7 PP02C8 PP02E PP02H\n",
            "1      0      0      0      0      0      0      0      0      0     0     2\n",
            "2      0      0      0      0      0      0      0      0      0     0     2\n",
            "3      0      0      0      0      0      0      0      0      0     0     2\n",
            "4      0      0      0      0      0      0      0      0      0     0     2\n",
            "5      0      0      0      0      0      0      0      0      0     0     0\n",
            "6      0      0      0      0      0      0      0      0      0     0     0\n",
            "  PP02I PP03C PP03D PP3E_TOT PP3F_TOT PP03G PP03H PP03I PP03J INTENSI PP04A\n",
            "1     2    NA    NA       NA       NA    NA    NA    NA    NA      NA    NA\n",
            "2     2    NA    NA       NA       NA    NA    NA    NA    NA      NA    NA\n",
            "3     2    NA    NA       NA       NA    NA    NA    NA    NA      NA    NA\n",
            "4     2    NA    NA       NA       NA    NA    NA    NA    NA      NA    NA\n",
            "5     0    NA    NA       NA       NA    NA    NA    NA    NA      NA    NA\n",
            "6     0    NA    NA       NA       NA    NA    NA    NA    NA      NA    NA\n",
            "  PP04B_COD PP04B1 PP04B2 PP04B3_MES PP04B3_ANO PP04B3_DIA PP04C PP04C99\n",
            "1        NA     NA     NA         NA         NA         NA    NA      NA\n",
            "2        NA     NA     NA         NA         NA         NA    NA      NA\n",
            "3        NA     NA     NA         NA         NA         NA    NA      NA\n",
            "4        NA     NA     NA         NA         NA         NA    NA      NA\n",
            "5        NA     NA     NA         NA         NA         NA    NA      NA\n",
            "6        NA     NA     NA         NA         NA         NA    NA      NA\n",
            "  PP04D_COD PP04G PP05B2_MES PP05B2_ANO PP05B2_DIA PP05C_1 PP05C_2 PP05C_3\n",
            "1        NA    NA         NA         NA         NA      NA      NA      NA\n",
            "2        NA    NA         NA         NA         NA      NA      NA      NA\n",
            "3        NA    NA         NA         NA         NA      NA      NA      NA\n",
            "4        NA    NA         NA         NA         NA      NA      NA      NA\n",
            "5        NA    NA         NA         NA         NA      NA      NA      NA\n",
            "6        NA    NA         NA         NA         NA      NA      NA      NA\n",
            "  PP05E PP05F PP05H PP06A PP06C PP06D PP06E PP06H PP07A PP07C PP07D PP07E\n",
            "1    NA    NA    NA    NA    NA    NA    NA    NA    NA    NA    NA    NA\n",
            "2    NA    NA    NA    NA    NA    NA    NA    NA    NA    NA    NA    NA\n",
            "3    NA    NA    NA    NA    NA    NA    NA    NA    NA    NA    NA    NA\n",
            "4    NA    NA    NA    NA    NA    NA    NA    NA    NA    NA    NA    NA\n",
            "5    NA    NA    NA    NA    NA    NA    NA    NA    NA    NA    NA    NA\n",
            "6    NA    NA    NA    NA    NA    NA    NA    NA    NA    NA    NA    NA\n",
            "  PP07F1 PP07F2 PP07F3 PP07F4 PP07F5 PP07G1 PP07G2 PP07G3 PP07G4 PP07G_59 PP07H\n",
            "1     NA     NA     NA     NA     NA     NA     NA     NA     NA       NA    NA\n",
            "2     NA     NA     NA     NA     NA     NA     NA     NA     NA       NA    NA\n",
            "3     NA     NA     NA     NA     NA     NA     NA     NA     NA       NA    NA\n",
            "4     NA     NA     NA     NA     NA     NA     NA     NA     NA       NA    NA\n",
            "5     NA     NA     NA     NA     NA     NA     NA     NA     NA       NA    NA\n",
            "6     NA     NA     NA     NA     NA     NA     NA     NA     NA       NA    NA\n",
            "  PP07I PP07J PP07K PP08D1 PP08D4 PP08F1 PP08F2 PP08J1 PP08J2 PP08J3 PP09A\n",
            "1    NA    NA    NA     NA     NA     NA     NA     NA     NA     NA    NA\n",
            "2    NA    NA    NA     NA     NA     NA     NA     NA     NA     NA    NA\n",
            "3    NA    NA    NA     NA     NA     NA     NA     NA     NA     NA    NA\n",
            "4    NA    NA    NA     NA     NA     NA     NA     NA     NA     NA    NA\n",
            "5    NA    NA    NA     NA     NA     NA     NA     NA     NA     NA    NA\n",
            "6    NA    NA    NA     NA     NA     NA     NA     NA     NA     NA    NA\n",
            "  PP09A_ESP PP09B PP09C PP09C_ESP PP10A PP10C PP10D PP10E PP11A PP11B_COD\n",
            "1              NA    NA              NA    NA    NA    NA    NA        NA\n",
            "2              NA    NA              NA    NA    NA    NA    NA        NA\n",
            "3              NA    NA              NA    NA    NA    NA    NA        NA\n",
            "4              NA    NA              NA    NA    NA    NA    NA        NA\n",
            "5              NA    NA              NA    NA    NA    NA    NA        NA\n",
            "6              NA    NA              NA    NA    NA    NA    NA        NA\n",
            "  PP11B1 PP11B2_MES PP11B2_ANO PP11B2_DIA PP11C PP11C99 PP11D_COD PP11G_ANO\n",
            "1     NA         NA         NA         NA    NA      NA        NA        NA\n",
            "2     NA         NA         NA         NA    NA      NA        NA        NA\n",
            "3     NA         NA         NA         NA    NA      NA        NA        NA\n",
            "4     NA         NA         NA         NA    NA      NA        NA        NA\n",
            "5     NA         NA         NA         NA    NA      NA        NA        NA\n",
            "6     NA         NA         NA         NA    NA      NA        NA        NA\n",
            "  PP11G_MES PP11G_DIA PP11L PP11L1 PP11M PP11N PP11O PP11P PP11Q PP11R PP11S\n",
            "1        NA        NA    NA     NA    NA    NA    NA    NA    NA    NA    NA\n",
            "2        NA        NA    NA     NA    NA    NA    NA    NA    NA    NA    NA\n",
            "3        NA        NA    NA     NA    NA    NA    NA    NA    NA    NA    NA\n",
            "4        NA        NA    NA     NA    NA    NA    NA    NA    NA    NA    NA\n",
            "5        NA        NA    NA     NA    NA    NA    NA    NA    NA    NA    NA\n",
            "6        NA        NA    NA     NA    NA    NA    NA    NA    NA    NA    NA\n",
            "  PP11T P21 DECOCUR IDECOCUR RDECOCUR GDECOCUR PDECOCUR ADECOCUR PONDIIO\n",
            "1    NA   0       0        0        0        0       NA        0     861\n",
            "2    NA   0       0        0        0        0       NA        0     861\n",
            "3    NA   0       0        0        0        0       NA        0     861\n",
            "4    NA   0       0        0        0        0       NA        0     861\n",
            "5    NA   0       0        0        0        0       NA        0     861\n",
            "6    NA   0       0        0        0        0       NA        0     861\n",
            "  TOT_P12 P47T DECINDR IDECINDR RDECINDR GDECINDR PDECINDR ADECINDR PONDII V2_M\n",
            "1       0 1000       1        1        1        1       NA        1   1088    0\n",
            "2       0    0       0        0        0        0       NA        0    861    0\n",
            "3       0    0       0        0        0        0       NA        0    861    0\n",
            "4       0    0       0        0        0        0       NA        0    861    0\n",
            "5       0    0       0        0        0        0       NA        0    861    0\n",
            "6       0    0       0        0        0        0       NA        0    861    0\n",
            "  V3_M V4_M V5_M V8_M V9_M V10_M V11_M V12_M V18_M V19_AM V21_M T_VI ITF DECIFR\n",
            "1    0    0 1000    0    0     0     0     0     0      0     0 1000   0     NA\n",
            "2    0    0    0    0    0     0     0     0     0      0     0    0   0     NA\n",
            "3    0    0    0    0    0     0     0     0     0      0     0    0   0     NA\n",
            "4    0    0    0    0    0     0     0     0     0      0     0    0   0     NA\n",
            "5    0    0    0    0    0     0     0     0     0      0     0    0   0     NA\n",
            "6    0    0    0    0    0     0     0     0     0      0     0    0   0     NA\n",
            "  IDECIFR RDECIFR GDECIFR PDECIFR ADECIFR IPCF DECCFR IDECCFR RDECCFR GDECCFR\n",
            "1      NA      NA      NA      NA      NA    0     NA      NA      NA      NA\n",
            "2      NA      NA      NA      NA      NA    0     NA      NA      NA      NA\n",
            "3      NA      NA      NA      NA      NA    0     NA      NA      NA      NA\n",
            "4      NA      NA      NA      NA      NA    0     NA      NA      NA      NA\n",
            "5      NA      NA      NA      NA      NA    0     NA      NA      NA      NA\n",
            "6      NA      NA      NA      NA      NA    0     NA      NA      NA      NA\n",
            "  PDECCFR ADECCFR PONDIH\n",
            "1      NA      NA      0\n",
            "2      NA      NA      0\n",
            "3      NA      NA      0\n",
            "4      NA      NA      0\n",
            "5      NA      NA      0\n",
            "6      NA      NA      0\n"
          ]
        }
      ]
    },
    {
      "cell_type": "markdown",
      "source": [
        "#### Calcular el promedio del ingreso por ocupación principal (Variable **P21**)  para  **asalariados** (Variable **CAT_OCUP**) con y sin **descuento jubilatorio** (Variable **PP07H**, 0: no aplica, 1: con descuento, 2: sin descuento)"
      ],
      "metadata": {
        "id": "95mBCvpKJWHA"
      }
    },
    {
      "cell_type": "markdown",
      "source": [
        "Este punto es un poco confuso, aunque entiendo que se busca calcular `P21` para los asalariados (`CAT_OCUP == 3`) y mostrar los resultados divididos según su descuento `PP07H`."
      ],
      "metadata": {
        "id": "JcHU5BcILAnA"
      }
    },
    {
      "cell_type": "code",
      "source": [
        "%%R\n",
        "\n",
        "p21_per_discount <- usu %>%\n",
        "    select(PP07H, P21, CAT_OCUP) %>%\n",
        "    filter(PP07H != 0 & CAT_OCUP == 3) %>%\n",
        "    group_by(PP07H) %>%\n",
        "    summarise(avg_p21 = mean(P21))\n",
        "\n",
        "p21_per_discount"
      ],
      "metadata": {
        "colab": {
          "base_uri": "https://localhost:8080/"
        },
        "id": "i36iQGLlLl1p",
        "outputId": "8322a98a-6d34-4507-c79b-78b378f5e4a8"
      },
      "execution_count": 55,
      "outputs": [
        {
          "output_type": "stream",
          "name": "stdout",
          "text": [
            "# A tibble: 2 × 2\n",
            "  PP07H avg_p21\n",
            "  <int>   <dbl>\n",
            "1     1  12426.\n",
            "2     2   4992.\n"
          ]
        }
      ]
    },
    {
      "cell_type": "markdown",
      "source": [
        "En este caso he ignorado los asalariados que no aplican (`PP07H == 0`), pues si no aplican para los descuentos poco sentido tiene mostrarlos más adelante."
      ],
      "metadata": {
        "id": "IPwT-0YMLtqh"
      }
    },
    {
      "cell_type": "markdown",
      "source": [
        "#### Filtrar los ingresos mayores a 0 (**P21>0**)"
      ],
      "metadata": {
        "id": "PjKyBlvbJYSY"
      }
    },
    {
      "cell_type": "code",
      "source": [
        "%%R\n",
        "\n",
        "usu <- filter(usu, P21 > 0)\n",
        "head(usu)"
      ],
      "metadata": {
        "colab": {
          "base_uri": "https://localhost:8080/"
        },
        "id": "sLd1mBaIMQCg",
        "outputId": "67f5e76c-d37d-4305-bc40-caddb9cfe633"
      },
      "execution_count": 57,
      "outputs": [
        {
          "output_type": "stream",
          "name": "stdout",
          "text": [
            "                         CODUSU ANO4 TRIMESTRE NRO_HOGAR COMPONENTE H15 REGION\n",
            "1 TQRMNOQURHKOMLCDEFIAH00469284 2017         1         1         13   1     43\n",
            "2 TQRMNORWSHLMLOCDEFIAH00497956 2017         1         1          1   1     43\n",
            "3 TQRMNORRUHJLKUCDEFIAH00498010 2017         1         1          1   1     43\n",
            "4 TQRMNORRUHJLKUCDEFIAH00498010 2017         1         1          2   1     43\n",
            "5 TQRMNOQUSHJOMMCDEFIAH00498029 2017         1         1          1   1     43\n",
            "6 TQRMNOQQWHLLKTCDEFIAH00497900 2017         1         1          1   1     43\n",
            "  MAS_500 AGLOMERADO PONDERA CH03 CH04       CH05 CH06 CH07 CH08 CH09 CH10 CH11\n",
            "1       S          2     861    4    1 22/11/1996   20    1    4    1    2    0\n",
            "2       S          2     514    1    2 07/07/1952   64    3    1    1    2    0\n",
            "3       S          2     888    1    1 23/07/1986   30    5    1    1    1    1\n",
            "4       S          2     888    8    2 02/02/1992   24    5    1    1    1    1\n",
            "5       S          2     794    1    1 27/05/1974   42    1    4    1    2    0\n",
            "6       S          2    1141    1    2 20/11/1957   59    5    4    1    2    0\n",
            "  CH12 CH13 CH14 CH15 CH15_COD CH16 CH16_COD NIVEL_ED ESTADO CAT_OCUP CAT_INAC\n",
            "1    2    1   NA    1       NA    1       NA        2      1        3        0\n",
            "2    4    1   NA    1       NA    1       NA        4      1        3        0\n",
            "3    7    2    3    2       NA    2       NA        5      1        3        0\n",
            "4    7    2    3    2       NA    2       NA        5      1        3        0\n",
            "5    2    1   NA    4      221    1       NA        2      1        2        0\n",
            "6    7    1   NA    1       NA    1       NA        6      1        3        0\n",
            "  IMPUTA PP02C1 PP02C2 PP02C3 PP02C4 PP02C5 PP02C6 PP02C7 PP02C8 PP02E PP02H\n",
            "1      0      0      0      0      0      0      0      0      0     0     0\n",
            "2      0      0      0      0      0      0      0      0      0     0     0\n",
            "3      0      0      0      0      0      0      0      0      0     0     0\n",
            "4      0      0      0      0      0      0      0      0      0     0     0\n",
            "5      0      0      0      0      0      0      0      0      0     0     0\n",
            "6      0      0      0      0      0      0      0      0      0     0     0\n",
            "  PP02I PP03C PP03D PP3E_TOT PP3F_TOT PP03G PP03H PP03I PP03J INTENSI PP04A\n",
            "1     0     1     0       48        0     2     0     2     1       3     2\n",
            "2     0     1     0       30        0     2     0     2     2       2     1\n",
            "3     0     1     0       30        0     2     0     2     2       2     2\n",
            "4     0     1     0       24        0     1     1     1     2       1     2\n",
            "5     0     1     0       40        0     2     0     2     2       2     2\n",
            "6     0     0     0        0        0     2     0     2     2       4     2\n",
            "  PP04B_COD PP04B1 PP04B2 PP04B3_MES PP04B3_ANO PP04B3_DIA PP04C PP04C99\n",
            "1      5601      2      0          0          0          0     4       0\n",
            "2        85      2      0          0          0          0     7       0\n",
            "3      9301      2      0          0          0          0     8       0\n",
            "4      4806      2      0          0          0          0    99       2\n",
            "5      4000      2      0          0          0          0     1       0\n",
            "6      6900      2      0          0          0          0     3       0\n",
            "  PP04D_COD PP04G PP05B2_MES PP05B2_ANO PP05B2_DIA PP05C_1 PP05C_2 PP05C_3\n",
            "1     34314     4          0          0          0       0       0       0\n",
            "2     10332     1          0          0          0       0       0       0\n",
            "3     10333     1          0          0          0       0       0       0\n",
            "4     30314     1          0          0          0       0       0       0\n",
            "5     72113     8          0          0          0       1       3       1\n",
            "6     11333     1          0          0          0       0       0       0\n",
            "  PP05E PP05F PP05H PP06A PP06C PP06D PP06E PP06H PP07A PP07C PP07D PP07E\n",
            "1     0     0     0     0     0     0     0     0     5     2     0     0\n",
            "2     0     0     0     0     0     0     0     0     6     2     0     0\n",
            "3     0     0     0     0     0     0     0     0     6     2     0     0\n",
            "4     0     0     0     0     0     0     0     0     5     2     0     0\n",
            "5     1     7     6     2  6000     0     0     0     0     0     0     0\n",
            "6     0     0     0     0     0     0     0     0     5     2     0     0\n",
            "  PP07F1 PP07F2 PP07F3 PP07F4 PP07F5 PP07G1 PP07G2 PP07G3 PP07G4 PP07G_59 PP07H\n",
            "1      2      2      2      2      5      2      2      2      2        5     2\n",
            "2      2      2      2      2      5      1      1      1      1        0     1\n",
            "3      2      2      2      2      5      2      1      1      1        0     1\n",
            "4      2      2      2      2      5      1      1      1      1        0     1\n",
            "5      0      0      0      0      0      0      0      0      0        0     0\n",
            "6      2      2      2      2      5      1      1      1      2        0     2\n",
            "  PP07I PP07J PP07K PP08D1 PP08D4 PP08F1 PP08F2 PP08J1 PP08J2 PP08J3 PP09A\n",
            "1     2     1     4   1500      0      0      0      0      0      0     0\n",
            "2     0     1     1   9500      0      0      0      0      0      0     0\n",
            "3     0     1     1   7000      0      0      0      0      0      0     0\n",
            "4     0     1     1   8000      0      0      0      0      0      0     0\n",
            "5     0     0     0      0      0      0      0      0      0      0     0\n",
            "6     2     1     4  14000      0      0      0   7000      0      0     0\n",
            "  PP09A_ESP PP09B PP09C PP09C_ESP PP10A PP10C PP10D PP10E PP11A PP11B_COD\n",
            "1               0     0              NA    NA    NA    NA    NA        NA\n",
            "2               0     0              NA    NA    NA    NA    NA        NA\n",
            "3               0     0              NA    NA    NA    NA    NA        NA\n",
            "4               0     0              NA    NA    NA    NA    NA        NA\n",
            "5               0     0              NA    NA    NA    NA    NA        NA\n",
            "6               0     0              NA    NA    NA    NA    NA        NA\n",
            "  PP11B1 PP11B2_MES PP11B2_ANO PP11B2_DIA PP11C PP11C99 PP11D_COD PP11G_ANO\n",
            "1     NA         NA         NA         NA    NA      NA        NA        NA\n",
            "2     NA         NA         NA         NA    NA      NA        NA        NA\n",
            "3     NA         NA         NA         NA    NA      NA        NA        NA\n",
            "4     NA         NA         NA         NA    NA      NA        NA        NA\n",
            "5     NA         NA         NA         NA    NA      NA        NA        NA\n",
            "6     NA         NA         NA         NA    NA      NA        NA        NA\n",
            "  PP11G_MES PP11G_DIA PP11L PP11L1 PP11M PP11N PP11O PP11P PP11Q PP11R PP11S\n",
            "1        NA        NA    NA     NA    NA    NA    NA    NA    NA    NA    NA\n",
            "2        NA        NA    NA     NA    NA    NA    NA    NA    NA    NA    NA\n",
            "3        NA        NA    NA     NA    NA    NA    NA    NA    NA    NA    NA\n",
            "4        NA        NA    NA     NA    NA    NA    NA    NA    NA    NA    NA\n",
            "5        NA        NA    NA     NA    NA    NA    NA    NA    NA    NA    NA\n",
            "6        NA        NA    NA     NA    NA    NA    NA    NA    NA    NA    NA\n",
            "  PP11T   P21 DECOCUR IDECOCUR RDECOCUR GDECOCUR PDECOCUR ADECOCUR PONDIIO\n",
            "1    NA  1500       1        1        1        1       NA        1    1873\n",
            "2    NA  9500       5        5        5        5       NA        5     825\n",
            "3    NA  7000       4        4        4        3       NA        4    1494\n",
            "4    NA  8000       4        5        4        4       NA        4    1471\n",
            "5    NA  6000       3        4        3        3       NA        3    1345\n",
            "6    NA 14000       7        8        7        7       NA        7    1741\n",
            "  TOT_P12  P47T DECINDR IDECINDR RDECINDR GDECINDR PDECINDR ADECINDR PONDII\n",
            "1       0  1500       1        1        1        1       NA        1   1386\n",
            "2       0  9500       5        6        5        5       NA        5   1130\n",
            "3      -9    -9      12       12       12       12       NA       12      0\n",
            "4       0  8000       5        5        5        5       NA        5   1629\n",
            "5       0  6000       4        4        4        3       NA        4   1270\n",
            "6       0 21000       9        9        9        9       NA        9   2079\n",
            "  V2_M V3_M V4_M V5_M V8_M V9_M V10_M V11_M V12_M V18_M V19_AM V21_M T_VI   ITF\n",
            "1    0    0    0    0    0    0     0     0     0     0      0     0    0     0\n",
            "2    0    0    0    0    0    0     0     0     0     0      0     0    0  9500\n",
            "3    0    0    0    0    0    0     0     0  3000     0      0     0 3000     0\n",
            "4    0    0    0    0    0    0     0     0     0     0      0     0    0     0\n",
            "5    0    0    0    0    0    0     0     0     0     0      0     0    0  6000\n",
            "6    0    0    0    0    0    0     0     0     0     0      0     0    0 21000\n",
            "  DECIFR IDECIFR RDECIFR GDECIFR PDECIFR ADECIFR  IPCF DECCFR IDECCFR RDECCFR\n",
            "1     NA      NA      NA      NA      NA      NA     0     NA      NA      NA\n",
            "2      2       2       2       2      NA       2  9500      7       7       7\n",
            "3     NA      NA      NA      NA      NA      NA     0     NA      NA      NA\n",
            "4     NA      NA      NA      NA      NA      NA     0     NA      NA      NA\n",
            "5      1       1       1       1      NA       1  2000      1       1       1\n",
            "6      6       7       7       6      NA       7 21000     10      10      10\n",
            "  GDECCFR PDECCFR ADECCFR PONDIH\n",
            "1      NA      NA      NA      0\n",
            "2       7      NA       8   1196\n",
            "3      NA      NA      NA      0\n",
            "4      NA      NA      NA      0\n",
            "5       1      NA       1   1578\n",
            "6      10      NA      10   2137\n"
          ]
        }
      ]
    },
    {
      "cell_type": "markdown",
      "source": [
        "#### Realizar un gráfico de barras donde se compare **P21** para ambos valores de **PP07H**"
      ],
      "metadata": {
        "id": "Yx1ZD4fMJcip"
      }
    },
    {
      "cell_type": "code",
      "source": [
        "%%R\n",
        "\n",
        "p21_per_discount <- p21_per_discount %>%\n",
        "    mutate(discount_type = case_when(\n",
        "        PP07H == 0 ~ 'No aplica',\n",
        "        PP07H == 1 ~ 'Con descuento',\n",
        "        PP07H == 2 ~ 'Sin descuento'\n",
        "    ))\n",
        "head(p21_per_discount)"
      ],
      "metadata": {
        "colab": {
          "base_uri": "https://localhost:8080/"
        },
        "id": "ExxFau1xMfjh",
        "outputId": "338d48bf-151f-4053-eae6-ff5b9e704f3c"
      },
      "execution_count": 58,
      "outputs": [
        {
          "output_type": "stream",
          "name": "stdout",
          "text": [
            "# A tibble: 2 × 3\n",
            "  PP07H avg_p21 discount_type\n",
            "  <int>   <dbl> <chr>        \n",
            "1     1  12426. Con descuento\n",
            "2     2   4992. Sin descuento\n"
          ]
        }
      ]
    },
    {
      "cell_type": "code",
      "source": [
        "%%R\n",
        "\n",
        "ggplot(\n",
        "    data = p21_per_discount,\n",
        "    aes(x = discount_type, avg_p21, fill = discount_type)\n",
        ") +\n",
        "    geom_col(alpha=0.75) +\n",
        "    labs(title = \"Sueldo promedio por tipo de descuento\") +\n",
        "    theme(legend.position = 'none')"
      ],
      "metadata": {
        "colab": {
          "base_uri": "https://localhost:8080/",
          "height": 497
        },
        "id": "paCdwT37MiEY",
        "outputId": "c65c6cb8-51b9-4d03-d465-f2ada94494fa"
      },
      "execution_count": 59,
      "outputs": [
        {
          "output_type": "display_data",
          "data": {
            "image/png": "[encoded data removed]"
          },
          "metadata": {}
        }
      ]
    },
    {
      "cell_type": "markdown",
      "source": [
        "#### Representar la distribución del ingreso por ocupación principal (Variable **P21**)  para Asalariados, Cuentapropistas y Patrones (Variable **CAT_OCUP**), con el tipo de gráfico Kernel"
      ],
      "metadata": {
        "id": "mQS9pIfEJfd4"
      }
    },
    {
      "cell_type": "code",
      "source": [
        "%%R\n",
        "\n",
        "income_per_ocup <- usu %>%\n",
        "    select(CAT_OCUP, P21) %>%\n",
        "    mutate(GROUP = case_when(\n",
        "        CAT_OCUP == 3 ~ 'Asalariados',\n",
        "        CAT_OCUP == 2 ~ 'Cuentapropistas',\n",
        "        CAT_OCUP == 1 ~ 'Patrones'\n",
        "    ))\n",
        "\n",
        "head(income_per_ocup)"
      ],
      "metadata": {
        "colab": {
          "base_uri": "https://localhost:8080/"
        },
        "id": "LI570XVQMpYB",
        "outputId": "ed9d573c-2732-4be9-f3ed-bb360d8995ae"
      },
      "execution_count": 60,
      "outputs": [
        {
          "output_type": "stream",
          "name": "stdout",
          "text": [
            "  CAT_OCUP   P21           GROUP\n",
            "1        3  1500     Asalariados\n",
            "2        3  9500     Asalariados\n",
            "3        3  7000     Asalariados\n",
            "4        3  8000     Asalariados\n",
            "5        2  6000 Cuentapropistas\n",
            "6        3 14000     Asalariados\n"
          ]
        }
      ]
    },
    {
      "cell_type": "code",
      "source": [
        "%%R\n",
        "\n",
        "ggplot(\n",
        "    income_per_ocup,\n",
        "    aes(x = P21, group = GROUP, fill = GROUP)\n",
        ") + geom_density(\n",
        "    alpha = 0.7,\n",
        "    adjust = 2\n",
        ") + scale_x_continuous(\n",
        "    limits = c(0, 60000)\n",
        ") + labs(\n",
        "    x = 'Distribución de sueldos',\n",
        "    y = '',\n",
        "    title = 'Dendidad de sueldos según puesto'\n",
        ") + theme(\n",
        "    legend.position = 'bottom'\n",
        ")"
      ],
      "metadata": {
        "colab": {
          "base_uri": "https://localhost:8080/",
          "height": 497
        },
        "id": "yNxmyT2HMscA",
        "outputId": "48c17fef-fc76-4a2d-a697-316ec0d5f0d7"
      },
      "execution_count": 61,
      "outputs": [
        {
          "output_type": "display_data",
          "data": {
            "image/png": "[encoded data removed]"
          },
          "metadata": {}
        }
      ]
    },
    {
      "cell_type": "markdown",
      "source": [
        "En este gráfico, el **límite x** regula el valor máximo a mostrar en el eje X. Un valor mayor harán que se muestren más _outlayers_, y que la diferencia de densidades sea más difícil de ver.\n",
        "\n",
        "Pese a que el valor recomendado en el enunciado era de 50.000, lo subí a 60.000 para ver la mayor cantidad de datos posible antes de que comiencen a aparecer los valores extremos."
      ],
      "metadata": {
        "id": "wPDyct2SMxAB"
      }
    },
    {
      "cell_type": "markdown",
      "source": [
        "#### (OPCIONAL) Hacer un gráfico boxplot de la distribución de edades de los asalariados con descuento jubilatorio, y de los asalariados sin descuento jubilatorio."
      ],
      "metadata": {
        "id": "ha6-0MVuJhtJ"
      }
    },
    {
      "cell_type": "code",
      "source": [
        "%%R\n",
        "\n",
        "age_distribution <- usu %>%\n",
        "    filter(PP07H != 0 & CAT_OCUP == 3) %>%\n",
        "    select(PP07H, CH06, CAT_OCUP) %>%\n",
        "    mutate(GROUP = case_when(\n",
        "        PP07H == 1 ~ 'Con descuento',\n",
        "        PP07H == 2 ~ 'Sin descuento'\n",
        "    ))\n",
        "\n",
        "head(age_distribution)"
      ],
      "metadata": {
        "colab": {
          "base_uri": "https://localhost:8080/"
        },
        "id": "sgWBL3NKNoOi",
        "outputId": "7961d6e2-b8a8-4ecf-980e-61bed6fb490c"
      },
      "execution_count": 62,
      "outputs": [
        {
          "output_type": "stream",
          "name": "stdout",
          "text": [
            "  PP07H CH06 CAT_OCUP         GROUP\n",
            "1     2   20        3 Sin descuento\n",
            "2     1   64        3 Con descuento\n",
            "3     1   30        3 Con descuento\n",
            "4     1   24        3 Con descuento\n",
            "5     2   59        3 Sin descuento\n",
            "6     1   41        3 Con descuento\n"
          ]
        }
      ]
    },
    {
      "cell_type": "code",
      "source": [
        "%%R\n",
        "\n",
        "ggplot(\n",
        "    age_distribution,\n",
        "    aes(\n",
        "        x = GROUP,\n",
        "        y = CH06,\n",
        "        fill = GROUP\n",
        "    )\n",
        ")   + geom_boxplot() + labs(\n",
        "            title = 'Diagrama de caja de edades según tipo de descuento',\n",
        "            x = 'Tipo de descuento',\n",
        "            y = 'Edad'\n",
        "    ) + theme(\n",
        "        legend.position = 'bottom'\n",
        "    )"
      ],
      "metadata": {
        "colab": {
          "base_uri": "https://localhost:8080/",
          "height": 497
        },
        "id": "4RYmu-h7Nr1Y",
        "outputId": "05955b37-3757-4ea1-df3c-f528d31a00ef"
      },
      "execution_count": 65,
      "outputs": [
        {
          "output_type": "display_data",
          "data": {
            "image/png": "[encoded data removed]"
          },
          "metadata": {}
        }
      ]
    },
    {
      "cell_type": "markdown",
      "source": [
        "#### (OPCIONAL) Calcular el procentaje de asalariados sin descuento jubilatorio como $\\frac{Asal. s/ desc jubil}{Asal. c/ desc jubil+ Asal.s/ desc jubil}$. Luego realizar un gráfico de linea con la evolución de este indicador"
      ],
      "metadata": {
        "id": "yvw2HjnjJjnA"
      }
    },
    {
      "cell_type": "code",
      "source": [
        "%%R\n",
        "\n",
        "discount_evolution <- usu %>%\n",
        "    filter(CAT_OCUP == 3 | PP07H != 0) %>%\n",
        "    group_by(CH06) %>%\n",
        "    summarise(percento = (sum(PP07H == 2) / (sum(PP07H == 2) + sum(PP07H == 1))) * 100)\n",
        "head(discount_evolution)"
      ],
      "metadata": {
        "colab": {
          "base_uri": "https://localhost:8080/"
        },
        "id": "IweM2bbmO1tY",
        "outputId": "5811557f-ee5d-4f3d-e288-7f7361df817f"
      },
      "execution_count": 66,
      "outputs": [
        {
          "output_type": "stream",
          "name": "stdout",
          "text": [
            "# A tibble: 6 × 2\n",
            "   CH06 percento\n",
            "  <int>    <dbl>\n",
            "1    11    100  \n",
            "2    15    100  \n",
            "3    16    100  \n",
            "4    17     91.2\n",
            "5    18     85  \n",
            "6    19     72.7\n"
          ]
        }
      ]
    },
    {
      "cell_type": "code",
      "source": [
        "%%R\n",
        "ggplot(\n",
        "    discount_evolution,\n",
        "    aes(\n",
        "        x = CH06,\n",
        "        y = percento,\n",
        "        fill = CH06\n",
        "    )\n",
        ") + geom_line() +\n",
        "    labs(\n",
        "        x = 'Edad',\n",
        "        y = 'Asalariados sin descuento',\n",
        "        title = 'Evolución de descuentos jubilatorios según la edad'\n",
        "    )"
      ],
      "metadata": {
        "colab": {
          "base_uri": "https://localhost:8080/",
          "height": 497
        },
        "id": "NQ-3wDw9O2Rp",
        "outputId": "82f1119c-31e5-4bea-926c-81ffb66210a3"
      },
      "execution_count": 68,
      "outputs": [
        {
          "output_type": "display_data",
          "data": {
            "image/png": "[encoded data removed]"
          },
          "metadata": {}
        }
      ]
    },
    {
      "cell_type": "markdown",
      "source": [
        "Podemos ver picos y cambios irregulares a partir de la edad ~65, y viendo los puntos extremos en el gráfico anterior, podemos intuir que a partir de dicha edad los datos sean:\n",
        "\n",
        "* _outlayers_ que no deberían ser tenidos en cuenta\n",
        "* Insuficientes, pues faltan datos ya que poca población trabaja a partir de los 65 años."
      ],
      "metadata": {
        "id": "KNm6lv3zO6Vg"
      }
    }
  ],
  "metadata": {
    "language_info": {
      "name": "python"
    },
    "colab": {
      "provenance": [],
      "collapsed_sections": [
        "y4Sko_t39h3b",
        "a1HUm0Dw9h3c",
        "fjRfY_ld-7_S",
        "sCbGewln_Y_S",
        "crvynM2d_fOS",
        "5BTfQHbS_udI",
        "-noifPgm9h3c",
        "pgCgfSDv9h3c",
        "C8oAWDoR9h3c",
        "WYJFtXtE9h3c",
        "awckkPLCFZhZ",
        "h_n14L4PJTTK"
      ]
    },
    "kernelspec": {
      "name": "python3",
      "display_name": "Python 3"
    }
  },
  "nbformat": 4,
  "nbformat_minor": 0
}