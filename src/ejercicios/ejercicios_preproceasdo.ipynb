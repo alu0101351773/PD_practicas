{
 "cells": [
  {
   "cell_type": "markdown",
   "metadata": {},
   "source": [
    "# Ejercicios de preprocesado de datos"
   ]
  },
  {
   "cell_type": "markdown",
   "metadata": {},
   "source": [
    "## Introducción a _python_"
   ]
  },
  {
   "cell_type": "markdown",
   "metadata": {},
   "source": [
    "### Ejercicio 1"
   ]
  },
  {
   "cell_type": "markdown",
   "metadata": {},
   "source": [
    "Un *número racional* se define como el cociente de dos enteros $a$ y $b$, llamados el *numerador* y el *denominador*, respectivamente, donde $b \\ne 0$.\n",
    "\n",
    "Aunque en Python ya existe un [módulo para fracciones (números racionales)](https://docs.python.org/3.1/library/fractions.html), vamos a hacer el nuestro propio. Para elo, implemente una clase `Rational` con, al menos, los siguientes métodos:\n",
    "\n",
    "* El constructor de la clase que recibe por parámetros numerador y denominador.\n",
    "\n",
    "* La representación de una fracción $r = \\frac{a}{b}$ como `a / b`\n",
    "\n",
    "* El valor real de un número racional.\n",
    "\n",
    "* El valor absoluto de un número racional:\n",
    "\n",
    "$$\n",
    "r = \\frac{a}{b};\\ |r| = \\frac{|a|}{|b|}\n",
    "$$"
   ]
  },
  {
   "cell_type": "code",
   "execution_count": 9,
   "metadata": {},
   "outputs": [],
   "source": [
    "class Rational:\n",
    "    def __init__(self, numerator, denominator):\n",
    "        self._numerator = numerator\n",
    "        self._denominator = denominator\n",
    "\n",
    "    def representation(self):\n",
    "        return f'{self._numerator} / {self._denominator}'\n",
    "    \n",
    "    def real_value(self):\n",
    "        return self._numerator / self._denominator\n",
    "    \n",
    "    def abs_value(self):\n",
    "        return abs(self.real_value())"
   ]
  },
  {
   "cell_type": "code",
   "execution_count": 11,
   "metadata": {},
   "outputs": [
    {
     "name": "stdout",
     "output_type": "stream",
     "text": [
      "\n",
      "    Representacion de Foo:  2 / 3\n",
      "    Valor real de Foo:      0.6666666666666666\n",
      "    Valos absoluto:         0.6666666666666666\n",
      "\n"
     ]
    }
   ],
   "source": [
    "foo = Rational(2, 3)\n",
    "\n",
    "print(f'''\n",
    "    Representacion de Foo:  {foo.representation()}\n",
    "    Valor real de Foo:      {foo.real_value()}\n",
    "    Valos absoluto:         {foo.abs_value()}\n",
    "''')"
   ]
  },
  {
   "cell_type": "markdown",
   "metadata": {},
   "source": [
    "### Ejercicio 2"
   ]
  },
  {
   "cell_type": "markdown",
   "metadata": {},
   "source": [
    "* La suma de dos números racionales:\n",
    "\n",
    "$$\n",
    "r1 = \\frac{a1}{b1};\\ r2 = \\frac{a2}{b2};\\ r1 + r2 = \\frac{a1 \\cdot b2 + a2 * b1}{b1 \\cdot b2}\n",
    "$$\n",
    "\n",
    "* La diferencia de dos números racionales:\n",
    "\n",
    "$$\n",
    "r1 = \\frac{a1}{b1};\\ r2 = \\frac{a2}{b2};\\ r1 - r2 = \\frac{a1 \\cdot b2 - a2 \\cdot b1}{b1 \\cdot b2}\n",
    "$$\n",
    "\n",
    "* El producto de dos números racionales:\n",
    "\n",
    "$$\n",
    "r1 = \\frac{a1}{b1};\\ r2 = \\frac{a2}{b2};\\ r1 \\cdot r2 = \\frac{a1 \\cdot a2}{b1 \\cdot b2}\n",
    "$$\n",
    "\n",
    "* La división de dos números racionales:\n",
    "\n",
    "$$\n",
    "r1 = \\frac{a1}{b1};\\ r2 = \\frac{a2}{b2};\\ \\frac{r1}{r2} = \\frac{a1 \\cdot b2}{a2 \\cdot b1}\n",
    "$$"
   ]
  },
  {
   "cell_type": "markdown",
   "metadata": {},
   "source": [
    "### Ejercicio 3"
   ]
  },
  {
   "cell_type": "markdown",
   "metadata": {},
   "source": [
    "* La exponenciación de un número racional $r$ a un número flotante $x$ (devuelve un número flotante):\n",
    "\n",
    "$$\n",
    "r = \\frac{a}{b};\\ x \\in \\mathbb{R};\\ r^x = a^x / b^x\n",
    "$$\n",
    "\n",
    "* La igualdad de dos números racionales:\n",
    "\n",
    "$$\n",
    "r1 = \\frac{a1}{b1};\\ r2 = \\frac{a2}{b2};\\ r1 = r2 \\iff a1 \\cdot b2 = b1 \\cdot a2\n",
    "$$\n",
    "\n",
    "La implementación de los números racionales debería siempre ser reducido a los términos más pequeños. Por ejemplo, $\\frac{4}{4}$ debería ser reducido a $\\frac{1}{1}$, $\\frac{30}{60}$ debería ser reducido a $\\frac{1}{2}$, $\\frac{12}{8}$ debería ser reducido a $\\frac{3}{2}$, etc. Para reducir un número racional $r = \\frac{a}{b}$ divida $a$ y $b$ por el *máximo común divisor* de numerador y denominador. Por ejemplo, $mcd(12, 8) = 4$ así que $r=\\frac{12}{8}$ puede ser reducido a $\\frac{12/4}{8/4}=\\frac{3}{2}$"
   ]
  },
  {
   "cell_type": "markdown",
   "metadata": {},
   "source": [
    "## Las librerías _matplotlib_ y _plotly_"
   ]
  },
  {
   "cell_type": "markdown",
   "metadata": {},
   "source": [
    "## La librería _pandas_"
   ]
  }
 ],
 "metadata": {
  "kernelspec": {
   "display_name": "Python 3",
   "language": "python",
   "name": "python3"
  },
  "language_info": {
   "codemirror_mode": {
    "name": "ipython",
    "version": 3
   },
   "file_extension": ".py",
   "mimetype": "text/x-python",
   "name": "python",
   "nbconvert_exporter": "python",
   "pygments_lexer": "ipython3",
   "version": "3.11.5"
  },
  "orig_nbformat": 4
 },
 "nbformat": 4,
 "nbformat_minor": 2
}
