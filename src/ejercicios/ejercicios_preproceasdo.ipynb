{
 "cells": [
  {
   "cell_type": "markdown",
   "metadata": {},
   "source": [
    "# Ejercicios de preprocesado de datos"
   ]
  },
  {
   "cell_type": "markdown",
   "metadata": {},
   "source": [
    "## Introducción a _python_"
   ]
  },
  {
   "cell_type": "markdown",
   "metadata": {},
   "source": [
    "Cargar el fichero de Sentry: Earth Impact Monitoring que están en \"cneos_sentry_summary_data.csv\" (Fuente: [Center for Near Earth Object Studies - NASA](https://cneos.jpl.nasa.gov/sentry/#legend)).Calcular:\n",
    "\n",
    "- Probabilidad media de que impacte algún objeto en la Tierra.\n",
    "- Diámetro máximo de los objetos recogidos en la base de datos.\n",
    "- Rango medio de años en formato `[min_year, max_year]`.\n",
    "- Nombre del objeto que viaja a mayor velocidad."
   ]
  },
  {
   "cell_type": "markdown",
   "metadata": {},
   "source": [
    "### Lectura de fichero y creación de estructura de datos"
   ]
  },
  {
   "cell_type": "code",
   "execution_count": null,
   "metadata": {},
   "outputs": [],
   "source": [
    "# Creación de estructura de datos\n",
    "dataset = []\n",
    "\n",
    "# Lectura de fichero\n",
    "with open('../../data/cneos_sentry_summary_data.csv', 'r') as file:\n",
    "    # Lectura de cabecera\n",
    "    header = file.readline().strip().split(',')\n",
    "    # Lectura de datos\n",
    "    for line in file:\n",
    "        line = line.strip()\n",
    "        line = [val.removeprefix('\"').removesuffix('\"') for val in line.split(',')] \n",
    "        dataset.append({\n",
    "            'Object Designation': line[0],\n",
    "            'Year Range': [int(value) for value in line[1].split('-')],\n",
    "            'Potential Impacts': int(line[2]),\n",
    "            'cum Impact Probability': float(line[3]),\n",
    "            'V_infinity': float(line[4]),\n",
    "            'H': float(line[5]),\n",
    "            'Estimated Diameter': float(line[6]),\n",
    "            'cum Palermo Scale': float(line[7]),\n",
    "            'max Palermo Scale': float(line[8]),\n",
    "            'max Torino Scale': int(line[9]) if line[9] != '' else 0,\n",
    "        })"
   ]
  },
  {
   "cell_type": "markdown",
   "metadata": {},
   "source": [
    "### Probabilidad media de que impacte algún objeto en la tierra"
   ]
  },
  {
   "cell_type": "code",
   "execution_count": null,
   "metadata": {},
   "outputs": [],
   "source": [
    "impact_probability = sum([row['cum Impact Probability'] for row in dataset]) / len(dataset)\n",
    "\n",
    "print(f'Probabilidad media de impacto: {impact_probability * 100:.4f}%')"
   ]
  },
  {
   "cell_type": "markdown",
   "metadata": {},
   "source": [
    "### Diámetro máximo de los objetos recogidos"
   ]
  },
  {
   "cell_type": "code",
   "execution_count": null,
   "metadata": {},
   "outputs": [],
   "source": [
    "max_diameter = max([row[\"Estimated Diameter\"] for row in dataset])\n",
    "\n",
    "print(f'Diametro maximo de objetos: {max_diameter} Km')"
   ]
  },
  {
   "cell_type": "markdown",
   "metadata": {},
   "source": [
    "### Rango medio de años en formato `[min_year, max_year]`"
   ]
  },
  {
   "cell_type": "code",
   "execution_count": null,
   "metadata": {},
   "outputs": [],
   "source": [
    "lower_bound = sum(row['Year Range'][0] for row in dataset) / len(dataset)\n",
    "upper_bound = sum(row['Year Range'][1] for row in dataset) / len(dataset)\n",
    "\n",
    "years_range = [lower_bound, upper_bound]\n",
    "\n",
    "print(f'Rango medio de años: {years_range}')"
   ]
  },
  {
   "cell_type": "markdown",
   "metadata": {},
   "source": [
    "### Nombre del objeto que viaja a mayor velocidad"
   ]
  },
  {
   "cell_type": "code",
   "execution_count": null,
   "metadata": {},
   "outputs": [],
   "source": [
    "fastest_item = max(\n",
    "    dataset,\n",
    "    key = lambda x: x.get('V_infinity')\n",
    ")\n",
    "\n",
    "print(f'Objeto mas veloz del conjunto de datos: {fastest_item[\"Object Designation\"]}')"
   ]
  },
  {
   "cell_type": "markdown",
   "metadata": {},
   "source": [
    "## La librería _pandas_"
   ]
  },
  {
   "cell_type": "markdown",
   "metadata": {},
   "source": [
    "Para el conjunto de datos de apps de Google Play 'googleplaystore.csv':\n",
    "\n",
    "- Crear un dataframe a partir del csv 'googleplaystore.csv'\n",
    "- Obtener el tipo de todas las columnas\n",
    "- Comprobar el número de valores nulos que tienen las columnas\n",
    "- Obtener el número de apps que no tienen ninguna review"
   ]
  },
  {
   "cell_type": "markdown",
   "metadata": {},
   "source": [
    "### Crear un dataframe a partir del csv 'googleplaystore.csv'"
   ]
  },
  {
   "cell_type": "code",
   "execution_count": null,
   "metadata": {},
   "outputs": [],
   "source": [
    "import pandas as pd\n",
    "\n",
    "dataset = pd.read_csv('../../data/app_store_transformed.csv')\n",
    "\n",
    "display(dataset)"
   ]
  },
  {
   "cell_type": "markdown",
   "metadata": {},
   "source": [
    "### Obtener el tipo de todas las columnas"
   ]
  },
  {
   "cell_type": "code",
   "execution_count": null,
   "metadata": {},
   "outputs": [],
   "source": [
    "display(dataset.dtypes)"
   ]
  },
  {
   "cell_type": "markdown",
   "metadata": {},
   "source": [
    "### Comprobar el número de valores nulos que tienen las columnas"
   ]
  },
  {
   "cell_type": "code",
   "execution_count": null,
   "metadata": {},
   "outputs": [],
   "source": [
    "display(dataset.isnull().sum())"
   ]
  },
  {
   "cell_type": "markdown",
   "metadata": {},
   "source": [
    "### Obtener el número de apps que no tienen ninguna review"
   ]
  },
  {
   "cell_type": "code",
   "execution_count": null,
   "metadata": {},
   "outputs": [],
   "source": [
    "unreviewed_apps = dataset.loc[dataset['Reviews'] == 0].shape[0]\n",
    "\n",
    "print(f'Numero de apps sin review asociadas: {unreviewed_apps}')"
   ]
  },
  {
   "cell_type": "markdown",
   "metadata": {},
   "source": [
    "## Las librerías _matplotlib_ y _plotly_"
   ]
  }
 ],
 "metadata": {
  "kernelspec": {
   "display_name": "Python 3",
   "language": "python",
   "name": "python3"
  },
  "language_info": {
   "codemirror_mode": {
    "name": "ipython",
    "version": 3
   },
   "file_extension": ".py",
   "mimetype": "text/x-python",
   "name": "python",
   "nbconvert_exporter": "python",
   "pygments_lexer": "ipython3",
   "version": "3.11.5"
  },
  "orig_nbformat": 4
 },
 "nbformat": 4,
 "nbformat_minor": 2
}
